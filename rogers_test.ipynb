{
 "cells": [
  {
   "cell_type": "markdown",
   "id": "43863f18",
   "metadata": {
    "tags": []
   },
   "source": [
    "### Notebook to test the Rogers (2010) conv/strat classification algorithm being applied to WRF TC output, based on Rosi's F90 algorithm.\n",
    "\n",
    "James Ruppert  \n",
    "jruppert@ou.edu  \n",
    "11/25/22"
   ]
  },
  {
   "cell_type": "code",
   "execution_count": 18,
   "id": "4cb54873",
   "metadata": {
    "tags": []
   },
   "outputs": [],
   "source": [
    "from netCDF4 import Dataset\n",
    "import numpy as np\n",
    "import matplotlib\n",
    "from matplotlib import ticker\n",
    "import matplotlib.pyplot as plt\n",
    "import subprocess\n",
    "import wrf"
   ]
  },
  {
   "cell_type": "markdown",
   "id": "82f31aab",
   "metadata": {},
   "source": [
    "#### Directories and settings"
   ]
  },
  {
   "cell_type": "code",
   "execution_count": 7,
   "id": "09231513",
   "metadata": {},
   "outputs": [],
   "source": [
    "storm = 'haiyan'\n",
    "main = \"/ourdisk/hpc/radclouds/auto_archive_notyet/tape_2copies/wrfenkf/\"\n",
    "figdir = \"/home/jamesrup/figures/tc/ens/\"+storm+'/'\n",
    "\n",
    "# Time selection\n",
    "it_read = 37\n",
    "hr_tag = str(np.char.zfill(str(it_read), 2))\n",
    "\n",
    "# Simulation and test to read\n",
    "memb = 'memb_01'\n",
    "test = 'ctl'\n",
    "\n",
    "datdir = main+storm+'/'+memb+'/'+test+'/'"
   ]
  },
  {
   "cell_type": "markdown",
   "id": "82f31aab",
   "metadata": {},
   "source": [
    "#### Read variables"
   ]
  },
  {
   "cell_type": "code",
   "execution_count": 20,
   "id": "c22b1500",
   "metadata": {},
   "outputs": [],
   "source": [
    "# List of WRF output files\n",
    "process = subprocess.Popen(['ls '+datdir+'wrfout_d02_*'],shell=True,\n",
    "    stdout=subprocess.PIPE,universal_newlines=True)\n",
    "# find desired time\n",
    "for it in range(it_read): output = process.stdout.readline()\n",
    "\n",
    "wrffil_path = output.strip() #[3]\n",
    "wrfnc = Dataset(wrffil_path)\n",
    "z = wrf.getvar(wrfnc,'z',units='m')\n",
    "dbz = wrf.getvar(wrfnc,'dbz')\n",
    "w = wrf.getvar(wrfnc,'wa')\n",
    "# wrfnc.close()"
   ]
  },
  {
   "cell_type": "markdown",
   "id": "2b91ee54",
   "metadata": {},
   "source": [
    "#### Vertical interpolation"
   ]
  },
  {
   "cell_type": "code",
   "execution_count": 21,
   "id": "3c58530b",
   "metadata": {},
   "outputs": [],
   "source": [
    "z1 = 400 # m\n",
    "z2 = 1000 # m\n",
    "dbz_z = wrf.interplevel(dbz,z,(z1,z2))\n",
    "w_z = wrf.interplevel(w,z,(z1,z2))"
   ]
  },
  {
   "cell_type": "markdown",
   "id": "2b91ee54",
   "metadata": {},
   "source": [
    "#### Run classification algorithm"
   ]
  },
  {
   "cell_type": "code",
   "execution_count": 26,
   "id": "3c58530b",
   "metadata": {},
   "outputs": [],
   "source": [
    "dx = wrfnc.DX*1e-3\n",
    "dy = wrfnc.DY*1e-3"
   ]
  },
  {
   "cell_type": "code",
   "execution_count": 27,
   "id": "a095dab6",
   "metadata": {},
   "outputs": [],
   "source": [
    "wrfnc.close()"
   ]
  },
  {
   "cell_type": "markdown",
   "id": "2b91ee54",
   "metadata": {},
   "source": [
    "#### Classification algorithm function"
   ]
  },
  {
   "cell_type": "code",
   "execution_count": null,
   "id": "552a643a",
   "metadata": {},
   "outputs": [],
   "source": [
    "def classify(dbz,w,dx,dy):\n",
    "    \n",
    "    nx = dbz.west_east.size\n",
    "    ny = dbz.north_south.size\n",
    "    nz = dbz.level.size\n",
    "\n",
    "    for ik in range(nz):\n",
    "        "
   ]
  }
 ],
 "metadata": {
  "kernelspec": {
   "display_name": "Python 3.9.12 ('plotting')",
   "language": "python",
   "name": "python3"
  },
  "language_info": {
   "codemirror_mode": {
    "name": "ipython",
    "version": 3
   },
   "file_extension": ".py",
   "mimetype": "text/x-python",
   "name": "python",
   "nbconvert_exporter": "python",
   "pygments_lexer": "ipython3",
   "version": "3.8.13"
  },
  "vscode": {
   "interpreter": {
    "hash": "ba66c6fa676980db47fde7e4bec9b37760d72b0a5b2c3cc0f1f376041f14579d"
   }
  }
 },
 "nbformat": 4,
 "nbformat_minor": 5
}
