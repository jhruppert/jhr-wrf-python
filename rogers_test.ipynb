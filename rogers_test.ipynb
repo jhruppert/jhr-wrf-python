{
 "cells": [
  {
   "cell_type": "markdown",
   "id": "43863f18",
   "metadata": {
    "tags": []
   },
   "source": [
    "### Notebook to test conv/strat classification algorithm.\n",
    "\n",
    "Origins:\n",
    "- Steiner et al. (1995)\n",
    "- Rogers (2010)\n",
    "- Rios-Berrios (2020) f90 algorithm\n",
    "\n",
    "James Ruppert  \n",
    "jruppert@ou.edu  \n",
    "11/25/22"
   ]
  },
  {
   "cell_type": "code",
   "execution_count": 1,
   "id": "4cb54873",
   "metadata": {
    "tags": []
   },
   "outputs": [],
   "source": [
    "from netCDF4 import Dataset\n",
    "import numpy as np\n",
    "import matplotlib\n",
    "from matplotlib import ticker\n",
    "import matplotlib.pyplot as plt\n",
    "import subprocess\n",
    "import wrf\n",
    "from scipy.ndimage import uniform_filter"
   ]
  },
  {
   "cell_type": "markdown",
   "id": "82f31aab",
   "metadata": {},
   "source": [
    "#### Directories and settings"
   ]
  },
  {
   "cell_type": "code",
   "execution_count": 2,
   "id": "09231513",
   "metadata": {},
   "outputs": [],
   "source": [
    "storm = 'haiyan'\n",
    "main = \"/ourdisk/hpc/radclouds/auto_archive_notyet/tape_2copies/wrfenkf/\"\n",
    "figdir = \"/home/jamesrup/figures/tc/ens/\"+storm+'/'\n",
    "\n",
    "# Time selection\n",
    "it_read = 37\n",
    "hr_tag = str(np.char.zfill(str(it_read), 2))\n",
    "\n",
    "# Simulation and test to read\n",
    "memb = 'memb_01'\n",
    "test = 'ctl'\n",
    "\n",
    "datdir = main+storm+'/'+memb+'/'+test+'/'"
   ]
  },
  {
   "cell_type": "markdown",
   "id": "82f31aab",
   "metadata": {},
   "source": [
    "#### Read variables"
   ]
  },
  {
   "cell_type": "code",
   "execution_count": 3,
   "id": "c22b1500",
   "metadata": {},
   "outputs": [],
   "source": [
    "# List of WRF output files\n",
    "process = subprocess.Popen(['ls '+datdir+'wrfout_d02_*'],shell=True,\n",
    "    stdout=subprocess.PIPE,universal_newlines=True)\n",
    "# find desired time\n",
    "for it in range(it_read): output = process.stdout.readline()\n",
    "\n",
    "wrffil_path = output.strip() #[3]\n",
    "wrfnc = Dataset(wrffil_path)\n",
    "\n",
    "z = wrf.getvar(wrfnc,'z',units='m')\n",
    "dbz = wrf.getvar(wrfnc,'dbz')\n",
    "w = wrf.getvar(wrfnc,'wa')\n",
    "\n",
    "dx = wrfnc.DX*1e-3\n",
    "dy = wrfnc.DY*1e-3\n",
    "\n",
    "wrfnc.close()"
   ]
  },
  {
   "cell_type": "markdown",
   "id": "2b91ee54",
   "metadata": {},
   "source": [
    "#### Vertical interpolation"
   ]
  },
  {
   "cell_type": "code",
   "execution_count": 4,
   "id": "3c58530b",
   "metadata": {},
   "outputs": [],
   "source": [
    "z1 = 400 # m\n",
    "z2 = 1000 # m\n",
    "dbz_z = wrf.interplevel(dbz,z,(z1,z2))\n",
    "w_z = wrf.interplevel(w,z,(z1,z2))"
   ]
  },
  {
   "cell_type": "markdown",
   "id": "2b91ee54",
   "metadata": {},
   "source": [
    "#### Classification algorithm function\n",
    "\n",
    "rainclass = classify(dims, dx, dbz, w)\n",
    "\n",
    "Assumes dx = dy\n",
    "\n",
    "INPUT:\n",
    "- dims: tuple as dims=(nz,nx1,nx2)\n",
    "- dx1: delta-x1 in km\n",
    "- dx2: delta-x2 in km\n",
    "- dbz: radar reflectivity factor (dBZ) as f(z,x1,x2)\n",
    "- w: vertical motion (m/s) as f(z,x1,x2)\n",
    "\n",
    "RETURN:\n",
    "- classification as f(x1,x2), where\n",
    "    - 0 = non-raining\n",
    "    - 1 = conv\n",
    "    - 2 = strat\n",
    "    - 3 = other"
   ]
  },
  {
   "cell_type": "code",
   "execution_count": 11,
   "id": "552a643a",
   "metadata": {},
   "outputs": [],
   "source": [
    "def classify(dims, dx, dbz, w):\n",
    "\n",
    "    # Peakedness criteria\n",
    "    def deltadbz(dbz):\n",
    "      if dbz <= 0:\n",
    "        deltadbz=10\n",
    "      else:\n",
    "        # if dbz < 42.43: # Steiner\n",
    "        if dbz < 45: # Rogers\n",
    "          # deltadbz = 10 - ((dbz**2)/180) # Steiner\n",
    "          deltadbz = 15 - ((dbz**2)/135) # Rogers\n",
    "        else:\n",
    "          deltadbz = 0\n",
    "      return deltadbz\n",
    "\n",
    "    nz,nx1,nx2 = dims[0],dims[1],dims[2]\n",
    "\n",
    "    w_mean = np.mean(w, axis=0)\n",
    "\n",
    "    rainclass=np.zeros((nx1,nx2))\n",
    "\n",
    "    for ik in range(nz):\n",
    "\n",
    "        dbz_ik = np.copy(dbz[ik,:,:])\n",
    "        dbz_ik[np.where(~np.isfinite(dbz_ik))] = -9999\n",
    "\n",
    "        # Background reflectivity\n",
    "        xcheck = 11 # km; Steiner et al.\n",
    "        npts_radius = int(np.round(xcheck/dx))\n",
    "        dbz_bg = uniform_filter(dbz_ik, size=npts_radius, mode='nearest')\n",
    "\n",
    "        # First pass: dBZ > 45 = convective \n",
    "        ind = np.where(dbz_ik > 45)\n",
    "        count = ind[0].size\n",
    "        rainclass[ind] = 1\n",
    "\n",
    "        ind_le45 = np.where(dbz_ik <= 45)\n",
    "        count = ind_le45[0].size\n",
    "        if count == 0: continue\n",
    "\n",
    "        # Second pass: if averaged w < 0.1 m/s then it's unlikely to be convective\n",
    "        # ind_wlt = np.where(w_mean < 0.5)\n",
    "        ind_wgt = np.where(w_mean[ind_le45] >= 0.5)\n",
    "        count = ind_wgt[0].size\n",
    "        if count == 0: continue\n",
    "\n",
    "        # Background check\n",
    "        # delta = deltadbz(dbz_ik[ind_le45[ind_wgt]])\n",
    "        # print(delta)\n",
    "        # # diff = dbz\n",
    "\n",
    "    return rainclass"
   ]
  },
  {
   "cell_type": "code",
   "execution_count": 6,
   "id": "52e1f4a8",
   "metadata": {},
   "outputs": [],
   "source": [
    "# dbz_filt = np.copy(dbz_z)\n",
    "#     # dbz[np.where(~np.isfinite(dbz))] = -9999\n",
    "# dbz_filt[np.where(~np.isfinite(dbz_z))] = -9999\n",
    "# test_filt = uniform_filter(dbz_filt[0,:,:], size=(4,4), mode='nearest')\n",
    "# print(dbz_filt[0,200,0:20])\n",
    "# print()\n",
    "# print(test_filt[200,0:20])"
   ]
  },
  {
   "cell_type": "code",
   "execution_count": 12,
   "id": "3c58530b",
   "metadata": {},
   "outputs": [
    {
     "ename": "MemoryError",
     "evalue": "Unable to allocate 3.89 TiB for an array with shape (1033437, 1033437) and data type float32",
     "output_type": "error",
     "traceback": [
      "\u001b[0;31m---------------------------------------------------------------------------\u001b[0m",
      "\u001b[0;31mMemoryError\u001b[0m                               Traceback (most recent call last)",
      "Cell \u001b[0;32mIn [12], line 6\u001b[0m\n\u001b[1;32m      3\u001b[0m nz \u001b[39m=\u001b[39m dbz_z\u001b[39m.\u001b[39mlevel\u001b[39m.\u001b[39msize\n\u001b[1;32m      4\u001b[0m dims \u001b[39m=\u001b[39m (nz,ny,nx)\n\u001b[0;32m----> 6\u001b[0m rainclass \u001b[39m=\u001b[39m classify(dims, dx, dbz_z, w_z)\n",
      "Cell \u001b[0;32mIn [11], line 43\u001b[0m, in \u001b[0;36mclassify\u001b[0;34m(dims, dx, dbz, w)\u001b[0m\n\u001b[1;32m     39\u001b[0m \u001b[39mif\u001b[39;00m count \u001b[39m==\u001b[39m \u001b[39m0\u001b[39m: \u001b[39mcontinue\u001b[39;00m\n\u001b[1;32m     41\u001b[0m \u001b[39m# Second pass: if averaged w < 0.1 m/s then it's unlikely to be convective\u001b[39;00m\n\u001b[1;32m     42\u001b[0m \u001b[39m# ind_wlt = np.where(w_mean < 0.5)\u001b[39;00m\n\u001b[0;32m---> 43\u001b[0m ind_wgt \u001b[39m=\u001b[39m np\u001b[39m.\u001b[39mwhere(w_mean[ind_le45] \u001b[39m>\u001b[39m\u001b[39m=\u001b[39m \u001b[39m0.5\u001b[39m)\n\u001b[1;32m     44\u001b[0m count \u001b[39m=\u001b[39m ind_wgt[\u001b[39m0\u001b[39m]\u001b[39m.\u001b[39msize\n\u001b[1;32m     45\u001b[0m \u001b[39mif\u001b[39;00m count \u001b[39m==\u001b[39m \u001b[39m0\u001b[39m: \u001b[39mcontinue\u001b[39;00m\n",
      "File \u001b[0;32m~/miniconda3/envs/plotting/lib/python3.8/site-packages/xarray/core/dataarray.py:810\u001b[0m, in \u001b[0;36mDataArray.__getitem__\u001b[0;34m(self, key)\u001b[0m\n\u001b[1;32m    807\u001b[0m     \u001b[39mreturn\u001b[39;00m \u001b[39mself\u001b[39m\u001b[39m.\u001b[39m_getitem_coord(key)\n\u001b[1;32m    808\u001b[0m \u001b[39melse\u001b[39;00m:\n\u001b[1;32m    809\u001b[0m     \u001b[39m# xarray-style array indexing\u001b[39;00m\n\u001b[0;32m--> 810\u001b[0m     \u001b[39mreturn\u001b[39;00m \u001b[39mself\u001b[39;49m\u001b[39m.\u001b[39;49misel(indexers\u001b[39m=\u001b[39;49m\u001b[39mself\u001b[39;49m\u001b[39m.\u001b[39;49m_item_key_to_dict(key))\n",
      "File \u001b[0;32m~/miniconda3/envs/plotting/lib/python3.8/site-packages/xarray/core/dataarray.py:1381\u001b[0m, in \u001b[0;36mDataArray.isel\u001b[0;34m(self, indexers, drop, missing_dims, **indexers_kwargs)\u001b[0m\n\u001b[1;32m   1376\u001b[0m     \u001b[39mreturn\u001b[39;00m \u001b[39mself\u001b[39m\u001b[39m.\u001b[39m_from_temp_dataset(ds)\n\u001b[1;32m   1378\u001b[0m \u001b[39m# Much faster algorithm for when all indexers are ints, slices, one-dimensional\u001b[39;00m\n\u001b[1;32m   1379\u001b[0m \u001b[39m# lists, or zero or one-dimensional np.ndarray's\u001b[39;00m\n\u001b[0;32m-> 1381\u001b[0m variable \u001b[39m=\u001b[39m \u001b[39mself\u001b[39;49m\u001b[39m.\u001b[39;49m_variable\u001b[39m.\u001b[39;49misel(indexers, missing_dims\u001b[39m=\u001b[39;49mmissing_dims)\n\u001b[1;32m   1382\u001b[0m indexes, index_variables \u001b[39m=\u001b[39m isel_indexes(\u001b[39mself\u001b[39m\u001b[39m.\u001b[39mxindexes, indexers)\n\u001b[1;32m   1384\u001b[0m coords \u001b[39m=\u001b[39m {}\n",
      "File \u001b[0;32m~/miniconda3/envs/plotting/lib/python3.8/site-packages/xarray/core/variable.py:1258\u001b[0m, in \u001b[0;36mVariable.isel\u001b[0;34m(self, indexers, missing_dims, **indexers_kwargs)\u001b[0m\n\u001b[1;32m   1255\u001b[0m indexers \u001b[39m=\u001b[39m drop_dims_from_indexers(indexers, \u001b[39mself\u001b[39m\u001b[39m.\u001b[39mdims, missing_dims)\n\u001b[1;32m   1257\u001b[0m key \u001b[39m=\u001b[39m \u001b[39mtuple\u001b[39m(indexers\u001b[39m.\u001b[39mget(dim, \u001b[39mslice\u001b[39m(\u001b[39mNone\u001b[39;00m)) \u001b[39mfor\u001b[39;00m dim \u001b[39min\u001b[39;00m \u001b[39mself\u001b[39m\u001b[39m.\u001b[39mdims)\n\u001b[0;32m-> 1258\u001b[0m \u001b[39mreturn\u001b[39;00m \u001b[39mself\u001b[39;49m[key]\n",
      "File \u001b[0;32m~/miniconda3/envs/plotting/lib/python3.8/site-packages/xarray/core/variable.py:817\u001b[0m, in \u001b[0;36mVariable.__getitem__\u001b[0;34m(self, key)\u001b[0m\n\u001b[1;32m    804\u001b[0m \u001b[39m\"\"\"Return a new Variable object whose contents are consistent with\u001b[39;00m\n\u001b[1;32m    805\u001b[0m \u001b[39mgetting the provided key from the underlying data.\u001b[39;00m\n\u001b[1;32m    806\u001b[0m \n\u001b[0;32m   (...)\u001b[0m\n\u001b[1;32m    814\u001b[0m \u001b[39marray `x.values` directly.\u001b[39;00m\n\u001b[1;32m    815\u001b[0m \u001b[39m\"\"\"\u001b[39;00m\n\u001b[1;32m    816\u001b[0m dims, indexer, new_order \u001b[39m=\u001b[39m \u001b[39mself\u001b[39m\u001b[39m.\u001b[39m_broadcast_indexes(key)\n\u001b[0;32m--> 817\u001b[0m data \u001b[39m=\u001b[39m as_indexable(\u001b[39mself\u001b[39;49m\u001b[39m.\u001b[39;49m_data)[indexer]\n\u001b[1;32m    818\u001b[0m \u001b[39mif\u001b[39;00m new_order:\n\u001b[1;32m    819\u001b[0m     data \u001b[39m=\u001b[39m np\u001b[39m.\u001b[39mmoveaxis(data, \u001b[39mrange\u001b[39m(\u001b[39mlen\u001b[39m(new_order)), new_order)\n",
      "File \u001b[0;32m~/miniconda3/envs/plotting/lib/python3.8/site-packages/xarray/core/indexing.py:1264\u001b[0m, in \u001b[0;36mNumpyIndexingAdapter.__getitem__\u001b[0;34m(self, key)\u001b[0m\n\u001b[1;32m   1262\u001b[0m \u001b[39mdef\u001b[39;00m \u001b[39m__getitem__\u001b[39m(\u001b[39mself\u001b[39m, key):\n\u001b[1;32m   1263\u001b[0m     array, key \u001b[39m=\u001b[39m \u001b[39mself\u001b[39m\u001b[39m.\u001b[39m_indexing_array_and_key(key)\n\u001b[0;32m-> 1264\u001b[0m     \u001b[39mreturn\u001b[39;00m array[key]\n",
      "\u001b[0;31mMemoryError\u001b[0m: Unable to allocate 3.89 TiB for an array with shape (1033437, 1033437) and data type float32"
     ]
    }
   ],
   "source": [
    "nx = dbz_z.west_east.size\n",
    "ny = dbz_z.south_north.size\n",
    "nz = dbz_z.level.size\n",
    "dims = (nz,ny,nx)\n",
    "\n",
    "rainclass = classify(dims, dx, dbz_z, w_z)\n",
    "\n",
    "# print(np.max(rainclass),np.min(rainclass))\n",
    "# print(dbz_z[0,600:,200:])"
   ]
  }
 ],
 "metadata": {
  "kernelspec": {
   "display_name": "Python 3.9.12 ('plotting')",
   "language": "python",
   "name": "python3"
  },
  "language_info": {
   "codemirror_mode": {
    "name": "ipython",
    "version": 3
   },
   "file_extension": ".py",
   "mimetype": "text/x-python",
   "name": "python",
   "nbconvert_exporter": "python",
   "pygments_lexer": "ipython3",
   "version": "3.8.13"
  },
  "vscode": {
   "interpreter": {
    "hash": "ba66c6fa676980db47fde7e4bec9b37760d72b0a5b2c3cc0f1f376041f14579d"
   }
  }
 },
 "nbformat": 4,
 "nbformat_minor": 5
}
