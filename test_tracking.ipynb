{
 "cells": [
  {
   "cell_type": "markdown",
   "id": "229733dd-4215-4b1e-9d31-8251a352fb05",
   "metadata": {
    "tags": []
   },
   "source": [
    "### Notebook to test out vortex tracking from WRF TC output\n",
    "\n",
    "Assumes output is in a single netcdf file on pressure levels.\n",
    "\n",
    "James Ruppert  \n",
    "jruppert@ou.edu  \n",
    "June 2022"
   ]
  },
  {
   "cell_type": "code",
   "execution_count": 1,
   "id": "4cb54873",
   "metadata": {
    "tags": []
   },
   "outputs": [],
   "source": [
    "from netCDF4 import Dataset\n",
    "import numpy as np\n",
    "import matplotlib\n",
    "from matplotlib import ticker, cm\n",
    "import matplotlib.pyplot as plt\n",
    "import sys\n",
    "import cartopy\n",
    "# from smooth_runn_mn import smooth_runn_mn\n",
    "from scipy import ndimage\n",
    "from object_track import object_track\n",
    "# import cmocean\n",
    "# from thermo_functions import density_moist, theta_dry, theta_equiv, theta_virtual, relh\n",
    "# from stratiform_index import stratiform_index"
   ]
  },
  {
   "cell_type": "markdown",
   "id": "67e5bf48-6cc4-4eb9-a21d-c1314d72fa6f",
   "metadata": {},
   "source": [
    "#### Directories"
   ]
  },
  {
   "cell_type": "code",
   "execution_count": 2,
   "id": "09231513",
   "metadata": {},
   "outputs": [
    {
     "name": "stdout",
     "output_type": "stream",
     "text": [
      "/Users/jamesruppert/code/tc_output/haiyan/memb_01/ctl/\n"
     ]
    }
   ],
   "source": [
    "# figdir = \"/Users/jruppert/code/tc_figs/\"\n",
    "figdir = \"/Users/jamesruppert/code/git/tc_figs/\"\n",
    "\n",
    "main = \"/Users/jamesruppert/code/tc_output/\"\n",
    "# main = \"/Users/jruppert/code/tc_output/\"\n",
    "main+= 'haiyan' #!ls $main\n",
    "# print(storm)\n",
    "\n",
    "# istorm=storm[0]\n",
    "# memb = !ls $main/$istorm\n",
    "# imemb=memb[0]\n",
    "# print(main+istorm+'/'+imemb)\n",
    "\n",
    "# datdir = main+istorm+'/'+imemb+'/ctl/'\n",
    "datdir = main+'/memb_01/ctl/'\n",
    "print(datdir)"
   ]
  },
  {
   "cell_type": "markdown",
   "id": "04ad8517-e47a-4a14-83c6-18b08cb775ff",
   "metadata": {},
   "source": [
    "#### Read variables"
   ]
  },
  {
   "cell_type": "code",
   "execution_count": 3,
   "id": "87689a2d-c3ac-4406-989e-bf714c70ad2c",
   "metadata": {
    "tags": []
   },
   "outputs": [],
   "source": [
    "# LonLat\n",
    "fil = Dataset(datdir+'../../LATLON.nc') # this opens the netcdf file\n",
    "lon = fil.variables['XLONG'][:] # deg\n",
    "lon1d=lon[0,:]\n",
    "lat = fil.variables['XLAT'][:] # deg\n",
    "lat1d=lat[:,0]\n",
    "fil.close()\n",
    "llshape=np.shape(lon)\n",
    "nx = llshape[1]\n",
    "ny = llshape[0]\n",
    "\n",
    "# Pressure\n",
    "fil = Dataset(datdir+'U.nc') # this opens the netcdf file\n",
    "pres = fil.variables['pres'][:] # hPa\n",
    "fil.close()\n",
    "# nz = np.shape(pres)[0]"
   ]
  },
  {
   "cell_type": "code",
   "execution_count": 4,
   "id": "610c76dd-41d4-4e47-9687-608d730f3e0e",
   "metadata": {},
   "outputs": [
    {
     "name": "stdout",
     "output_type": "stream",
     "text": [
      "Tracking at: 400 hPa\n"
     ]
    }
   ],
   "source": [
    "# Level selection\n",
    "ptrack=400 # tracking pressure level\n",
    "ikread = np.where(pres == ptrack)[0][0]\n",
    "print('Tracking at:',round(pres[ikread]),'hPa')"
   ]
  },
  {
   "cell_type": "code",
   "execution_count": 5,
   "id": "0ceb5287-7a99-4451-8bdd-889529c308bf",
   "metadata": {
    "tags": []
   },
   "outputs": [],
   "source": [
    "# Horizontal wind\n",
    "ufil = Dataset(datdir+'U.nc') # this opens the netcdf file\n",
    "u = ufil.variables['U'][:,ikread,:,:] # m/s\n",
    "ufil.close()\n",
    "vfil = Dataset(datdir+'V.nc') # this opens the netcdf file\n",
    "v = vfil.variables['V'][:,ikread,:,:] # m/s\n",
    "vfil.close()\n",
    "\n",
    "nt=np.shape(u)[0]"
   ]
  },
  {
   "cell_type": "markdown",
   "id": "8eb20794-c030-4d71-afe5-cd9f2372b310",
   "metadata": {},
   "source": [
    "#### Calculate relative vorticity\n",
    "\n",
    "$\\zeta=\\hat k \\cdot \\nabla \\times \\vec{U} = \\dfrac{\\partial v}{\\partial x} - \\dfrac{\\partial u}{\\partial y}$\n",
    "\n",
    "For spherical: $\\dfrac{\\partial}{\\partial y} \\rightarrow \\dfrac{\\partial}{a\\partial \\Phi}$ and $\\dfrac{\\partial}{ \\partial x} \\rightarrow \\dfrac{\\partial}{a \\text{cos}(\\Phi) \\partial \\lambda}$, where $\\lambda$ is longitude, $a$ is Earth radius, and $\\Phi$ is latitude."
   ]
  },
  {
   "cell_type": "code",
   "execution_count": 6,
   "id": "c91beef3-3adc-401e-aaaa-b4284f5d7e3f",
   "metadata": {},
   "outputs": [
    {
     "data": {
      "text/plain": [
       "(169, 740, 1400)"
      ]
     },
     "execution_count": 6,
     "metadata": {},
     "output_type": "execute_result"
    }
   ],
   "source": [
    "np.shape(v)"
   ]
  },
  {
   "cell_type": "code",
   "execution_count": 7,
   "id": "533563ce-818e-403a-b83b-72e911c06654",
   "metadata": {},
   "outputs": [],
   "source": [
    "a = 6371e3 # Earth radius, m\n",
    "inva = 1./a\n",
    "inv_cos = 1./np.cos(np.radians(lat1d))\n",
    "\n",
    "dudy = np.gradient(u,lat1d,axis=1) * inva\n",
    "dvdx = np.gradient(v,lon1d,axis=2) * inv_cos[np.newaxis,:,np.newaxis] * inva\n",
    "\n",
    "# print(\"Shape of gradient variable:\",np.shape(dvdx))\n",
    "vor = (dvdx - dudy)"
   ]
  },
  {
   "cell_type": "markdown",
   "id": "cff88158-c74f-44cc-b36b-385fc317a95e",
   "metadata": {},
   "source": [
    "#### Conduct tracking"
   ]
  },
  {
   "cell_type": "code",
   "execution_count": 8,
   "id": "3cd200dc-8d01-407e-99b2-750b1fb1a848",
   "metadata": {},
   "outputs": [],
   "source": [
    "# Smooth vorticity\n",
    "nx_sm=9    # Following Chavas 2013 (XX smoothing run x30 times)\n",
    "# vor_smooth = object_track(vor, lon, lat, nx_sm)"
   ]
  },
  {
   "cell_type": "code",
   "execution_count": 9,
   "id": "27f807f5-df72-4943-be5b-4a1984e03868",
   "metadata": {},
   "outputs": [],
   "source": [
    "n_repeat=3\n",
    "# Smooth input variable\n",
    "f_smooth = ndimage.uniform_filter(vor,size=(0,nx_sm,nx_sm),mode='nearest')\n",
    "for ido in range(n_repeat-1):\n",
    "    f_smooth = ndimage.uniform_filter(f_smooth,size=(0,nx_sm,nx_sm),mode='nearest')\n",
    "\n",
    "# Retain only values ≥ 3 sigma\n",
    "f_sigma = f_smooth / np.std(f_smooth)\n",
    "f_masked = np.ma.array(f_sigma)\n",
    "f_masked = np.ma.masked_where(np.abs(f_masked) < 3, f_masked) #copy=True)"
   ]
  },
  {
   "cell_type": "code",
   "execution_count": 10,
   "id": "e9a76db8-fdfc-427b-93b7-ffb496be0d7d",
   "metadata": {},
   "outputs": [],
   "source": [
    "# print(np.min(f_sigma))\n",
    "# print(np.max(f_sigma))\n",
    "# print(np.min(np.abs(f_sigma)))\n",
    "# print()\n",
    "# print(np.min(f_masked))\n",
    "# print(np.max(f_masked))\n",
    "# print(np.min(np.abs(f_masked)))"
   ]
  },
  {
   "cell_type": "code",
   "execution_count": null,
   "id": "78c5eddd-b16a-435e-9d99-acf7b08cabd6",
   "metadata": {},
   "outputs": [],
   "source": []
  },
  {
   "cell_type": "markdown",
   "id": "a2f57e8c-426d-4b7a-8d27-c9807ffb3931",
   "metadata": {},
   "source": [
    "---\n",
    "### Plotting routines"
   ]
  },
  {
   "cell_type": "code",
   "execution_count": 11,
   "id": "2b1f9a92-d08b-4a21-8f9a-bdbc2589914f",
   "metadata": {},
   "outputs": [],
   "source": [
    "font = {'family' : 'sans-serif',\n",
    "        'weight' : 'normal',\n",
    "        'size'   : 16}\n",
    "\n",
    "matplotlib.rc('font', **font)"
   ]
  },
  {
   "cell_type": "markdown",
   "id": "45d95167-79b2-4feb-ba79-42b54fab49b9",
   "metadata": {},
   "source": [
    "#### Wind Speed"
   ]
  },
  {
   "cell_type": "code",
   "execution_count": 12,
   "id": "bd8c4fc4-d235-4b2f-b525-81237f95fb92",
   "metadata": {},
   "outputs": [
    {
     "name": "stdout",
     "output_type": "stream",
     "text": [
      "012\n",
      "013\n",
      "014\n",
      "015\n",
      "016\n",
      "017\n",
      "018\n",
      "019\n",
      "020\n",
      "021\n",
      "022\n",
      "023\n",
      "024\n",
      "025\n",
      "026\n",
      "027\n",
      "028\n",
      "029\n",
      "030\n",
      "031\n",
      "032\n",
      "033\n",
      "034\n",
      "035\n",
      "036\n",
      "037\n",
      "038\n",
      "039\n",
      "040\n",
      "041\n",
      "042\n",
      "043\n",
      "044\n",
      "045\n",
      "046\n",
      "047\n",
      "048\n",
      "049\n",
      "050\n",
      "051\n",
      "052\n",
      "053\n",
      "054\n",
      "055\n",
      "056\n",
      "057\n",
      "058\n",
      "059\n",
      "060\n",
      "061\n",
      "062\n",
      "063\n"
     ]
    }
   ],
   "source": [
    "# select plotting area\n",
    "plt_area=[np.min(lon), np.max(lon), np.min(lat), np.max(lat)] # W,E,S,N\n",
    "plt_area=[145, np.max(lon), 0, 15] # W,E,S,N\n",
    "\n",
    "# tsel=36\n",
    "for tsel in range(12,64):\n",
    "# for tsel in range(34,35):\n",
    "    \n",
    "    hr_tag = str(np.char.zfill(str(tsel), 3))\n",
    "    print(hr_tag)\n",
    "    \n",
    "    iu = u[tsel,:,:]\n",
    "    iv = v[tsel,:,:]\n",
    "    pltvar=f_masked[tsel,:,:]\n",
    "    \n",
    "    # sigma=np.std(pltvar)\n",
    "    sigma=np.max(np.abs(pltvar))\n",
    "    # print(\"Sigma = \",sigma)\n",
    "    # pltvar/=sigma\n",
    "\n",
    "    # create figure\n",
    "    fig = plt.figure(figsize=(20,10))\n",
    "    ax = fig.add_subplot(111,projection=cartopy.crs.PlateCarree())\n",
    "    ax.set_title(str(round(pres[ikread])) + ' hPa RVor (hr='+hr_tag+'), Sigma='+np.array2string(np.float16(sigma)), fontsize=20)\n",
    "\n",
    "    # fill contour\n",
    "    clevs = np.arange(2, 11, 1)\n",
    "    clevs = np.concatenate((-1*np.flip(clevs),clevs))\n",
    "\n",
    "    im = ax.contourf(lon, lat, pltvar, clevs, cmap='RdBu_r', alpha=0.6,\n",
    "                     extend='max', zorder=2)\n",
    "\n",
    "    cbar = plt.colorbar(im, ax=ax, shrink=0.75, ticks=ticker.AutoLocator())\n",
    "    cbar.ax.set_ylabel('sigma')\n",
    "            # cbar = plt.colorbar(im, ax=ax, shrink=0.75, ticks=ticker.AutoLocator)\n",
    "\n",
    "    # wind barbs\n",
    "    spacing=15 #barbspacing (smaller if zoomed in)\n",
    "    mps_to_kts=1.94384 # conversion factor from m/s to knots for barbs\n",
    "    uplt = iu * mps_to_kts\n",
    "    vplt = iv * mps_to_kts\n",
    "    # mask for speeds < 10 kts\n",
    "    spd = np.sqrt(uplt**2+vplt**2)\n",
    "    uplt=np.ma.masked_where(spd < 5, uplt, copy=False)\n",
    "\n",
    "    ax.barbs(lon[::spacing,::spacing], lat[::spacing,::spacing], \n",
    "                 uplt[::spacing,::spacing], vplt[::spacing,::spacing], zorder=2, length=6)\n",
    "\n",
    "    # add map features\n",
    "    ax.add_feature(cartopy.feature.LAND,facecolor=\"lightgray\") #land color\n",
    "    # ax.add_feature(cartopy.feature.OCEAN) #ocean color\n",
    "    ax.add_feature(cartopy.feature.COASTLINE)\n",
    "    # ax.add_feature(cartopy.feature.STATES)\n",
    "    ax.gridlines(draw_labels=True, dms=True, x_inline=False, y_inline=False)\n",
    "\n",
    "    # Zoom into selected area (comment this out to plot entire available area)\n",
    "    ax.set_extent(plt_area)\n",
    "\n",
    "    # plt.show()\n",
    "    plt.savefig(figdir+'vort'+str(round(pres[ikread]))+'_smx'+str(nx_sm)+'_'+hr_tag+'.png',dpi=200, facecolor='white', \\\n",
    "              bbox_inches='tight', pad_inches=0.2)\n",
    "    plt.close()"
   ]
  }
 ],
 "metadata": {
  "kernelspec": {
   "display_name": "Python 3 (ipykernel)",
   "language": "python",
   "name": "python3"
  },
  "language_info": {
   "codemirror_mode": {
    "name": "ipython",
    "version": 3
   },
   "file_extension": ".py",
   "mimetype": "text/x-python",
   "name": "python",
   "nbconvert_exporter": "python",
   "pygments_lexer": "ipython3",
   "version": "3.8.13"
  }
 },
 "nbformat": 4,
 "nbformat_minor": 5
}
