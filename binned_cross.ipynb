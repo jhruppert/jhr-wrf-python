{
 "cells": [
  {
   "cell_type": "markdown",
   "id": "2fd8bcba-291a-4d38-8163-9649ac470ed5",
   "metadata": {
    "tags": []
   },
   "source": [
    "### Notebook to genereate binned cross sections from TC output\n",
    "\n",
    "Assumes output is in a single netcdf file on pressure levels.\n",
    "\n",
    "James Ruppert  \n",
    "jruppert@ou.edu  \n",
    "4/23/22"
   ]
  },
  {
   "cell_type": "code",
   "execution_count": 1,
   "id": "e9d2d8db-4c84-4c24-9a43-a00aafbe6089",
   "metadata": {},
   "outputs": [],
   "source": [
    "from netCDF4 import Dataset\n",
    "import numpy as np\n",
    "import matplotlib.pyplot as plt"
   ]
  },
  {
   "cell_type": "markdown",
   "id": "b5136fb1-2db1-46da-8983-ee441e91b46a",
   "metadata": {},
   "source": [
    "#### Directories"
   ]
  },
  {
   "cell_type": "code",
   "execution_count": 2,
   "id": "aa9c21b4-96fd-4c7b-acf1-61a90e5a1908",
   "metadata": {},
   "outputs": [],
   "source": [
    "main = \"/Users/jamesruppert/code/tc_output/\"\n",
    "memb = !ls $main\n",
    "# print(memb)"
   ]
  },
  {
   "cell_type": "markdown",
   "id": "9b30ea2c-ac2e-4698-8a2e-0b98c31153ba",
   "metadata": {},
   "source": [
    "#### Time selection"
   ]
  },
  {
   "cell_type": "code",
   "execution_count": 3,
   "id": "57c7f929-2d6d-43e4-919e-ec45f5b9c07b",
   "metadata": {},
   "outputs": [],
   "source": [
    "t0 = 48\n",
    "t1 = t0+24"
   ]
  },
  {
   "cell_type": "markdown",
   "id": "8beeb7ba-3083-4146-871e-06dbc7a2c5f4",
   "metadata": {},
   "source": [
    "#### Read datasets"
   ]
  },
  {
   "cell_type": "code",
   "execution_count": 10,
   "id": "865e727c-8a65-4ce8-a2fd-58aa3506f428",
   "metadata": {},
   "outputs": [
    {
     "name": "stdout",
     "output_type": "stream",
     "text": [
      "Binvar shape:  (24, 10, 740, 1400)\n",
      "PW shape:  (24, 1, 740, 1400)\n"
     ]
    }
   ],
   "source": [
    "datdir = main+memb[0]+'/ctl/'\n",
    "\n",
    "# Primary bin variable\n",
    "# varfil = Dataset(datdir+'dbz.nc') # this opens the netcdf file\n",
    "# binvar_in = varfil.variables['dbz']\n",
    "varfil = Dataset(datdir+'RTHRATLW.nc') # this opens the netcdf file\n",
    "binvar_in = varfil.variables['RTHRATLW'][t0:t1,:,:,:] * 3600.*24 # K/s --> K/d\n",
    "bv_shape = np.shape(binvar_in)\n",
    "print(\"Binvar shape: \",bv_shape)\n",
    "nt = bv_shape[0]\n",
    "nz = bv_shape[1]\n",
    "\n",
    "# Contour variable\n",
    "varfil2 = Dataset(datdir+'W.nc') # this opens the netcdf file\n",
    "binvar2_in = varfil2.variables['W'][t0:t1,:,:,:] # m/s\n",
    "\n",
    "# Indexing variable\n",
    "binfil = Dataset(datdir+'pw.nc') # this opens the netcdf file\n",
    "ivar = binfil.variables['PW'][t0:t1,:,:,:]\n",
    "print(\"PW shape: \",np.shape(ivar))"
   ]
  },
  {
   "cell_type": "markdown",
   "id": "77b03ee2-cada-4c8b-9647-7e5d6818ddfa",
   "metadata": {},
   "source": [
    "#### Create PW Bins"
   ]
  },
  {
   "cell_type": "code",
   "execution_count": 6,
   "id": "2f2b1df9-ab14-4af9-8309-902d95884dce",
   "metadata": {},
   "outputs": [],
   "source": [
    "min=35 # mm\n",
    "max=70\n",
    "step=1\n",
    "bins = np.arange(min,max,step)\n",
    "nbins = np.size(bins)\n",
    "# pw"
   ]
  },
  {
   "cell_type": "markdown",
   "id": "b7a71969-5c7b-4974-9f8f-b2256affc449",
   "metadata": {},
   "source": [
    "#### Bin the target variable"
   ]
  },
  {
   "cell_type": "code",
   "execution_count": 11,
   "id": "17c3673c-40bf-4481-89ec-3eaa4f69e05f",
   "metadata": {},
   "outputs": [],
   "source": [
    "binvar = 0\n",
    "binvar = np.zeros((nbins,nt,nz)) # nbins, nt, nz\n",
    "binvar2 = binvar\n",
    "\n",
    "# for ibin in range(nbins):\n",
    "for itim in range(nt):\n",
    "    for ibin in range(nbins):\n",
    "        indices = ((ivar[itim,0,:,:] >= bins[ibin]-0.5*step) & (ivar[itim,0,:,:] < bins[ibin]+0.5*step)).nonzero()\n",
    "        tmp = binvar_in[itim,:,indices[0],indices[1]]\n",
    "        binvar[ibin,itim,:] = np.mean(tmp,axis=0,dtype=np.float64)\n",
    "        tmp = binvar2_in[itim,:,indices[0],indices[1]]\n",
    "        binvar2[ibin,itim,:] = np.mean(tmp,axis=0,dtype=np.float64)"
   ]
  },
  {
   "cell_type": "markdown",
   "id": "dcdc2a5f-c58c-427f-83f4-909a353cb8cd",
   "metadata": {},
   "source": [
    "---\n",
    "### Plotting routines"
   ]
  },
  {
   "cell_type": "code",
   "execution_count": null,
   "id": "12c46492-83da-47b1-9c61-5f4c6ef082a0",
   "metadata": {},
   "outputs": [],
   "source": [
    "# create figure\n",
    "fig = plt.figure(figsize=(20,16))\n",
    "\n",
    "# fill contour for main variable\n",
    "spd = np.sqrt(u**2 + v**2)\n",
    "clevs_spd = np.arange(30, 70, 10)\n",
    "im = plt.contourf(lon, lat, spd, clevs_spd, cmap='GnBu', alpha=0.6, \\\n",
    "                 extend='max',projection=cartopy.crs.PlateCarree(), zorder=2)\n",
    "cbar = plt.colorbar(im, ax=ax); cbar.ax.set_ylabel('m s$^{-1}$')\n",
    "\n",
    "# line contours of geopotential height (in black)\n",
    "g=9.81 # m/s^2\n",
    "geoz = phi / g / 10 # m2/s2 --> m --> dam\n",
    "clevs_phi = np.arange(800, 1000, 10) # may need to adapt these for the pressure level\n",
    "im = plt.contour(lon, lat, geoz, clevs_phi, colors='black', projection=cartopy.crs.PlateCarree(), zorder=2)\n",
    "ax.clabel(im, im.levels, inline=True, fontsize=13)\n",
    "\n",
    "# additional contours (in red)\n",
    "# cvar = \n",
    "# dd = ax.contour(lon, lat, cvar*1e5, np.arange(-200, 200, 10), colors='red', projection=cartopy.crs.PlateCarree(), zorder=2)\n",
    "# ax.clabel(dd, dd.levels, inline=True, fontsize=13)\n",
    "\n",
    "# wind barbs\n",
    "spacing=6 #barbspacing (smaller if zoomed in)\n",
    "mps_to_kts=1.94384 # conversion factor from m/s to knots for barbs\n",
    "uplt = u * mps_to_kts\n",
    "vplt = v * mps_to_kts\n",
    "# mask for speeds < 10 kts\n",
    "spd = np.sqrt(uplt**2+vplt**2)\n",
    "uplt[np.where(spd < 10)] = np.nan\n",
    "ax.barbs(lon[::spacing,::spacing], lat[::spacing,::spacing], uplt[::spacing,::spacing], vplt[::spacing,::spacing], zorder=2)\n",
    "\n",
    "# add map features\n",
    "ax.add_feature(cartopy.feature.LAND,facecolor=\"lightgray\") #land color\n",
    "# ax.add_feature(cartopy.feature.OCEAN) #ocean color\n",
    "ax.add_feature(cartopy.feature.COASTLINE)\n",
    "ax.add_feature(cartopy.feature.STATES)\n",
    "ax.gridlines(draw_labels=True, dms=True, x_inline=False, y_inline=False)\n",
    "\n",
    "# Zoom into selected area (comment this out to plot entire available area)\n",
    "ax.set_extent(plt_area)\n",
    "\n",
    "plt.show()"
   ]
  }
 ],
 "metadata": {
  "kernelspec": {
   "display_name": "Python 3 (ipykernel)",
   "language": "python",
   "name": "python3"
  },
  "language_info": {
   "codemirror_mode": {
    "name": "ipython",
    "version": 3
   },
   "file_extension": ".py",
   "mimetype": "text/x-python",
   "name": "python",
   "nbconvert_exporter": "python",
   "pygments_lexer": "ipython3",
   "version": "3.8.13"
  }
 },
 "nbformat": 4,
 "nbformat_minor": 5
}
