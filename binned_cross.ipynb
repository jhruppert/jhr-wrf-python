{
 "cells": [
  {
   "cell_type": "markdown",
   "id": "2fd8bcba-291a-4d38-8163-9649ac470ed5",
   "metadata": {
    "tags": []
   },
   "source": [
    "### Notebook to genereate binned cross sections from TC output\n",
    "\n",
    "Assumes output is in a single netcdf file on pressure levels.\n",
    "\n",
    "James Ruppert  \n",
    "jruppert@ou.edu  \n",
    "4/23/22"
   ]
  },
  {
   "cell_type": "code",
   "execution_count": 24,
   "id": "e9d2d8db-4c84-4c24-9a43-a00aafbe6089",
   "metadata": {},
   "outputs": [],
   "source": [
    "from netCDF4 import Dataset\n",
    "import numpy as np\n",
    "import matplotlib\n",
    "import matplotlib.pyplot as plt\n",
    "import sys"
   ]
  },
  {
   "cell_type": "markdown",
   "id": "9b30ea2c-ac2e-4698-8a2e-0b98c31153ba",
   "metadata": {},
   "source": [
    "#### Time selection"
   ]
  },
  {
   "cell_type": "code",
   "execution_count": 2,
   "id": "57c7f929-2d6d-43e4-919e-ec45f5b9c07b",
   "metadata": {},
   "outputs": [],
   "source": [
    "t0 = 48\n",
    "t1 = t0+24"
   ]
  },
  {
   "cell_type": "markdown",
   "id": "b5136fb1-2db1-46da-8983-ee441e91b46a",
   "metadata": {},
   "source": [
    "#### Directories"
   ]
  },
  {
   "cell_type": "code",
   "execution_count": 20,
   "id": "aa9c21b4-96fd-4c7b-acf1-61a90e5a1908",
   "metadata": {},
   "outputs": [],
   "source": [
    "# main = \"/Users/jamesruppert/code/tc_output/\"\n",
    "main = \"/Users/jruppert/code/tc_output/\"\n",
    "storm = !ls $main\n",
    "# print(memb)\n",
    "\n",
    "istorm=storm[0]\n",
    "memb = !ls $main/$istorm\n",
    "imemb=memb[0]\n",
    "\n",
    "datdir = main+istorm+'/'+imemb+'/ncrf/'"
   ]
  },
  {
   "cell_type": "markdown",
   "id": "8beeb7ba-3083-4146-871e-06dbc7a2c5f4",
   "metadata": {},
   "source": [
    "#### Read variables"
   ]
  },
  {
   "cell_type": "code",
   "execution_count": 21,
   "id": "865e727c-8a65-4ce8-a2fd-58aa3506f428",
   "metadata": {},
   "outputs": [
    {
     "name": "stdout",
     "output_type": "stream",
     "text": [
      "Binvar shape:  (24, 10, 740, 1400)\n"
     ]
    }
   ],
   "source": [
    "# Fill contour variable\n",
    "varfil = Dataset(datdir+'dbz.nc') # this opens the netcdf file\n",
    "binvar_f_in = varfil.variables['dbz'][t0:t1,:,:,:]\n",
    "units_var1 = 'dBZ'\n",
    "\n",
    "varfil = Dataset(datdir+'strat.nc') # this opens the netcdf file\n",
    "strat_in = varfil.variables['strat'][t0:t1,:,:,:]\n",
    "\n",
    "# varfil = Dataset(datdir+'RTHRATLW.nc') # this opens the netcdf file\n",
    "# binvar_f_in = varfil.variables['RTHRATLW'][t0:t1,:,:,:] * 3600.*24 # K/s --> K/d\n",
    "units_var1 = 'K/d'\n",
    "\n",
    "# varfil = Dataset(datdir+'W.nc') # this opens the netcdf file\n",
    "# binvar_f_in = varfil.variables['W'][t0:t1,:,:,:]\n",
    "# units_var1 = 'm/s'\n",
    "\n",
    "bv_shape = np.shape(binvar_f_in)\n",
    "print(\"Binvar shape: \",bv_shape)\n",
    "nt = bv_shape[0]\n",
    "nz = bv_shape[1]"
   ]
  },
  {
   "cell_type": "code",
   "execution_count": 5,
   "id": "e661e6eb-124a-49cb-ad9a-dbb1f5654697",
   "metadata": {},
   "outputs": [
    {
     "name": "stdout",
     "output_type": "stream",
     "text": [
      "Vertical shape:  (10,)\n"
     ]
    }
   ],
   "source": [
    "# Vertical coordinate\n",
    "pres = varfil.variables['pres'][:] # Pa\n",
    "print(\"Vertical shape: \",np.shape(pres))"
   ]
  },
  {
   "cell_type": "code",
   "execution_count": 6,
   "id": "d0bea1ff-64dc-4977-92e9-0d6473f32fdb",
   "metadata": {},
   "outputs": [],
   "source": [
    "# Line contour variable\n",
    "varfil2 = Dataset(datdir+'W.nc') # this opens the netcdf file\n",
    "binvar_c_in = varfil2.variables['W'][t0:t1,:,:,:] # m/s\n",
    "units_var2='m/s'"
   ]
  },
  {
   "cell_type": "code",
   "execution_count": 7,
   "id": "5ab74f20-8e3b-43ce-a8ac-cec46ead1f48",
   "metadata": {},
   "outputs": [
    {
     "name": "stdout",
     "output_type": "stream",
     "text": [
      "PW shape:  (24, 1, 740, 1400)\n"
     ]
    }
   ],
   "source": [
    "# Indexing variable\n",
    "binfil = Dataset(datdir+'pw.nc') # this opens the netcdf file\n",
    "ivar = binfil.variables['PW'][t0:t1,:,:,:]\n",
    "print(\"PW shape: \",np.shape(ivar))"
   ]
  },
  {
   "cell_type": "markdown",
   "id": "77b03ee2-cada-4c8b-9647-7e5d6818ddfa",
   "metadata": {},
   "source": [
    "#### Create PW Bins"
   ]
  },
  {
   "cell_type": "code",
   "execution_count": 8,
   "id": "2f2b1df9-ab14-4af9-8309-902d95884dce",
   "metadata": {},
   "outputs": [],
   "source": [
    "fmin=35 # mm\n",
    "fmax=70\n",
    "step=1\n",
    "bins = np.arange(fmin,fmax,step)\n",
    "nbins = np.size(bins)"
   ]
  },
  {
   "cell_type": "markdown",
   "id": "b7a71969-5c7b-4974-9f8f-b2256affc449",
   "metadata": {},
   "source": [
    "#### Bin the target variable"
   ]
  },
  {
   "cell_type": "code",
   "execution_count": 50,
   "id": "17c3673c-40bf-4481-89ec-3eaa4f69e05f",
   "metadata": {},
   "outputs": [],
   "source": [
    "binvar_f = np.zeros((nbins,nt,nz)) # nbins, nt, nz\n",
    "binvar_c = np.zeros((nbins,nt,nz))\n",
    "binvar_strat = np.zeros((nbins,nt,3))\n",
    "\n",
    "# for ibin in range(nbins):\n",
    "for itim in range(nt):\n",
    "    for ibin in range(nbins):\n",
    "        indices = ((ivar[itim,0,:,:] >= bins[ibin]-0.5*step) & (ivar[itim,0,:,:] < bins[ibin]+0.5*step)).nonzero()\n",
    "        tmp_f = binvar_f_in[itim,:,indices[0],indices[1]]\n",
    "        binvar_f[ibin,itim,:] = np.mean(tmp_f,axis=0,dtype=np.float64)\n",
    "        tmp_c = binvar_c_in[itim,:,indices[0],indices[1]]\n",
    "        binvar_c[ibin,itim,:] = np.mean(tmp_c,axis=0,dtype=np.float64)\n",
    "        tmp_strat = strat_in[itim,:,indices[0],indices[1]]\n",
    "        for istrat in range(3):\n",
    "            iindex = ((tmp_strat == (istrat+1))).nonzero()\n",
    "            binvar_strat[ibin,itim,0] = np.shape(iindex)[1]"
   ]
  },
  {
   "cell_type": "markdown",
   "id": "9fd74791-9a3c-40d0-b753-414ab1945071",
   "metadata": {},
   "source": [
    "#### Time-average"
   ]
  },
  {
   "cell_type": "code",
   "execution_count": 10,
   "id": "b3a58fa8-7c3b-4dca-9b0e-fd2e34a9d9c0",
   "metadata": {},
   "outputs": [],
   "source": [
    "binvar_f_mn = np.mean(binvar_f,axis=1)\n",
    "binvar_c_mn = np.mean(binvar_c,axis=1)"
   ]
  },
  {
   "cell_type": "markdown",
   "id": "dcdc2a5f-c58c-427f-83f4-909a353cb8cd",
   "metadata": {
    "jp-MarkdownHeadingCollapsed": true,
    "tags": []
   },
   "source": [
    "---\n",
    "### Plotting routines"
   ]
  },
  {
   "cell_type": "code",
   "execution_count": 11,
   "id": "bb80e7c4-0aed-46fe-9596-40c20b46bdd4",
   "metadata": {},
   "outputs": [],
   "source": [
    "font = {'family' : 'sans-serif',\n",
    "        'weight' : 'normal',\n",
    "        'size'   : 16}\n",
    "\n",
    "matplotlib.rc('font', **font)"
   ]
  },
  {
   "cell_type": "code",
   "execution_count": 18,
   "id": "12c46492-83da-47b1-9c61-5f4c6ef082a0",
   "metadata": {},
   "outputs": [
    {
     "ename": "NameError",
     "evalue": "name 'strat' is not defined",
     "output_type": "error",
     "traceback": [
      "\u001b[0;31m---------------------------------------------------------------------------\u001b[0m",
      "\u001b[0;31mNameError\u001b[0m                                 Traceback (most recent call last)",
      "Input \u001b[0;32mIn [18]\u001b[0m, in \u001b[0;36m<cell line: 23>\u001b[0;34m()\u001b[0m\n\u001b[1;32m     20\u001b[0m ax\u001b[38;5;241m.\u001b[39myaxis\u001b[38;5;241m.\u001b[39mset_minor_formatter(matplotlib\u001b[38;5;241m.\u001b[39mticker\u001b[38;5;241m.\u001b[39mScalarFormatter())\n\u001b[1;32m     22\u001b[0m ax2\u001b[38;5;241m=\u001b[39max\u001b[38;5;241m.\u001b[39mtwinx()\n\u001b[0;32m---> 23\u001b[0m im \u001b[38;5;241m=\u001b[39m ax\u001b[38;5;241m.\u001b[39mplot(bins, \u001b[43mstrat\u001b[49m)\n\u001b[1;32m     25\u001b[0m \u001b[38;5;66;03m# line contours of geopotential height (in black)\u001b[39;00m\n\u001b[1;32m     26\u001b[0m \u001b[38;5;66;03m# clevs = np.arange(800, 1000, 10) # may need to adapt these for the pressure level\u001b[39;00m\n\u001b[1;32m     27\u001b[0m \u001b[38;5;66;03m# im = plt.contour(lon, lat, geoz, clevs_phi, colors='black', projection=cartopy.crs.PlateCarree(), zorder=2)\u001b[39;00m\n\u001b[1;32m     28\u001b[0m \u001b[38;5;66;03m# ax.clabel(im, im.levels, inline=True, fontsize=13)\u001b[39;00m\n\u001b[1;32m     30\u001b[0m plt\u001b[38;5;241m.\u001b[39mshow()\n",
      "\u001b[0;31mNameError\u001b[0m: name 'strat' is not defined"
     ]
    },
    {
     "data": {
      "image/png": "[encoded data removed]",
      "text/plain": [
       "<Figure size 1008x576 with 3 Axes>"
      ]
     },
     "metadata": {
      "needs_background": "light"
     },
     "output_type": "display_data"
    }
   ],
   "source": [
    "# create figure\n",
    "fig = plt.figure(figsize=(14,8))\n",
    "ax = fig.add_subplot(111)\n",
    "\n",
    "ax.set_title('Binned plot')\n",
    "ax.set_ylabel('Pressure [hPa]')\n",
    "ax.set_xlabel('Column water vapor [mm]')\n",
    "\n",
    "# fill contour\n",
    "# clevs = np.arange(-2, 2, 0.2)\n",
    "clevs = np.arange(-20, 20, 1)\n",
    "pltvar=binvar_f_mn\n",
    "im = ax.contourf(bins, pres, np.transpose(pltvar), clevs, cmap='RdBu_r', alpha=0.6, \\\n",
    "                 extend='max', zorder=2)\n",
    "cbar = plt.colorbar(im, ax=ax, shrink=0.75)\n",
    "cbar.ax.set_ylabel(units_var1)\n",
    "ax.invert_yaxis()\n",
    "ax.set_yscale('log')\n",
    "ax.yaxis.set_major_formatter(matplotlib.ticker.ScalarFormatter())\n",
    "ax.yaxis.set_minor_formatter(matplotlib.ticker.ScalarFormatter())\n",
    "\n",
    "ax2=ax.twinx()\n",
    "im = ax.plot(bins, strat)\n",
    "\n",
    "# line contours of geopotential height (in black)\n",
    "# clevs = np.arange(800, 1000, 10) # may need to adapt these for the pressure level\n",
    "# im = plt.contour(lon, lat, geoz, clevs_phi, colors='black', projection=cartopy.crs.PlateCarree(), zorder=2)\n",
    "# ax.clabel(im, im.levels, inline=True, fontsize=13)\n",
    "\n",
    "plt.show()"
   ]
  }
 ],
 "metadata": {
  "kernelspec": {
   "display_name": "Python 3 (ipykernel)",
   "language": "python",
   "name": "python3"
  },
  "language_info": {
   "codemirror_mode": {
    "name": "ipython",
    "version": 3
   },
   "file_extension": ".py",
   "mimetype": "text/x-python",
   "name": "python",
   "nbconvert_exporter": "python",
   "pygments_lexer": "ipython3",
   "version": "3.8.13"
  }
 },
 "nbformat": 4,
 "nbformat_minor": 5
}
