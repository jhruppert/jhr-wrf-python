{
 "cells": [
  {
   "cell_type": "markdown",
   "id": "43863f18",
   "metadata": {
    "tags": []
   },
   "source": [
    "Notebook to genereate scatter plots from TC output\n",
    "\n",
    "James Ruppert  \n",
    "jruppert@ou.edu  \n",
    "June 2022"
   ]
  },
  {
   "cell_type": "markdown",
   "id": "c8d0c735",
   "metadata": {},
   "source": [
    "### Main settings"
   ]
  },
  {
   "cell_type": "code",
   "execution_count": 5,
   "id": "4cb54873",
   "metadata": {
    "tags": []
   },
   "outputs": [],
   "source": [
    "import numpy as np\n",
    "import matplotlib.pyplot as plt\n",
    "from thermo_functions import *\n",
    "from precip_class import *\n",
    "from read_functions import *"
   ]
  },
  {
   "cell_type": "code",
   "execution_count": 6,
   "id": "09231513",
   "metadata": {},
   "outputs": [],
   "source": [
    "# Read and write variables, or load in saved pickle?\n",
    "do_write=True\n",
    "# do_write=False\n",
    "\n",
    "storm = 'haiyan'\n",
    "\n",
    "main = \"/ourdisk/hpc/radclouds/auto_archive_notyet/tape_2copies/tc_ens/\"\n",
    "datdir2 = 'post/d02/'\n",
    "\n",
    "# Number of sample time steps (if only running CTL)\n",
    "nt=200 # will be chopped down to max available\n",
    "# nt=48\n",
    "# nt=12\n",
    "\n",
    "t1_test=48 # n time steps to sample for tests\n",
    "\n",
    "# Members\n",
    "nmem = 10 # number of ensemble members (1-5 have NCRF)\n",
    "# nmem = 3\n",
    "enstag = str(nmem)"
   ]
  },
  {
   "cell_type": "code",
   "execution_count": 7,
   "id": "e413f32b",
   "metadata": {},
   "outputs": [],
   "source": [
    "# Ensemble member info\n",
    "memb0=1 # Starting member to read\n",
    "memb_nums=np.arange(memb0,nmem+memb0,1)\n",
    "memb_nums_str=memb_nums.astype(str)\n",
    "nustr = np.char.zfill(memb_nums_str, 2)\n",
    "memb_all=np.char.add('memb_',nustr)\n",
    "\n",
    "# Get dimensions\n",
    "test_str='ctl'\n",
    "datdir = main+storm+'/'+memb_all[0]+'/'+test_str+'/'+datdir2\n",
    "# datdir = \"/Users/jamesruppert/code/tc_postproc/\"\n",
    "nt_data, nz, nx1, nx2, pres = get_file_dims(datdir)\n",
    "# nt_data, nz, nx1, nx2 = get_file_dims(datdir)\n",
    "# dp = (pres[1]-pres[0])*1e2 # Pa\n",
    "nt=t1_test\n",
    "nx1-=80*2\n",
    "nx2-=80*2"
   ]
  },
  {
   "cell_type": "code",
   "execution_count": 8,
   "id": "c39068a0",
   "metadata": {},
   "outputs": [],
   "source": [
    "# Tests to read and compare\n",
    "if storm == 'haiyan':\n",
    "    tests = ['ctl','ncrf36h','STRATANVIL_ON','STRATANVIL_OFF','STRAT_OFF']\n",
    "    tests_str = ['CTL','NCRF','STRATANVON','STRATANVOFF','STRATOFF']\n",
    "elif storm == 'maria':\n",
    "    # tests = ['ctl','ncrf36h']\n",
    "    tests = ['ctl','ncrf48h']\n",
    "    tests_str = ['CTL','NCRF']\n",
    "\n",
    "ntest = len(tests)"
   ]
  },
  {
   "cell_type": "markdown",
   "id": "c28d4fd0",
   "metadata": {},
   "source": [
    "### Read loop"
   ]
  },
  {
   "cell_type": "code",
   "execution_count": 10,
   "id": "a083a9a7",
   "metadata": {},
   "outputs": [
    {
     "name": "stdout",
     "output_type": "stream",
     "text": [
      "\n",
      "Running test:  ctl\n",
      "Running imemb:  memb_01\n",
      "(48, 580, 1040)\n",
      "177.42114\n",
      "-104.969894\n"
     ]
    },
    {
     "ename": "IndexError",
     "evalue": "too many indices for array: array is 3-dimensional, but 5 were indexed",
     "output_type": "error",
     "traceback": [
      "\u001b[0;31m---------------------------------------------------------------------------\u001b[0m",
      "\u001b[0;31mIndexError\u001b[0m                                Traceback (most recent call last)",
      "Cell \u001b[0;32mIn[10], line 57\u001b[0m\n\u001b[1;32m     55\u001b[0m \u001b[38;5;66;03m# Save variables for each ens member\u001b[39;00m\n\u001b[1;32m     56\u001b[0m pclass[itest,imemb,:,:,:] \u001b[38;5;241m=\u001b[39m ipclass\n\u001b[0;32m---> 57\u001b[0m \u001b[43mrain\u001b[49m\u001b[43m[\u001b[49m\u001b[43mitest\u001b[49m\u001b[43m,\u001b[49m\u001b[43mimemb\u001b[49m\u001b[43m,\u001b[49m\u001b[43m:\u001b[49m\u001b[43m,\u001b[49m\u001b[43m:\u001b[49m\u001b[43m,\u001b[49m\u001b[43m:\u001b[49m\u001b[43m]\u001b[49m   \u001b[38;5;241m=\u001b[39m rain\n\u001b[1;32m     58\u001b[0m lwp[itest,imemb,:,:,:]    \u001b[38;5;241m=\u001b[39m ilwp\n\u001b[1;32m     59\u001b[0m vmf[itest,imemb,:,:,:]    \u001b[38;5;241m=\u001b[39m vmf\n",
      "File \u001b[0;32m~/.conda/envs/plotting/lib/python3.11/contextlib.py:81\u001b[0m, in \u001b[0;36mContextDecorator.__call__.<locals>.inner\u001b[0;34m(*args, **kwds)\u001b[0m\n\u001b[1;32m     78\u001b[0m \u001b[38;5;129m@wraps\u001b[39m(func)\n\u001b[1;32m     79\u001b[0m \u001b[38;5;28;01mdef\u001b[39;00m \u001b[38;5;21minner\u001b[39m(\u001b[38;5;241m*\u001b[39margs, \u001b[38;5;241m*\u001b[39m\u001b[38;5;241m*\u001b[39mkwds):\n\u001b[1;32m     80\u001b[0m     \u001b[38;5;28;01mwith\u001b[39;00m \u001b[38;5;28mself\u001b[39m\u001b[38;5;241m.\u001b[39m_recreate_cm():\n\u001b[0;32m---> 81\u001b[0m         \u001b[38;5;28;01mreturn\u001b[39;00m \u001b[43mfunc\u001b[49m\u001b[43m(\u001b[49m\u001b[38;5;241;43m*\u001b[39;49m\u001b[43margs\u001b[49m\u001b[43m,\u001b[49m\u001b[43m \u001b[49m\u001b[38;5;241;43m*\u001b[39;49m\u001b[38;5;241;43m*\u001b[39;49m\u001b[43mkwds\u001b[49m\u001b[43m)\u001b[49m\n",
      "File \u001b[0;32m~/.conda/envs/plotting/lib/python3.11/site-packages/numpy/ma/core.py:3387\u001b[0m, in \u001b[0;36mMaskedArray.__setitem__\u001b[0;34m(self, indx, value)\u001b[0m\n\u001b[1;32m   3384\u001b[0m     mval \u001b[38;5;241m=\u001b[39m \u001b[38;5;28mtuple\u001b[39m([\u001b[38;5;28;01mFalse\u001b[39;00m] \u001b[38;5;241m*\u001b[39m \u001b[38;5;28mlen\u001b[39m(_dtype\u001b[38;5;241m.\u001b[39mnames))\n\u001b[1;32m   3385\u001b[0m \u001b[38;5;28;01mif\u001b[39;00m _mask \u001b[38;5;129;01mis\u001b[39;00m nomask:\n\u001b[1;32m   3386\u001b[0m     \u001b[38;5;66;03m# Set the data, then the mask\u001b[39;00m\n\u001b[0;32m-> 3387\u001b[0m     \u001b[43m_data\u001b[49m\u001b[43m[\u001b[49m\u001b[43mindx\u001b[49m\u001b[43m]\u001b[49m \u001b[38;5;241m=\u001b[39m dval\n\u001b[1;32m   3388\u001b[0m     \u001b[38;5;28;01mif\u001b[39;00m mval \u001b[38;5;129;01mis\u001b[39;00m \u001b[38;5;129;01mnot\u001b[39;00m nomask:\n\u001b[1;32m   3389\u001b[0m         _mask \u001b[38;5;241m=\u001b[39m \u001b[38;5;28mself\u001b[39m\u001b[38;5;241m.\u001b[39m_mask \u001b[38;5;241m=\u001b[39m make_mask_none(\u001b[38;5;28mself\u001b[39m\u001b[38;5;241m.\u001b[39mshape, _dtype)\n",
      "\u001b[0;31mIndexError\u001b[0m: too many indices for array: array is 3-dimensional, but 5 were indexed"
     ]
    }
   ],
   "source": [
    "# Main read loops for 3D (dependent) variables\n",
    "\n",
    "if do_write:\n",
    "\n",
    "    # Arrays to save variables\n",
    "    dims = (ntest, nmem, nt, nx1, nx2)\n",
    "    pclass = np.ma.zeros(dims)\n",
    "    lwp    = np.ma.zeros(dims)\n",
    "    rain   = np.ma.zeros(dims)\n",
    "    vmf    = np.ma.zeros(dims)\n",
    "    condh  = np.ma.zeros(dims)\n",
    "\n",
    "    for itest in range(ntest):\n",
    "    # for itest in range(1):\n",
    "\n",
    "        test_str = tests[itest]\n",
    "        print()\n",
    "        print('Running test: ',test_str)\n",
    "\n",
    "        # t0=time_neglect # neglect the first 12 time steps\n",
    "        # t1=t0+nt\n",
    "        if test_str == 'ctl':\n",
    "            t0=36\n",
    "            t1=t0+t1_test\n",
    "        else:\n",
    "            t0=0\n",
    "            t1=t1_test\n",
    "\n",
    "        # Loop over ensemble members\n",
    "        for imemb in range(nmem):\n",
    "        # for imemb in range(1):\n",
    "\n",
    "            print('Running imemb: ',memb_all[imemb])\n",
    "\n",
    "            datdir = main+storm+'/'+memb_all[imemb]+'/'+test_str+'/'+datdir2\n",
    "\n",
    "            # Stratiform ID\n",
    "            q_int = read_qcloud(datdir,t0,t1,mask=True,drop=True) # mm\n",
    "            ipclass = precip_class(q_int)\n",
    "\n",
    "            # Rain rate\n",
    "            varname = 'rainrate'\n",
    "            irain = var_read_2d(datdir,varname,t0,t1,mask=True,drop=True) # mm/d\n",
    "\n",
    "            # LWACRE\n",
    "            lw = read_lwnet(datdir,t0,t1,mask=True,drop=True) # W/m2\n",
    "            lwm = np.mean(lw, axis=(1,2))\n",
    "            ilwp = lw - lwm[:,np.newaxis,np.newaxis]\n",
    "\n",
    "            # Vertical motion\n",
    "            ivmf = read_mse_diag(datdir, 'vmf', t0, t1, mask=True, drop=True) # kg/m/s\n",
    "\n",
    "            # Condensation heating\n",
    "            icondh = read_mse_diag(datdir, 'condh', t0, t1, mask=True, drop=True) # mm/d\n",
    "\n",
    "            # Save variables for each ens member\n",
    "            pclass[itest,imemb,:,:,:] = ipclass\n",
    "            rain[itest,imemb,:,:,:]   = irain\n",
    "            lwp[itest,imemb,:,:,:]    = ilwp\n",
    "            vmf[itest,imemb,:,:,:]    = ivmf\n",
    "            condh[itest,imemb,:,:,:]  = icondh"
   ]
  },
  {
   "cell_type": "markdown",
   "id": "b6f11c19-0a3f-4841-804d-c31a5da38305",
   "metadata": {},
   "source": [
    "---"
   ]
  },
  {
   "cell_type": "markdown",
   "id": "34814721-ff04-441e-add1-09908e5656e8",
   "metadata": {},
   "source": [
    "#### Statistics from Rogers conv/strat index"
   ]
  },
  {
   "cell_type": "code",
   "execution_count": 6,
   "id": "2ba14e01-c67a-4365-880e-574d481bfc0c",
   "metadata": {},
   "outputs": [
    {
     "name": "stdout",
     "output_type": "stream",
     "text": [
      "N non-raining =  22029041\n",
      "% non-raining =  88.59813787001288\n",
      "\n",
      "N conv =  185322\n",
      "% conv =  0.745342664092664\n",
      "\n",
      "N strat =  1688847\n",
      "% strat =  6.792338320463321\n",
      "\n",
      "N other =  960790\n",
      "% other =  3.8641811454311457\n",
      "\n"
     ]
    }
   ],
   "source": [
    "ncell=nx1*nx2*nt\n",
    "\n",
    "indices = (strat1 == 0).nonzero()\n",
    "count = np.shape(indices[1])[0]\n",
    "print(\"N non-raining = \",count)\n",
    "print(\"% non-raining = \",count/ncell*100)\n",
    "print()\n",
    "\n",
    "indices = (strat1 == 1).nonzero()\n",
    "count = np.shape(indices[1])[0]\n",
    "print(\"N conv = \",count)\n",
    "print(\"% conv = \",count/ncell*100)\n",
    "print()\n",
    "\n",
    "indices = (strat1 == 2).nonzero()\n",
    "count = np.shape(indices[1])[0]\n",
    "print(\"N strat = \",count)\n",
    "print(\"% strat = \",count/ncell*100)\n",
    "print()\n",
    "\n",
    "indices = (strat1 == 3).nonzero()\n",
    "count = np.shape(indices[1])[0]\n",
    "print(\"N other = \",count)\n",
    "print(\"% other = \",count/ncell*100)\n",
    "print()"
   ]
  },
  {
   "cell_type": "markdown",
   "id": "0b36f534-975d-430d-b168-fc35009f0b66",
   "metadata": {},
   "source": [
    "#### New conv/strat index"
   ]
  },
  {
   "cell_type": "code",
   "execution_count": 7,
   "id": "e83d40f9-099c-48f2-947e-59e0c30289eb",
   "metadata": {
    "tags": []
   },
   "outputs": [
    {
     "name": "stdout",
     "output_type": "stream",
     "text": [
      "After rainfall threshold:\n",
      "N non-raining =  15027361\n",
      "% non-raining =  60.438227960102964\n",
      "\n",
      "N conv =  5762316\n",
      "% conv =  23.175337837837837\n",
      "\n",
      "N strat =  4074323\n",
      "% strat =  16.386434202059203\n",
      "\n",
      "After VMF threshold:\n",
      "N non-raining =  20702847\n",
      "% non-raining =  83.26434604247103\n",
      "\n",
      "N conv =  607196\n",
      "% conv =  2.4420688545688547\n",
      "\n",
      "N strat =  3553957\n",
      "% strat =  14.293585102960101\n",
      "\n",
      "After VMF TOPHEAVINESS threshold:\n",
      "N non-raining =  20702847\n",
      "% non-raining =  83.26434604247103\n",
      "\n",
      "N conv =  607196\n",
      "% conv =  2.4420688545688547\n",
      "\n",
      "N strat =  3553957\n",
      "% strat =  14.293585102960101\n",
      "\n"
     ]
    }
   ],
   "source": [
    "strat2 = stratiform_index(rain,vmf_lower,vmf_upper,verbose=1)"
   ]
  },
  {
   "cell_type": "markdown",
   "id": "b7b8c0e3",
   "metadata": {
    "tags": []
   },
   "source": [
    "#### Axis settings"
   ]
  },
  {
   "cell_type": "code",
   "execution_count": 48,
   "id": "78289b8a",
   "metadata": {},
   "outputs": [
    {
     "name": "stdout",
     "output_type": "stream",
     "text": [
      "Binvar shape:  (24, 1, 740, 1400)\n",
      "[1.00000000e-02 1.99526231e-02 3.98107171e-02 7.94328235e-02\n",
      " 1.58489319e-01 3.16227766e-01 6.30957344e-01 1.25892541e+00\n",
      " 2.51188643e+00 5.01187234e+00 1.00000000e+01 1.99526231e+01\n",
      " 3.98107171e+01 7.94328235e+01 1.58489319e+02 3.16227766e+02\n",
      " 6.30957344e+02 1.25892541e+03 2.51188643e+03 5.01187234e+03\n",
      " 1.00000000e+04 1.99526231e+04 3.98107171e+04 7.94328235e+04]\n",
      "24\n"
     ]
    }
   ],
   "source": [
    "if ivar_select == 'pw':\n",
    "    # PW\n",
    "    binfil = Dataset(datdir+'PW.nc') # this opens the netcdf file\n",
    "    ivar = binfil.variables['PW'][t0:t1,:,:,:]\n",
    "    binfil.close()\n",
    "    fmin=35;fmax=80 # mm\n",
    "    step=1\n",
    "    bins=np.arange(fmin,fmax+step,step)\n",
    "    xlabel='Column water vapor [mm]'\n",
    "    log_x='linear'\n",
    "    \n",
    "elif ivar_select == 'rain':\n",
    "    # Rainfall rate\n",
    "    ivar = rain # mm/hr\n",
    "    fmin=0; fmax=140 # mm / hr\n",
    "    bins=10.**(np.arange(1,8,0.3)-4)\n",
    "    xlabel='Rainfall rate [mm/hr]'\n",
    "    log_x='log'\n",
    "\n",
    "elif ivar_select == 'vmf':\n",
    "    # Vertical mass flux\n",
    "    dp=10000. # delta-p, Pa\n",
    "    g=9.81 # gravity, m/s2\n",
    "    wv_int = np.sum(w,1) * dp/g # m/s * s**2/m * kg/m/s**2 = kg/s/m\n",
    "    ivar = np.reshape(wv_int,(nt,1,nx1,nx2))\n",
    "    fmin=0; fmax=140 # mm / hr\n",
    "    bins=10.**(np.arange(1,8,0.3)-3)\n",
    "    # bins=np.flip(-1.*bins)\n",
    "    xlabel='Vertical mass flux [kg/m/s]'\n",
    "    log_x='log'\n",
    "\n",
    "elif ivar_select == 'lwacre':\n",
    "    # LW-ACRE\n",
    "    ivar = lwacre\n",
    "    fmin=-50; fmax=200 # W/m2\n",
    "    step=5\n",
    "    bins=np.arange(fmin,fmax+step,step)\n",
    "    xlabel='LW-ACRE [W/m**2]'\n",
    "    log_x='linear'\n",
    "\n",
    "\n",
    "print(\"Binvar shape: \",np.shape(ivar))\n",
    "print(bins)\n",
    "nbins = np.size(bins)\n",
    "print(nbins)"
   ]
  },
  {
   "cell_type": "markdown",
   "id": "816c00a2",
   "metadata": {},
   "source": [
    "#### Bin the target variable"
   ]
  },
  {
   "cell_type": "markdown",
   "id": "cabd401c",
   "metadata": {
    "tags": []
   },
   "source": [
    "---\n",
    "### Plotting routines"
   ]
  },
  {
   "cell_type": "code",
   "execution_count": 31,
   "id": "88803959",
   "metadata": {},
   "outputs": [],
   "source": [
    "font = {'family' : 'sans-serif',\n",
    "        'weight' : 'normal',\n",
    "        'size'   : 16}\n",
    "\n",
    "matplotlib.rc('font', **font)"
   ]
  },
  {
   "cell_type": "markdown",
   "id": "c6a9f765-a98a-4436-ba6d-77c99f6095d9",
   "metadata": {
    "tags": []
   },
   "source": [
    "### Conv/Strat Area"
   ]
  },
  {
   "cell_type": "code",
   "execution_count": 40,
   "id": "8a743f09",
   "metadata": {
    "tags": []
   },
   "outputs": [
    {
     "data": {
      "image/png": "[encoded data removed]",
      "text/plain": [
       "<Figure size 1008x288 with 1 Axes>"
      ]
     },
     "metadata": {
      "needs_background": "light"
     },
     "output_type": "display_data"
    }
   ],
   "source": [
    "# create figure\n",
    "fig = plt.figure(figsize=(14,4))\n",
    "ax = fig.add_subplot(111)\n",
    "\n",
    "ax.set_title('Conv/Strat Separation')\n",
    "ax.set_xlabel(xlabel)\n",
    "ax.set_xscale(log_x)\n",
    "\n",
    "# Conv/strat separation: varout = 1 if convective, = 2 if stratiform, = 3 other, = 0 if no rain\n",
    "\n",
    "# As fraction of all-rain-total\n",
    "ax.set_ylabel('Fraction')\n",
    "total=np.sum(binvar_s_mn[:,(1,2,3)])\n",
    "plt.plot(bins[0:nbins-1], binvar_s_mn[:,0]/total \\\n",
    "         , \".k\", label=\"Non-raining\")\n",
    "plt.plot(bins[0:nbins-1], binvar_s_mn[:,1]/total \\\n",
    "         , \"-r\", label=\"Conv\")\n",
    "plt.plot(bins[0:nbins-1], binvar_s_mn[:,2]/total \\\n",
    "         , \"-b\", label=\"Strat\")\n",
    "plt.plot(bins[0:nbins-1], binvar_s_mn[:,3]/total \\\n",
    "         , \"--b\", label=\"Other\")\n",
    "\n",
    "plt.xlim(np.min(bins), np.max(bins))\n",
    "plt.ylim(0, 0.2)\n",
    "\n",
    "plt.legend(loc=\"upper left\")\n",
    "\n",
    "plt.show()\n",
    "# plt.savefig(figdir+'convstrat_comp_'+imemb+'_'+ivar_select+'.png',dpi=200, facecolor='white', \\\n",
    "#             bbox_inches='tight', pad_inches=0.2)"
   ]
  }
 ],
 "metadata": {
  "kernelspec": {
   "display_name": "Python 3 (ipykernel)",
   "language": "python",
   "name": "python3"
  },
  "language_info": {
   "codemirror_mode": {
    "name": "ipython",
    "version": 3
   },
   "file_extension": ".py",
   "mimetype": "text/x-python",
   "name": "python",
   "nbconvert_exporter": "python",
   "pygments_lexer": "ipython3",
   "version": "3.11.9"
  }
 },
 "nbformat": 4,
 "nbformat_minor": 5
}
