{
 "cells": [
  {
   "cell_type": "markdown",
   "id": "6707d5da-a643-4290-b936-64b9594ce511",
   "metadata": {},
   "source": [
    "### WTG Test\n",
    "\n",
    "#### A simple test to probe the instantaneous WTG circulation response to a midlevel vortex vs. LW-CRF.\n",
    "\n",
    "James Ruppert  \n",
    "jruppert@ou.edu  \n",
    "4/23/22"
   ]
  },
  {
   "cell_type": "code",
   "execution_count": 1,
   "id": "77a5db9c-0d0e-44c5-b119-92b7bf96d35f",
   "metadata": {},
   "outputs": [],
   "source": [
    "from netCDF4 import Dataset\n",
    "import numpy as np\n",
    "import matplotlib\n",
    "import matplotlib.pyplot as plt\n",
    "import sys\n",
    "from thermo_functions import theta_dry, theta_virtual, density_moist"
   ]
  },
  {
   "cell_type": "markdown",
   "id": "fdf2f64b-4869-44a7-bfaf-43cf8d1f34f4",
   "metadata": {},
   "source": [
    "#### Time selection"
   ]
  },
  {
   "cell_type": "code",
   "execution_count": 2,
   "id": "b77e99d1-0dae-45ed-b8d9-fea132a008d7",
   "metadata": {},
   "outputs": [],
   "source": [
    "nt=6\n",
    "t0 = 48\n",
    "t1 = t0+nt\n",
    "\n",
    "xmin=780"
   ]
  },
  {
   "cell_type": "markdown",
   "id": "3b86285c-9fe5-48c8-8957-1474b8632614",
   "metadata": {},
   "source": [
    "#### Directories"
   ]
  },
  {
   "cell_type": "code",
   "execution_count": 3,
   "id": "452f6912-10d7-4105-851a-498421f8df2a",
   "metadata": {},
   "outputs": [
    {
     "name": "stdout",
     "output_type": "stream",
     "text": [
      "/Users/jruppert/code/tc_output/haiyan/memb_01/ctl/\n"
     ]
    }
   ],
   "source": [
    "figdir = \"/Users/jruppert/code/tc_figs/\"\n",
    "main = \"/Users/jruppert/code/tc_output/\"\n",
    "storm = !ls $main\n",
    "\n",
    "istorm=storm[0]\n",
    "memb = !ls $main/$istorm/\n",
    "imemb=memb[1]\n",
    "\n",
    "datdir = main+istorm+'/'+imemb+'/ctl/'\n",
    "print(datdir)"
   ]
  },
  {
   "cell_type": "markdown",
   "id": "99ab60d2-194b-4320-8e7e-643cba817246",
   "metadata": {},
   "source": [
    "#### Read variables"
   ]
  },
  {
   "cell_type": "code",
   "execution_count": 13,
   "id": "3d578d5f-f18b-4928-b5ed-33235eb7f23f",
   "metadata": {
    "tags": []
   },
   "outputs": [
    {
     "name": "stdout",
     "output_type": "stream",
     "text": [
      "Vertical shape:  (10,)\n",
      "[302055.78125    310280.85290169 314283.6365211  318474.06692328\n",
      " 322524.14817443 327094.05257926 330638.52395147 332280.06844293\n",
      " 329987.64817617 331509.69280368]\n",
      "(6, 10, 740, 619)\n"
     ]
    }
   ],
   "source": [
    "# Fill contour variable\n",
    "\n",
    "# Vertical coordinate\n",
    "filtmp = Dataset(datdir+'T.nc')\n",
    "pres = filtmp.variables['pres'][:] # hPa\n",
    "print(\"Vertical shape: \",np.shape(pres))\n",
    "filtmp.close()\n",
    "nz=np.shape(pres)[0]\n",
    "\n",
    "# CRF\n",
    "varfil_main = Dataset(datdir+'RTHRATLW.nc') # this opens the netcdf file\n",
    "lwcrf = varfil_main.variables['RTHRATLW'][t0:t1,:,:,xmin:1400-1] * 3600.*24 # K/s --> K/d\n",
    "varfil_main.close()\n",
    "varcs = Dataset(datdir+'RTHRATLWC.nc') # this opens the netcdf file\n",
    "cs = varcs.variables['RTHRATLWC'][t0:t1,:,:,xmin:1400-1] * 3600.*24 # K/s --> K/d\n",
    "lwcrf -= cs\n",
    "varcs.close()\n",
    "\n",
    "# Temperature\n",
    "varfil_main = Dataset(datdir+'T.nc')\n",
    "tmpk = varfil_main.variables['T'][t0:t1,:,:,xmin:1400-1] # K\n",
    "# theta = theta_dry(tmp,(pres[np.newaxis,:,np.newaxis,np.newaxis])*1e2) # K\n",
    "varfil_main.close()\n",
    "\n",
    "# Moisture\n",
    "varfil_main = Dataset(datdir+'QVAPOR.nc')\n",
    "qv = varfil_main.variables['QVAPOR'][t0:t1,:,:,xmin:1400-1] # kg/kg\n",
    "varfil_main.close()\n",
    "\n",
    "rho = np.mean( density_moist(tmpk,qv,pres[np.newaxis,:,np.newaxis,np.newaxis]*1e2), axis=(0,2,3))\n",
    "tmp = np.mean(tmpk, axis=(0,2,3))\n",
    "\n",
    "# Dry static energy\n",
    "z=np.zeros(nz)\n",
    "for iz in range(nz-1):\n",
    "    z[iz+1] = z[iz] + (10000.) / (9.81 * (rho[iz-1] + rho[iz])*0.5)\n",
    "\n",
    "dse = 1004.*tmp + 9.81*z\n",
    "\n",
    "print(np.shape(tmpk))"
   ]
  },
  {
   "cell_type": "markdown",
   "id": "e0c1a42f-7b01-41ba-b675-d428852782fa",
   "metadata": {},
   "source": [
    "#### Analysis"
   ]
  },
  {
   "cell_type": "markdown",
   "id": "60af4be6-4b62-4652-ab67-ad38ab0d303a",
   "metadata": {},
   "source": [
    "$$ w\\dfrac{\\partial \\theta}{\\partial p} = Q_1$$\n",
    "\n",
    "$$w_{wtg} = Q_1 \\left( \\dfrac{\\partial \\theta}{\\partial p} \\right) ^{-1}$$"
   ]
  },
  {
   "cell_type": "code",
   "execution_count": 14,
   "id": "54f5c28e-b154-455c-8230-24867887ee80",
   "metadata": {},
   "outputs": [
    {
     "name": "stdout",
     "output_type": "stream",
     "text": [
      "[0.         0.03590892 0.06830282 0.09401077 0.11051629 0.1162037\n",
      " 0.11051629 0.09401077 0.06830282 0.03590892]\n"
     ]
    }
   ],
   "source": [
    "# Heat tendency\n",
    "qmn = np.sin(np.pi*np.arange(nz)/(nz-1))*10 * (1004./(3600.*24)) # K/d --> J/kg/s\n",
    "print(qmn)"
   ]
  },
  {
   "cell_type": "code",
   "execution_count": 20,
   "id": "02ae6b9b-adc3-49b3-8dad-48d882f7a2b4",
   "metadata": {},
   "outputs": [
    {
     "name": "stdout",
     "output_type": "stream",
     "text": [
      "[0.0 0.05873298049027086 0.16673023094173733 0.2281673154788071\n",
      " 0.2564187320856458 0.28641440055687234 0.4262088374977186\n",
      " -2.888746967499535 -1.7732342462230886 0.23592553467037577]\n"
     ]
    }
   ],
   "source": [
    "dsdp = np.gradient(dse,10000.)\n",
    "wwtg = qmn / dsdp\n",
    "print(wwtg)"
   ]
  },
  {
   "cell_type": "code",
   "execution_count": 25,
   "id": "184f8e08-e377-49f5-9617-554c81ab953c",
   "metadata": {},
   "outputs": [],
   "source": [
    "tprm = np.sin(np.pi*np.arange(nz)/(nz-1))"
   ]
  },
  {
   "cell_type": "code",
   "execution_count": null,
   "id": "f55d703a-4cf9-4cdd-9148-4920e45288ec",
   "metadata": {},
   "outputs": [],
   "source": []
  }
 ],
 "metadata": {
  "kernelspec": {
   "display_name": "Python 3 (ipykernel)",
   "language": "python",
   "name": "python3"
  },
  "language_info": {
   "codemirror_mode": {
    "name": "ipython",
    "version": 3
   },
   "file_extension": ".py",
   "mimetype": "text/x-python",
   "name": "python",
   "nbconvert_exporter": "python",
   "pygments_lexer": "ipython3",
   "version": "3.8.13"
  }
 },
 "nbformat": 4,
 "nbformat_minor": 5
}
