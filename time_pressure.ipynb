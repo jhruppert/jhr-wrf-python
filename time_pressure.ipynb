{
 "cells": [
  {
   "cell_type": "markdown",
   "id": "43863f18",
   "metadata": {
    "tags": []
   },
   "source": [
    "### Notebook to genereate time-pressure series from TC output\n",
    "\n",
    "Assumes output is in a single netcdf file on pressure levels.\n",
    "\n",
    "James Ruppert  \n",
    "jruppert@ou.edu  \n",
    "September 2022"
   ]
  },
  {
   "cell_type": "code",
   "execution_count": 1,
   "id": "4cb54873",
   "metadata": {
    "tags": []
   },
   "outputs": [],
   "source": [
    "from netCDF4 import Dataset\n",
    "import numpy as np\n",
    "import matplotlib\n",
    "# matplotlib.use('pdf')\n",
    "import matplotlib.pyplot as plt\n",
    "# import matplotlib.colors as colors\n",
    "# from matplotlib import ticker, cm\n",
    "import sys\n",
    "import subprocess\n",
    "# import cartopy\n",
    "from azim_wind_latlon import azim_wind_latlon\n",
    "from thermo_functions import density_moist, theta_dry, theta_equiv, theta_virtual, relh\n",
    "from mask_tc_track import mask_tc_track"
   ]
  },
  {
   "cell_type": "markdown",
   "id": "be248521",
   "metadata": {},
   "source": [
    "#### Settings"
   ]
  },
  {
   "cell_type": "code",
   "execution_count": 2,
   "id": "9e333b1a",
   "metadata": {},
   "outputs": [],
   "source": [
    "# #### Variable selection\n",
    "\n",
    "# Fill variable\n",
    "iplot = 'vmf'\n",
    "# options: vmf, thv, the, qrad\n",
    "\n",
    "# Calculate anomaly as deviation from xy-mean\n",
    "do_prm_xy = 0\n",
    "\n",
    "# Should be off for VMF\n",
    "if iplot == 'vmf':\n",
    "  do_prm_xy=0\n",
    "\n",
    "# Strat/Conv index subset\n",
    "istrat=2 # 0-non-raining, 1-conv, 2-strat, 3-other/anvil\n",
    "if istrat == -1:\n",
    "  fig_extra=''\n",
    "elif istrat == 0:\n",
    "  fig_extra='_nonrain'\n",
    "elif istrat == 1:\n",
    "  fig_extra='_conv'\n",
    "elif istrat == 2:\n",
    "  fig_extra='_strat'\n",
    "#fig_extra=''\n",
    "\n",
    "# TC tracking\n",
    "ptrack='600' # tracking pressure level\n",
    "var_track = 'rvor' # variable\n",
    "rmax = 8 # radius (deg) limit to keep unmasked\n",
    "\n",
    "# #### Test/storm selection\n",
    "storm = 'haiyan'\n",
    "#storm = 'maria'\n",
    "\n",
    "# Tests to read and compare\n",
    "itest = 'ctl'\n",
    "\n",
    "# Starting member to read\n",
    "memb='memb_01'\n",
    "\n",
    "# #### Time selection\n",
    "nd = 3 # ndays\n",
    "nt = nd*24\n",
    "hr_tag = str(np.char.zfill(str(nt), 2))"
   ]
  },
  {
   "cell_type": "markdown",
   "id": "82f31aab",
   "metadata": {},
   "source": [
    "#### Directories"
   ]
  },
  {
   "cell_type": "code",
   "execution_count": 3,
   "id": "09231513",
   "metadata": {},
   "outputs": [],
   "source": [
    "figdir = \"/home/jamesrup/figures/tc/ens/\"+storm+'/'\n",
    "main = \"/ourdisk/hpc/radclouds/auto_archive_notyet/tape_2copies/wrfenkf/\"\n",
    "\n",
    "datdir2 = 'post/d02/'"
   ]
  },
  {
   "cell_type": "markdown",
   "id": "82f31aab",
   "metadata": {},
   "source": [
    "#### Get dimensions"
   ]
  },
  {
   "cell_type": "code",
   "execution_count": 4,
   "id": "97e5511e",
   "metadata": {},
   "outputs": [],
   "source": [
    "process = subprocess.Popen(['ls '+main+storm+'/memb_01/ctl/wrfout_d02_*'],shell=True,\n",
    "    stdout=subprocess.PIPE,universal_newlines=True)\n",
    "output = process.stdout.readline()\n",
    "wrffil = output.strip() #[3]\n",
    "varfil_main = Dataset(wrffil)\n",
    "lat = varfil_main.variables['XLAT'][:][0] # deg\n",
    "lon = varfil_main.variables['XLONG'][:][0] # deg\n",
    "lat1d = lat[:,0]\n",
    "lon1d = lon[0,:]\n",
    "nx1 = lat1d.size\n",
    "nx2 = lon1d.size\n",
    "varfil_main.close()\n",
    "\n",
    "datdir = main+storm+'/'+memb+'/ctl/'+datdir2\n",
    "varfil_main = Dataset(datdir+'T.nc')\n",
    "nz = varfil_main.dimensions['level'].size\n",
    "pres = varfil_main.variables['pres'][:] # hPa\n",
    "varfil_main.close()"
   ]
  },
  {
   "cell_type": "markdown",
   "id": "04db4825",
   "metadata": {},
   "source": [
    "#### Read variables"
   ]
  },
  {
   "cell_type": "code",
   "execution_count": 5,
   "id": "50309899",
   "metadata": {
    "tags": []
   },
   "outputs": [
    {
     "name": "stdout",
     "output_type": "stream",
     "text": [
      "Running itest:  ctl\n"
     ]
    }
   ],
   "source": [
    "if itest == 'ctl':\n",
    "  t0=36\n",
    "elif itest == 'ncrf':\n",
    "  t0=0\n",
    "elif itest == 'crfon':\n",
    "  t0=0\n",
    "\n",
    "t0+=1 # add one time step since NCRF(t=0) = CTL\n",
    "t1 = t0+nt\n",
    "\n",
    "print('Running itest: ',itest)\n",
    "\n",
    "datdir = main+storm+'/'+memb+'/'+itest+'/'+datdir2\n",
    "\n",
    "# Two-dimensional variables\n",
    "\n",
    "# Stratiform index\n",
    "if istrat != -1:\n",
    "  varfil_main = Dataset(datdir+'strat.nc')\n",
    "  strat = varfil_main.variables['strat'][t0:t1,:,:,:] # 0-non-raining, 1-conv, 2-strat, 3-other/anvil\n",
    "  varfil_main.close()"
   ]
  },
  {
   "cell_type": "code",
   "execution_count": 6,
   "id": "9f6a4898",
   "metadata": {},
   "outputs": [],
   "source": [
    "# 10m winds\n",
    "varfil_main = Dataset(datdir+'U10.nc')\n",
    "u = varfil_main.variables['U10'][t0:t1,:,:,:] # 0-non-raining, 1-conv, 2-strat, 3-other/anvil\n",
    "varfil_main.close()\n",
    "varfil_main = Dataset(datdir+'V10.nc')\n",
    "v = varfil_main.variables['V10'][t0:t1,:,:,:] # 0-non-raining, 1-conv, 2-strat, 3-other/anvil\n",
    "varfil_main.close()"
   ]
  },
  {
   "cell_type": "code",
   "execution_count": 7,
   "id": "6c0bb742",
   "metadata": {},
   "outputs": [
    {
     "name": "stdout",
     "output_type": "stream",
     "text": [
      "[18.628591537475586 18.834054946899414 20.292739868164062\n",
      " 19.861770629882812 18.45042610168457 20.51207733154297 19.56048583984375\n",
      " 19.936681747436523 19.641576766967773 19.483951568603516\n",
      " 19.417207717895508 17.047622680664062 16.94721221923828\n",
      " 17.054750442504883 17.39179039001465 16.77777671813965 17.96059226989746\n",
      " 21.453445434570312 19.118648529052734 20.308849334716797\n",
      " 19.349275588989258 19.576820373535156 19.586915969848633\n",
      " 20.73973274230957 20.86285400390625 20.53438377380371 22.724407196044922\n",
      " 20.668973922729492 21.25772476196289 21.744712829589844\n",
      " 22.860620498657227 20.57785415649414 19.492706298828125 20.53045654296875\n",
      " 22.06180763244629 19.45644760131836 19.152267456054688 25.678035736083984\n",
      " 24.774520874023438 25.547943115234375 25.957887649536133\n",
      " 21.361217498779297 20.980253219604492 19.83554458618164\n",
      " 21.238523483276367 20.122596740722656 23.207210540771484\n",
      " 22.859325408935547 25.277711868286133 28.39779281616211 30.62832260131836\n",
      " 33.33768844604492 31.105449676513672 31.573974609375 27.282451629638672\n",
      " 26.711711883544922 26.35262107849121 29.047033309936523 33.78020095825195\n",
      " 36.33778762817383 31.652206420898438 34.40890884399414 35.284263610839844\n",
      " 31.04500961303711 37.39826965332031 38.18519592285156 34.381080627441406\n",
      " 35.75770568847656 36.61771011352539 35.56604766845703 38.899559020996094\n",
      " 36.56404113769531]\n"
     ]
    }
   ],
   "source": [
    "# Get azimuthal winds\n",
    "# Get azimuthally averaged winds based on TC track\n",
    "\n",
    "track_file = datdir+'../../track_'+var_track+'_'+ptrack+'hPa.nc'\n",
    "rad_azim = 4 # deg\n",
    "vtan = azim_wind_latlon(track_file, u, v, lon, lat, rad_azim, t0, t1)\n"
   ]
  },
  {
   "cell_type": "code",
   "execution_count": null,
   "id": "50309899",
   "metadata": {
    "tags": []
   },
   "outputs": [],
   "source": [
    "# Three-dimensional variables if needed\n",
    "\n",
    "if iplot == 'thv' or iplot == 'the' or iplot == 'vmf' or iplot == 'rh':\n",
    "# Mixing ratio\n",
    "  varfil_main = Dataset(datdir+'QVAPOR.nc')\n",
    "  qv = varfil_main.variables['QVAPOR'][t0:t1,:,:,:] # kg/kg\n",
    "  varfil_main.close()\n",
    "# Temp\n",
    "  varfil_main = Dataset(datdir+'T.nc')\n",
    "  tmpk = varfil_main.variables['T'][t0:t1,:,:,:] # K\n",
    "  varfil_main.close()"
   ]
  },
  {
   "cell_type": "code",
   "execution_count": null,
   "id": "50309899",
   "metadata": {
    "tags": []
   },
   "outputs": [],
   "source": [
    "# ### Variable selection ##############################################\n",
    "\n",
    "# if iplot == 'thv':\n",
    "# # Virtual potential temp\n",
    "#   var = theta_virtual(tmpk,qv,(pres[np.newaxis,:,np.newaxis,np.newaxis])*1e2) # K\n",
    "# elif iplot == 'the': \n",
    "# # Equiv potential temp\n",
    "#   var = theta_equiv(tmpk,qv,(pres[np.newaxis,:,np.newaxis,np.newaxis])*1e2) # K\n",
    "# elif iplot == 'vmf':\n",
    "# # Vertical mass flux\n",
    "#   # Vertical motion\n",
    "#   varfil = Dataset(datdir+'W.nc') # this opens the netcdf file\n",
    "#   var = varfil.variables['W'][t0:t1,:,:,:] # m/s\n",
    "#   varfil.close()\n",
    "#   # Density\n",
    "#   # rho = density_moist(tmpk,qv,(pres[np.newaxis,:,np.newaxis,np.newaxis])*1e2) # kg/m3\n",
    "#   var *= density_moist(tmpk,qv,(pres[np.newaxis,:,np.newaxis,np.newaxis])*1e2) # kg/m3\n",
    "# elif iplot == 'rh':\n",
    "# # Humidity\n",
    "#   var = relh(qv,(pres[np.newaxis,:,np.newaxis,np.newaxis])*1e2,tmpk,ice=1) # %\n",
    "# elif iplot == 'qrad':\n",
    "# # Radiation\n",
    "#   varfil = Dataset(datdir+'RTHRATLW.nc') # this opens the netcdf file\n",
    "#   var = varfil.variables['RTHRATLW'][t0:t1,:,:,:]*3600*24 # K/s --> K/d\n",
    "#   varfil.close()\n",
    "#   varfil = Dataset(datdir+'RTHRATSW.nc') # this opens the netcdf file\n",
    "#   var += varfil.variables['RTHRATSW'][t0:t1,:,:,:]*3600*24 # K/s --> K/d\n",
    "#   varfil.close()"
   ]
  },
  {
   "cell_type": "markdown",
   "id": "04db4825",
   "metadata": {},
   "source": [
    "#### Use track to mask out, then average"
   ]
  },
  {
   "cell_type": "code",
   "execution_count": null,
   "id": "645e84e7",
   "metadata": {},
   "outputs": [],
   "source": [
    "def mask_and_avg(var):\n",
    "    # Localize to TC track\n",
    "    track_file = datdir+'../../track_'+var_track+'_'+ptrack+'hPa.nc'\n",
    "    var_mask = mask_tc_track(track_file, rmax, var, lon, lat, t0, t1)\n",
    "    \n",
    "    # Average in x,y\n",
    "    var_tser = np.mean(var_mask,axis=(2,3))\n",
    "    \n",
    "    return var_tser"
   ]
  },
  {
   "cell_type": "markdown",
   "id": "cabd401c",
   "metadata": {
    "tags": []
   },
   "source": [
    "---\n",
    "### Plotting routines"
   ]
  },
  {
   "cell_type": "code",
   "execution_count": null,
   "id": "9393442e",
   "metadata": {},
   "outputs": [],
   "source": [
    "# if iplot == 'thv':\n",
    "#     # Figure settings\n",
    "#     fig_title=r\"$\\theta_v$\"\n",
    "#     fig_tag='thv'\n",
    "#     units_var='K'\n",
    "#     cmax=5\n",
    "#     cmin=-1.*cmax\n",
    "# elif iplot == 'the':\n",
    "#     # Figure settings\n",
    "#     fig_title=r\"$\\theta_e$\"\n",
    "#     fig_tag='the'\n",
    "#     units_var='K'\n",
    "#     cmax=5\n",
    "#     cmin=-1.*cmax\n",
    "# elif iplot == 'vmf':\n",
    "#     # Figure settings\n",
    "#     fig_title='VMF'\n",
    "#     fig_tag='vmf'\n",
    "#     units_var='kg m$^{-2}$ s$^{-1}$'\n",
    "#     cmax=20\n",
    "#     cmin=-1.*cmax\n",
    "# elif iplot == 'rh':\n",
    "#     # Figure settings\n",
    "#     fig_title='RH'\n",
    "#     fig_tag='rh'\n",
    "#     units_var='-'\n",
    "#     cmax=100\n",
    "#     cmin=40\n",
    "# elif iplot == 'qrad':\n",
    "#     # Figure settings\n",
    "#     fig_title='$Q_R$'\n",
    "#     fig_tag='qrad'\n",
    "#     units_var='K d$^{-1}$'\n",
    "#     cmax=5\n",
    "#     cmin=-1.*cmax\n",
    "\n",
    "# if do_prm_xy == 1:\n",
    "#     fig_tag+='_xyp'\n",
    "#     fig_title+=' (xp)'"
   ]
  },
  {
   "cell_type": "code",
   "execution_count": null,
   "id": "88803959",
   "metadata": {},
   "outputs": [],
   "source": [
    "font = {'family' : 'sans-serif',\n",
    "        'weight' : 'normal',\n",
    "        'size'   : 16}\n",
    "\n",
    "matplotlib.rc('font', **font)"
   ]
  },
  {
   "cell_type": "markdown",
   "id": "9200567a",
   "metadata": {},
   "source": [
    "#### Vertical mass flux"
   ]
  },
  {
   "cell_type": "code",
   "execution_count": null,
   "id": "90bc14db",
   "metadata": {},
   "outputs": [],
   "source": [
    "# Vertical mass flux\n",
    "# Vertical motion\n",
    "varfil = Dataset(datdir+'W.nc') # this opens the netcdf file\n",
    "vmf = varfil.variables['W'][t0:t1,:,:,:] # m/s\n",
    "varfil.close()\n",
    "# Density\n",
    "vmf *= density_moist(tmpk,qv,(pres[np.newaxis,:,np.newaxis,np.newaxis])*1e2) # kg/m3"
   ]
  },
  {
   "cell_type": "code",
   "execution_count": null,
   "id": "2d766dc6",
   "metadata": {},
   "outputs": [],
   "source": [
    "# Standard masking\n",
    "# vmf_tser = mask_and_avg(vmf)\n",
    "\n",
    "# Mask for istrat only\n",
    "vmf_strat_mask = np.ma.masked_where((np.repeat(strat,nz,axis=1) != istrat), vmf, copy=True)\n",
    "vmf_tser = mask_and_avg(vmf_strat_mask)"
   ]
  },
  {
   "cell_type": "code",
   "execution_count": null,
   "id": "8aa856a6",
   "metadata": {},
   "outputs": [],
   "source": [
    "# Figure settings\n",
    "fig_title='VMF'\n",
    "fig_tag='vmf'\n",
    "units_var='kg m$^{-2}$ s$^{-1}$'\n",
    "cmax=20\n",
    "cmin=-1.*cmax"
   ]
  },
  {
   "cell_type": "code",
   "execution_count": null,
   "id": "e4a6e172",
   "metadata": {},
   "outputs": [
    {
     "data": {
      "image/png": "[encoded data removed]",
      "text/plain": [
       "<Figure size 1008x576 with 2 Axes>"
      ]
     },
     "metadata": {
      "needs_background": "light"
     },
     "output_type": "display_data"
    }
   ],
   "source": [
    "# create figure\n",
    "fig = plt.figure(figsize=(14,8))\n",
    "ax = fig.add_subplot(111)\n",
    "\n",
    "ax.set_title(fig_title)\n",
    "ax.set_ylabel('Pressure [hPa]')\n",
    "ax.set_xlabel('Time [hours]')\n",
    "\n",
    "pltvar = vmf_tser * 1e2\n",
    "\n",
    "# fill contour\n",
    "nlevs=21\n",
    "inc=(cmax-cmin)/nlevs\n",
    "clevs = np.arange(cmin, cmax+inc, inc)\n",
    "im = ax.contourf(range(t0,t1), pres, np.transpose(pltvar), clevs, cmap='RdBu_r', alpha=0.8, \\\n",
    "                 extend='max', zorder=2)\n",
    "\n",
    "cbar = plt.colorbar(im, ax=ax, shrink=0.75, ticks=matplotlib.ticker.AutoLocator())\n",
    "cbar.ax.set_ylabel(units_var)\n",
    "ax.invert_yaxis()\n",
    "ax.set_yscale('log')\n",
    "# ax.set_xscale(log_x)\n",
    "ax.yaxis.set_major_formatter(matplotlib.ticker.ScalarFormatter())\n",
    "ax.yaxis.set_minor_formatter(matplotlib.ticker.ScalarFormatter())\n",
    "\n",
    "# # line contour\n",
    "# # clevs = np.arange(lcmin, lcmax, lcint)\n",
    "# clevs = [0.1,0.5,1,2,5,10,50,100,500,1000,2000,3000]\n",
    "# clevs = np.concatenate((-1*np.flip(clevs),clevs))\n",
    "# cpltvar=binvar_c_mn\n",
    "# im = ax.contour(bins[0:nbins-1], pres, np.transpose(cpltvar), clevs, colors='black', zorder=2)\n",
    "# ax.clabel(im, im.levels, inline=True, fontsize=13)\n",
    "\n",
    "plt.show()\n",
    "# plt.savefig(figdir+figtag+'_compcross_'+imemb+'_'+ivar_select+'.png',dpi=200, facecolor='white', \\\n",
    "#             bbox_inches='tight', pad_inches=0.2)"
   ]
  },
  {
   "cell_type": "markdown",
   "id": "9200567a",
   "metadata": {},
   "source": [
    "#### Relative humidity"
   ]
  },
  {
   "cell_type": "code",
   "execution_count": null,
   "id": "90bc14db",
   "metadata": {},
   "outputs": [],
   "source": [
    "# Rel hum\n",
    "relh = relh(qv,pres[np.newaxis,:,np.newaxis,np.newaxis]*1e2,tmpk,ice=1) # %\n",
    "# var_tser = mask_and_avg(var)"
   ]
  },
  {
   "cell_type": "code",
   "execution_count": null,
   "id": "90bc14db",
   "metadata": {},
   "outputs": [],
   "source": [
    "relh_tser = mask_and_avg(relh)"
   ]
  },
  {
   "cell_type": "code",
   "execution_count": null,
   "id": "2d766dc6",
   "metadata": {},
   "outputs": [],
   "source": [
    "# Standard masking\n",
    "# relh_tser = mask_and_avg(relh)\n",
    "\n",
    "# Mask for istrat only\n",
    "relh_strat_mask = np.ma.masked_where((np.repeat(strat,nz,axis=1) != istrat), relh, copy=True)\n",
    "relh_tser = mask_and_avg(relh_strat_mask)"
   ]
  },
  {
   "cell_type": "code",
   "execution_count": null,
   "id": "4a14dad7",
   "metadata": {},
   "outputs": [],
   "source": [
    "# Figure settings\n",
    "fig_title='RH'\n",
    "fig_tag='rh'\n",
    "units_var='%'\n",
    "cmax=100\n",
    "cmin=40"
   ]
  },
  {
   "cell_type": "code",
   "execution_count": null,
   "id": "e4a6e172",
   "metadata": {},
   "outputs": [
    {
     "data": {
      "image/png": "[encoded data removed]",
      "text/plain": [
       "<Figure size 1008x576 with 2 Axes>"
      ]
     },
     "metadata": {
      "needs_background": "light"
     },
     "output_type": "display_data"
    }
   ],
   "source": [
    "# create figure\n",
    "fig = plt.figure(figsize=(14,8))\n",
    "ax = fig.add_subplot(111)\n",
    "\n",
    "ax.set_title(fig_title)\n",
    "ax.set_ylabel('Pressure [hPa]')\n",
    "ax.set_xlabel('Time [hours]')\n",
    "\n",
    "pltvar = relh_tser\n",
    "\n",
    "# fill contour\n",
    "nlevs=21\n",
    "inc=(cmax-cmin)/nlevs\n",
    "clevs = np.arange(cmin, cmax+inc, inc)\n",
    "im = ax.contourf(range(t0,t1), pres, np.transpose(pltvar), clevs, cmap='BrBG', alpha=0.8, \\\n",
    "                 extend='max', zorder=2)\n",
    "\n",
    "cbar = plt.colorbar(im, ax=ax, shrink=0.75, ticks=matplotlib.ticker.AutoLocator())\n",
    "cbar.ax.set_ylabel(units_var)\n",
    "ax.invert_yaxis()\n",
    "ax.set_yscale('log')\n",
    "# ax.set_xscale(log_x)\n",
    "ax.yaxis.set_major_formatter(matplotlib.ticker.ScalarFormatter())\n",
    "ax.yaxis.set_minor_formatter(matplotlib.ticker.ScalarFormatter())\n",
    "\n",
    "# line contour\n",
    "# clevs = np.arange(lcmin, lcmax, lcint)\n",
    "clevs = range(10,100,10)\n",
    "cpltvar = pltvar\n",
    "im = ax.contour(range(t0,t1), pres, np.transpose(cpltvar), clevs, colors='black', zorder=2)\n",
    "ax.clabel(im, im.levels, inline=True, fontsize=13)\n",
    "\n",
    "plt.show()\n",
    "# plt.savefig(figdir+figtag+'_compcross_'+imemb+'_'+ivar_select+'.png',dpi=200, facecolor='white', \\\n",
    "#             bbox_inches='tight', pad_inches=0.2)"
   ]
  }
 ],
 "metadata": {
  "kernelspec": {
   "display_name": "Python 3.9.12 ('plotting')",
   "language": "python",
   "name": "python3"
  },
  "language_info": {
   "codemirror_mode": {
    "name": "ipython",
    "version": 3
   },
   "file_extension": ".py",
   "mimetype": "text/x-python",
   "name": "python",
   "nbconvert_exporter": "python",
   "pygments_lexer": "ipython3",
   "version": "3.9.12"
  },
  "vscode": {
   "interpreter": {
    "hash": "ba66c6fa676980db47fde7e4bec9b37760d72b0a5b2c3cc0f1f376041f14579d"
   }
  }
 },
 "nbformat": 4,
 "nbformat_minor": 5
}
