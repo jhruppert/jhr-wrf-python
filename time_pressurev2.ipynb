{
 "cells": [
  {
   "attachments": {},
   "cell_type": "markdown",
   "id": "43863f18",
   "metadata": {
    "tags": []
   },
   "source": [
    "#### Notebook to create time-pressure series from TC output\n",
    "\n",
    "Assumes key integrated variables have been processed and written out by PE_write.py to single-level netcdf files.\n",
    "\n",
    "James Ruppert  \n",
    "jruppert@ou.edu  \n",
    "1/8/23"
   ]
  },
  {
   "cell_type": "code",
   "execution_count": null,
   "metadata": {},
   "outputs": [],
   "source": [
    "from netCDF4 import Dataset\n",
    "import numpy as np\n",
    "import matplotlib\n",
    "# matplotlib.use('pdf')\n",
    "import matplotlib.pyplot as plt\n",
    "from matplotlib import ticker, cm\n",
    "import subprocess\n",
    "import sys\n",
    "import pandas as pd"
   ]
  },
  {
   "cell_type": "markdown",
   "id": "d3a84805",
   "metadata": {},
   "source": [
    "#### Main settings"
   ]
  },
  {
   "cell_type": "code",
   "execution_count": null,
   "metadata": {},
   "outputs": [],
   "source": [
    "# NOTE: Using copied tracking from CTL for NCRF tests\n",
    "\n",
    "# #### Variable selection\n",
    "\n",
    "storm = 'haiyan'\n",
    "storm = 'maria'\n",
    "\n",
    "# How many members\n",
    "nmem = 10 # number of ensemble members\n",
    "# nmem = 4\n",
    "\n",
    "# #### Directories\n",
    "\n",
    "figdir = \"/home/jamesrup/figures/tc/ens/time_pres/\"\n",
    "main = \"/ourdisk/hpc/radclouds/auto_archive_notyet/tape_2copies/tc_ens/\""
   ]
  },
  {
   "cell_type": "code",
   "execution_count": null,
   "metadata": {},
   "outputs": [],
   "source": [
    "def get_tshift(itest):\n",
    "    if itest == 'ctl':\n",
    "        tshift=0\n",
    "    elif itest == 'ncrf36h':\n",
    "        tshift=36\n",
    "    elif itest == 'ncrf48h':\n",
    "        tshift=48\n",
    "    return tshift"
   ]
  },
  {
   "cell_type": "code",
   "execution_count": null,
   "metadata": {},
   "outputs": [],
   "source": [
    "# Tests to read and compare\n",
    "ntest=2\n",
    "if storm == 'haiyan':\n",
    "    tests = ['ctl','ncrf36h']\n",
    "elif storm == 'maria':\n",
    "#        tests = ['ctl','ncrf36h']\n",
    "    tests = ['ctl','ncrf48h']\n",
    "\n",
    "# Ens member strings\n",
    "memb0=1 # Starting member to read\n",
    "nums=np.arange(memb0,nmem+memb0,1)\n",
    "nums=nums.astype(str)\n",
    "nustr = np.char.zfill(nums, 2)\n",
    "memb_all=np.char.add('memb_',nustr)\n",
    "\n",
    "# Get Lat/Lon\n",
    "datdir = main+storm+'/'+memb_all[0]+'/'+tests[0]+'/'\n",
    "process = subprocess.Popen(['ls '+datdir+'/wrfout_d02_*'],shell=True,\n",
    "    stdout=subprocess.PIPE,universal_newlines=True)\n",
    "output = process.stdout.readline()\n",
    "wrffil = output.strip() #[3]\n",
    "varfil_main = Dataset(wrffil)\n",
    "lat = varfil_main.variables['XLAT'][:][0] # deg\n",
    "lon = varfil_main.variables['XLONG'][:][0] # deg\n",
    "varfil_main.close()\n",
    "lon1d=lon[0,:]\n",
    "lat1d=lat[:,0]"
   ]
  },
  {
   "cell_type": "code",
   "execution_count": null,
   "metadata": {},
   "outputs": [],
   "source": [
    "# Create arrays\n",
    "\n",
    "nt = np.zeros(ntest, dtype=np.int32)\n",
    "\n",
    "for itest in range(ntest):\n",
    "    ##### Get dimensions\n",
    "    datdir = main+storm+'/'+memb_all[0]+'/'+tests[itest]+'/'\n",
    "    varfil_main = Dataset(datdir+'post/d02/T.nc')\n",
    "    i_nt = varfil_main.dimensions['time'].size\n",
    "    varfil_main.close()\n",
    "\n",
    "    nt[itest]=i_nt\n",
    "\n",
    "avor_t0 = np.zeros((nmem,nt[0]))\n",
    "thvp_t0 = np.zeros((nmem,nt[0]))\n",
    "\n",
    "avor_t1 = np.zeros((nmem,nt[1]))\n",
    "thvp_t1 = np.zeros((nmem,nt[1]))"
   ]
  },
  {
   "attachments": {},
   "cell_type": "markdown",
   "id": "04db4825",
   "metadata": {},
   "source": [
    "#### Main loop"
   ]
  },
  {
   "cell_type": "code",
   "execution_count": null,
   "metadata": {},
   "outputs": [],
   "source": [
    "for itest in range(ntest):\n",
    "\n",
    "    print('Running test: ',tests[itest])\n",
    "\n",
    "    for imemb in range(nmem):\n",
    "\n",
    "        print('Running imemb: ',memb_all[imemb])\n",
    "\n",
    "        datdir = main+storm+'/'+memb_all[imemb]+'/'+tests[itest]+'/post/d02/'\n",
    "\n",
    "        # Read variables\n",
    "\n",
    "        # AVOR\n",
    "        varfil_main = Dataset(datdir+'time_pres_avor.nc')\n",
    "        avor = varfil_main.variables['avor'][:,:] # 10^-5 /s\n",
    "        pres = varfil_main.variables['pres'][:] # Pa\n",
    "        varfil_main.close()\n",
    "\n",
    "        # THV'\n",
    "        varfil_main = Dataset(datdir+'time_pres_thvp.nc')\n",
    "        thvp = varfil_main.variables['thvp'][:,:] # K\n",
    "        varfil_main.close()\n",
    "\n",
    "        t0=0\n",
    "        t1=nt[itest]\n",
    "\n",
    "        if itest == 0:\n",
    "            avor_t0[imemb,it] = avor\n",
    "            thvp_t0[imemb,it] = thvp\n",
    "        elif itest == 1:\n",
    "            avor_t1[imemb,it] = avor\n",
    "            thvp_t1[imemb,it] = thvp"
   ]
  },
  {
   "cell_type": "markdown",
   "id": "cabd401c",
   "metadata": {
    "tags": []
   },
   "source": [
    "---\n",
    "### Plotting routines"
   ]
  },
  {
   "cell_type": "code",
   "execution_count": null,
   "metadata": {},
   "outputs": [],
   "source": [
    "font = {'family' : 'sans-serif',\n",
    "        'weight' : 'normal',\n",
    "        'size'   : 14}\n",
    "\n",
    "matplotlib.rc('font', **font)"
   ]
  },
  {
   "cell_type": "code",
   "execution_count": null,
   "metadata": {},
   "outputs": [],
   "source": [
    "# Variable settings\n",
    "\n",
    "# Radar Reflectivity\n",
    "if fillvar_select == 'dbz':\n",
    "    title = 'Ref'\n",
    "    units_var1 = 'dBZ'\n",
    "    cmin = -20; cmax=20\n",
    "    cmap='RdBu_r'\n",
    "# Radiation\n",
    "elif fillvar_select == 'lwcrf':\n",
    "    title = 'LW-CRF'\n",
    "    figtag = fillvar_select\n",
    "    cmap='RdBu_r'\n",
    "    units_var1 = 'K/d'\n",
    "    cmax=4; cmin=-1.*cmax"
   ]
  },
  {
   "cell_type": "code",
   "execution_count": null,
   "metadata": {},
   "outputs": [],
   "source": [
    "nvar=2\n",
    "for ivar in range(nvar):\n",
    "# for ivar in range(0,1):\n",
    "\n",
    "    if ivar == 0:\n",
    "        var0 = np.copy(avor_t0)\n",
    "        var1 = np.copy(avor_t1)\n",
    "        title_tag = 'Abs Vort'\n",
    "        figtag = 'avor'\n",
    "        units_var = '10$^{-5}$ /s'\n",
    "        cmin = -20; cmax=20\n",
    "        cmap='RdBu_r'\n",
    "    elif ivar == 1:\n",
    "        var0 = np.copy(thvp_t0)\n",
    "        var1 = np.copy(thvp_t1)\n",
    "        title_tag = r\"$\\theta_v'$ (meso-$\\beta$)\"\n",
    "        figtag = 'thvp'\n",
    "        units_var = 'K/d'\n",
    "        cmap='RdBu_r'\n",
    "        cmax=4; cmin=-1.*cmax\n",
    "\n",
    "    # var0 = pd.DataFrame(var0)\n",
    "    # var0 = var0.rolling(window=3, center=True, closed='both', axis=1).mean()\n",
    "    # var0 = np.copy(var0)\n",
    "\n",
    "    # var1 = pd.DataFrame(var1)\n",
    "    # var1 = var1.rolling(window=3, center=True, closed='both', axis=1).mean()\n",
    "    # var1 = np.copy(var1)\n",
    "\n",
    "    for itest in range(ntest):\n",
    "\n",
    "        if itest == 0:\n",
    "            var = np.copy(var0)\n",
    "        elif itest == 1:\n",
    "            var = np.copy(var1)\n",
    "\n",
    "        varmean = np.nanmean(var, axis=0)\n",
    "        # std_t0 = np.nanstd(var, axis=0)\n",
    "\n",
    "        tshift = get_tshift(tests[itest])\n",
    "        xdim = range(0+tshift, nt[itest]+tshift)\n",
    "\n",
    "        # t_range=[30,80]\n",
    "        # plt.xlim(t_range)\n",
    "\n",
    "        # create figure\n",
    "        fig = plt.figure(figsize=(9,5))\n",
    "        ax = fig.add_subplot(111)\n",
    "\n",
    "        ax.set_title(title_tag+' ('+storm.capitalize()+')')#, fontsize=20)\n",
    "        ax.set_ylabel('Pressure [hPa]')\n",
    "        ax.set_xlabel('Time [hours]')\n",
    "\n",
    "        # fill contour\n",
    "        nlevs=21\n",
    "        inc=(cmax-cmin)/nlevs\n",
    "        clevs = np.arange(cmin, cmax+inc, inc)\n",
    "        im = ax.contourf(xdim, pres, np.transpose(var), clevs, cmap=cmap, alpha=0.8, \\\n",
    "                        extend='max', zorder=2)\n",
    "\n",
    "        cbar = plt.colorbar(im, ax=ax, shrink=0.75, ticks=ticker.AutoLocator())\n",
    "        cbar.ax.set_ylabel(units_var)\n",
    "\n",
    "        # Pressure axis\n",
    "        ax.set_yscale('log')\n",
    "        ax.invert_yaxis()\n",
    "        ax.yaxis.set_major_formatter(ticker.ScalarFormatter())\n",
    "        ytick_loc=np.arange(900,0,-100)\n",
    "        plt.yticks(ticks=ytick_loc)\n",
    "        plt.ylim(np.max(pres), 100)#np.min(pres))\n",
    "        # ax.tick_params(axis='both',length=7)\n",
    "\n",
    "        plt.grid()\n",
    "\n",
    "        # plt.legend(loc=\"upper right\")\n",
    "\n",
    "        plt.savefig(figdir+'tser_'+storm+'_'+figtag+'_'+fig_extra+'.png',dpi=200, facecolor='white', \\\n",
    "                    bbox_inches='tight', pad_inches=0.2)\n",
    "        plt.show()\n",
    "        plt.close()"
   ]
  }
 ],
 "metadata": {
  "kernelspec": {
   "display_name": "plotting",
   "language": "python",
   "name": "python3"
  },
  "language_info": {
   "codemirror_mode": {
    "name": "ipython",
    "version": 3
   },
   "file_extension": ".py",
   "mimetype": "text/x-python",
   "name": "python",
   "nbconvert_exporter": "python",
   "pygments_lexer": "ipython3",
   "version": "3.8.13 | packaged by conda-forge | (default, Mar 25 2022, 06:04:10) \n[GCC 10.3.0]"
  },
  "orig_nbformat": 4,
  "vscode": {
   "interpreter": {
    "hash": "ba66c6fa676980db47fde7e4bec9b37760d72b0a5b2c3cc0f1f376041f14579d"
   }
  }
 },
 "nbformat": 4,
 "nbformat_minor": 2
}
