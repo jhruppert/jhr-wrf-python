{
 "cells": [
  {
   "attachments": {},
   "cell_type": "markdown",
   "id": "43863f18",
   "metadata": {
    "tags": []
   },
   "source": [
    "### Notebook to genereate box and whisker plots from TC output binned by cloud classification scheme.\n",
    "\n",
    "Assumes output is in a single netcdf file on pressure levels.\n",
    "\n",
    "James Ruppert  \n",
    "jruppert@ou.edu  \n",
    "12/8/23"
   ]
  },
  {
   "cell_type": "code",
   "execution_count": 1,
   "id": "4cb54873",
   "metadata": {
    "tags": []
   },
   "outputs": [],
   "source": [
    "from netCDF4 import Dataset\n",
    "import numpy as np\n",
    "import matplotlib\n",
    "from matplotlib import ticker\n",
    "import matplotlib.pyplot as plt\n",
    "import subprocess\n",
    "import sys\n",
    "from thermo_functions import theta_virtual, relh, theta_equiv\n",
    "from cfads_functions import mask_edges\n",
    "from precip_class import precip_class\n",
    "import seaborn as sns"
   ]
  },
  {
   "cell_type": "markdown",
   "id": "d3a84805",
   "metadata": {},
   "source": [
    "#### Main settings"
   ]
  },
  {
   "cell_type": "code",
   "execution_count": 2,
   "id": "31b810e3",
   "metadata": {
    "tags": []
   },
   "outputs": [],
   "source": [
    "# Number of sample time steps\n",
    "nt=200 # will be chopped down to max available\n",
    "nt=12"
   ]
  },
  {
   "attachments": {},
   "cell_type": "markdown",
   "id": "82f31aab",
   "metadata": {},
   "source": [
    "#### Additional settings and directories"
   ]
  },
  {
   "cell_type": "code",
   "execution_count": 3,
   "id": "09231513",
   "metadata": {},
   "outputs": [],
   "source": [
    "storm = 'haiyan'\n",
    "# storm = 'maria'\n",
    "\n",
    "# main = \"/ourdisk/hpc/radclouds/auto_archive_notyet/tape_2copies/wrfenkf/\"\n",
    "main = \"/ourdisk/hpc/radclouds/auto_archive_notyet/tape_2copies/tc_ens/\"\n",
    "figdir = \"/home/jamesrup/figures/tc/ens/\"+storm+'/'\n",
    "datdir2 = 'post/d02/'\n",
    "\n",
    "# Tests to read and compare\n",
    "# tests = ['crfon','ncrf']\n",
    "# if storm == 'haiyan':\n",
    "#     tests = ['ctl','ncrf36h']\n",
    "# elif storm == 'maria':\n",
    "#     # tests = ['ctl','ncrf36h']\n",
    "#     tests = ['ctl','ncrf48h']\n",
    "tests = ['ctl']\n",
    "\n",
    "time_neglect=12 # time steps from start to neglect\n",
    "\n",
    "# Members\n",
    "nmem = 10 # number of ensemble members (1-5 have NCRF)\n",
    "# nmem = 5\n",
    "nmem = 2\n",
    "enstag = str(nmem)"
   ]
  },
  {
   "cell_type": "code",
   "execution_count": 4,
   "id": "50309899",
   "metadata": {
    "tags": []
   },
   "outputs": [],
   "source": [
    "# Ensemble member info\n",
    "memb0=1 # Starting member to read\n",
    "nums=np.arange(memb0,nmem+memb0,1); nums=nums.astype(str)\n",
    "nustr = np.char.zfill(nums, 2)\n",
    "memb_all=np.char.add('memb_',nustr)\n",
    "\n",
    "##### Get dimensions\n",
    "\n",
    "datdir = main+storm+'/'+memb_all[0]+'/'+tests[0]+'/'+datdir2\n",
    "datdir3d = datdir #+'v2/'\n",
    "varfil_main = Dataset(datdir3d+'T.nc')\n",
    "nz = varfil_main.dimensions['level'].size\n",
    "nx1 = varfil_main.dimensions['lat'].size\n",
    "nx2 = varfil_main.dimensions['lon'].size\n",
    "nt_data = varfil_main.dimensions['time'].size\n",
    "nt=np.min([nt,nt_data-time_neglect])\n",
    "pres = varfil_main.variables['pres'][:] # hPa\n",
    "dp = (pres[1]-pres[0])*1e2 # Pa\n",
    "varfil_main.close()\n",
    "\n",
    "# process = subprocess.Popen(['ls '+main+storm+'/'+memb_all[0]+'/'+tests[0]+'/wrfout_d02_*'],shell=True,\n",
    "#     stdout=subprocess.PIPE,universal_newlines=True)\n",
    "# output = process.stdout.readline()\n",
    "# wrffil = output.strip() #[3]\n",
    "# varfil_main = Dataset(wrffil)\n",
    "# lat = varfil_main.variables['XLAT'][:][0] # deg\n",
    "# lon = varfil_main.variables['XLONG'][:][0] # deg\n",
    "# varfil_main.close()"
   ]
  },
  {
   "cell_type": "markdown",
   "id": "82f31aab",
   "metadata": {},
   "source": [
    "#### NetCDF variable read functions"
   ]
  },
  {
   "cell_type": "code",
   "execution_count": 5,
   "id": "c22b1500",
   "metadata": {},
   "outputs": [],
   "source": [
    "def var_read_3d(datdir,varname,t0,t1):\n",
    "    varfil_main = Dataset(datdir+varname+'.nc')\n",
    "    var = varfil_main.variables[varname][t0:t1,:,:,:]\n",
    "    varfil_main.close()\n",
    "    mask_edges(var)\n",
    "    return var\n",
    "def var_read_2d(datdir,varname,t0,t1):\n",
    "    varfil_main = Dataset(datdir+varname+'.nc')\n",
    "    var = varfil_main.variables[varname][t0:t1,:,:,:]\n",
    "    varfil_main.close()\n",
    "    mask_edges(var)\n",
    "    return var"
   ]
  },
  {
   "cell_type": "code",
   "execution_count": 6,
   "id": "f78f890a",
   "metadata": {},
   "outputs": [],
   "source": [
    "# For MSE variance terms\n",
    "\n",
    "def read_mse(datdir,t0,t1):\n",
    "    varfil_main = Dataset(datdir+'mse_diag.nc')\n",
    "    mse = varfil_main.variables['mse_int'][t0:t1,:,:] # J/m2\n",
    "    varfil_main.close()\n",
    "    return mse\n",
    "\n",
    "def read_vmf(datdir,t0,t1):\n",
    "    varfil_main = Dataset(datdir+'mse_diag.nc')\n",
    "    vmfu = varfil_main.variables['vmfu'][t0:t1,:,:] # kg/m/s\n",
    "    vmfd = varfil_main.variables['vmfd'][t0:t1,:,:] # kg/m/s\n",
    "    varfil_main.close()\n",
    "    return vmfu, vmfd\n",
    "\n",
    "def read_lwnet(datdir,t0,t1):\n",
    "    lw_t = var_read_2d(datdir,'LWUPT',t0,t1) - var_read_2d(datdir,'LWDNT',t0,t1) # W/m2\n",
    "    lw_b = var_read_2d(datdir,'LWUPB',t0,t1) - var_read_2d(datdir,'LWDNB',t0,t1) # W/m2\n",
    "    lwnet = lw_b - lw_t\n",
    "    return lwnet\n",
    "\n",
    "def read_lwnetc(datdir,t0,t1):\n",
    "    lw_t = var_read_2d(datdir,'LWUPTC',t0,t1) - var_read_2d(datdir,'LWDNTC',t0,t1) # W/m2\n",
    "    lw_b = var_read_2d(datdir,'LWUPBC',t0,t1) - var_read_2d(datdir,'LWDNBC',t0,t1) # W/m2\n",
    "    lwnetc = lw_b - lw_t\n",
    "    return lwnetc"
   ]
  },
  {
   "cell_type": "markdown",
   "id": "04db4825",
   "metadata": {},
   "source": [
    "#### Main loops and compositing"
   ]
  },
  {
   "cell_type": "code",
   "execution_count": 7,
   "id": "50309899",
   "metadata": {
    "tags": []
   },
   "outputs": [
    {
     "name": "stdout",
     "output_type": "stream",
     "text": [
      "Running test:  ctl\n",
      "Running imemb:  memb_01\n",
      "/ourdisk/hpc/radclouds/auto_archive_notyet/tape_2copies/tc_ens/haiyan/memb_01/ctl/post/d02/\n",
      "Running imemb:  memb_02\n",
      "/ourdisk/hpc/radclouds/auto_archive_notyet/tape_2copies/tc_ens/haiyan/memb_02/ctl/post/d02/\n"
     ]
    }
   ],
   "source": [
    "# Main read loops for 3D (dependent) variables\n",
    "\n",
    "# Arrays to save variables\n",
    "ntest=len(tests)\n",
    "strat_all  = np.ma.zeros((ntest,nmem,nt,nx1,nx2))\n",
    "cwv_all    = np.ma.zeros((ntest,nmem,nt,nx1,nx2))\n",
    "lwacre_all = np.ma.zeros((ntest,nmem,nt,nx1,nx2))\n",
    "lwnet_all  = np.ma.zeros((ntest,nmem,nt,nx1,nx2))\n",
    "vmfu_all   = np.ma.zeros((ntest,nmem,nt,nx1,nx2))\n",
    "vmfd_all   = np.ma.zeros((ntest,nmem,nt,nx1,nx2))\n",
    "# mse_all = np.ma.zeros((ntest,nmem,nt,nx1,nx2))\n",
    "# mselw_all = np.ma.zeros((ntest,nmem,nt,nx1,nx2))\n",
    "\n",
    "for ktest in range(ntest):\n",
    "\n",
    "    test_str=tests[ktest]\n",
    "\n",
    "    # This has been tested for corresponding time steps:\n",
    "    #   t0=37,1 are the first divergent time steps in CTL,NCRF\n",
    "    #   t0=25,1 are the first divergent time steps in NCRF,CRFON\n",
    "    # if test_str == 'ctl':\n",
    "    #     if tests[1] == 'ncrf36h':\n",
    "    #         t0=36\n",
    "    #     elif tests[1] == 'ncrf48h':\n",
    "    #         t0=48\n",
    "    # elif test_str == 'ncrf36h':\n",
    "    #     t0=t0_test\n",
    "    # elif test_str == 'ncrf48h':\n",
    "    #     t0=t0_test\n",
    "    # elif test_str == 'crfon':\n",
    "    #     t0=0\n",
    "    t0=time_neglect # neglect the first 12 time steps\n",
    "    t1=t0+nt\n",
    "\n",
    "    # t0+=1 # add one time step since NCRF(t=0) = CTL\n",
    "    # t1 = t0+nt\n",
    "\n",
    "    print('Running test: ',test_str)\n",
    "\n",
    "    # Loop over ensemble members\n",
    "\n",
    "    for imemb in range(nmem):\n",
    "    \n",
    "        print('Running imemb: ',memb_all[imemb])\n",
    "    \n",
    "        datdir = main+storm+'/'+memb_all[imemb]+'/'+test_str+'/'+datdir2\n",
    "        datdir3d = datdir #+'v2/'\n",
    "        print(datdir)\n",
    "\n",
    "        # Stratiform ID\n",
    "        varfil_main = Dataset(datdir+'q_int.nc')\n",
    "        q_int = varfil_main.variables['q_int'][:,t0:t1,:,:] # 'nq','nt','nx1','nx2',\n",
    "        varfil_main.close()\n",
    "        strat = precip_class(q_int)\n",
    "\n",
    "        # MSE variance\n",
    "        # mse = read_mse(datdir,t0,t1) # J/m2\n",
    "\n",
    "        # lwnet\n",
    "        lwnet = read_lwnet(datdir,t0,t1) # W/m2\n",
    "        lwnetc = read_lwnetc(datdir,t0,t1) # W/m2\n",
    "        lwacre = lwnet - lwnetc # W/m2\n",
    "\n",
    "        # VMF\n",
    "        vmfu, vmfd = read_vmf(datdir,t0,t1) # kg/m2/s\n",
    "\n",
    "        # CWV\n",
    "        varname='PW'\n",
    "        cwv = var_read_2d(datdir3d,varname,t0,t1) # mm\n",
    "        # ddtq = np.gradient(lwnet, axis=0) # mm/hr\n",
    "\n",
    "        ### Process and save variable ##############################################\n",
    "\n",
    "        # Save ens member\n",
    "        strat_all[ktest,imemb,:,:,:]  = strat\n",
    "        lwacre_all[ktest,imemb,:,:,:] = lwacre[:,0,:,:]\n",
    "        lwnet_all[ktest,imemb,:,:,:]  = lwnet[:,0,:,:]\n",
    "        cwv_all[ktest,imemb,:,:,:]    = cwv[:,0,:,:]\n",
    "        vmfu_all[ktest,imemb,:,:,:]   = vmfu\n",
    "        vmfd_all[ktest,imemb,:,:,:]   = vmfd"
   ]
  },
  {
   "cell_type": "code",
   "execution_count": 8,
   "id": "0342885c",
   "metadata": {},
   "outputs": [],
   "source": [
    "vmf_all = vmfu_all + vmfd_all"
   ]
  },
  {
   "cell_type": "markdown",
   "id": "d65727a6",
   "metadata": {},
   "source": [
    "### Run binning"
   ]
  },
  {
   "cell_type": "code",
   "execution_count": 9,
   "id": "6c988b27",
   "metadata": {},
   "outputs": [],
   "source": [
    "def get_kstrat_cells(var_in, strat):\n",
    "    indices = (strat == 0).nonzero()\n",
    "    var_np = var_in[indices]\n",
    "\n",
    "    indices = (strat == 1).nonzero()\n",
    "    var_dc = var_in[indices]\n",
    "\n",
    "    indices = (strat == 2).nonzero()\n",
    "    var_cg = var_in[indices]\n",
    "\n",
    "    indices = (strat == 3).nonzero()\n",
    "    var_sh = var_in[indices]\n",
    "\n",
    "    indices = (strat == 4).nonzero()\n",
    "    var_st = var_in[indices]\n",
    "\n",
    "    indices = (strat == 5).nonzero()\n",
    "    var_an = var_in[indices]\n",
    "\n",
    "    return var_np, var_dc, var_cg, var_sh, var_st, var_an"
   ]
  },
  {
   "cell_type": "code",
   "execution_count": 10,
   "id": "90d35f77",
   "metadata": {},
   "outputs": [],
   "source": [
    "for ktest in range(ntest):\n",
    "    cwv_np, cwv_dc, cwv_cg, cwv_sh, cwv_st, cwv_an = get_kstrat_cells(cwv_all[ktest], strat_all[ktest])\n",
    "    lwnet_np, lwnet_dc, lwnet_cg, lwnet_sh, lwnet_st, lwnet_an = get_kstrat_cells(lwnet_all[ktest], strat_all[ktest])\n",
    "    lwacre_np, lwacre_dc, lwacre_cg, lwacre_sh, lwacre_st, lwacre_an = get_kstrat_cells(lwacre_all[ktest], strat_all[ktest])\n",
    "    vmfu_np, vmfu_dc, vmfu_cg, vmfu_sh, vmfu_st, vmfu_an = get_kstrat_cells(vmfu_all[ktest], strat_all[ktest])\n",
    "    vmfd_np, vmfd_dc, vmfd_cg, vmfd_sh, vmfd_st, vmfd_an = get_kstrat_cells(vmfd_all[ktest], strat_all[ktest])\n",
    "    vmf_np, vmf_dc, vmf_cg, vmf_sh, vmf_st, vmf_an = get_kstrat_cells(vmf_all[ktest], strat_all[ktest])"
   ]
  },
  {
   "cell_type": "markdown",
   "id": "cabd401c",
   "metadata": {
    "tags": []
   },
   "source": [
    "---\n",
    "### Plotting routines"
   ]
  },
  {
   "cell_type": "code",
   "execution_count": 44,
   "id": "88803959",
   "metadata": {},
   "outputs": [],
   "source": [
    "font = {'family' : 'sans-serif',\n",
    "        'weight' : 'normal',\n",
    "        'size'   : 16}\n",
    "\n",
    "matplotlib.rc('font', **font)"
   ]
  },
  {
   "cell_type": "code",
   "execution_count": 59,
   "id": "83d7d992",
   "metadata": {
    "tags": []
   },
   "outputs": [],
   "source": [
    "c_name = ['Deep\\nConvective', 'Congestus', 'Shallow\\nConvective', 'Stratiform', 'Anvil']\n",
    "cmap = ['teal', 'plum', 'darkorange', 'gold', 'cornflowerblue']\n",
    "sns.set_palette(cmap)\n",
    "\n",
    "fig = plt.figure(figsize=(8,6),dpi=500)\n",
    "fig.set_facecolor('white')\n",
    "ax = fig.subplots(nrows=1, ncols=1)\n",
    "sns.boxplot([plt_dc,plt_con,plt_sc,plt_strat,plt_a], showmeans=True, meanprops={\"marker\":\"o\",\n",
    "                    \"markerfacecolor\":\"white\", \n",
    "                    \"markeredgecolor\":\"black\",\n",
    "                    \"markersize\":\"6\"})\n",
    "ax.set_xticklabels(c_name)\n",
    "# plt.xticks(labels=c_name)\n",
    "plt.ylabel('[day$^{-1}$]', weight='bold')\n",
    "plt.title(\"d) Class Averaged $ \\mathbf{\\hat{h}' NETLW'}$\", weight='bold')"
   ]
  }
 ],
 "metadata": {
  "kernelspec": {
   "display_name": "Python 3.9.12 ('plotting')",
   "language": "python",
   "name": "python3"
  },
  "language_info": {
   "codemirror_mode": {
    "name": "ipython",
    "version": 3
   },
   "file_extension": ".py",
   "mimetype": "text/x-python",
   "name": "python",
   "nbconvert_exporter": "python",
   "pygments_lexer": "ipython3",
   "version": "3.10.10"
  },
  "vscode": {
   "interpreter": {
    "hash": "ba66c6fa676980db47fde7e4bec9b37760d72b0a5b2c3cc0f1f376041f14579d"
   }
  }
 },
 "nbformat": 4,
 "nbformat_minor": 5
}
