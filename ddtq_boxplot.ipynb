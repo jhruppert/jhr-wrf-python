{
 "cells": [
  {
   "attachments": {},
   "cell_type": "markdown",
   "id": "43863f18",
   "metadata": {
    "tags": []
   },
   "source": [
    "### Notebook to genereate boxplots for ddt(CWV) binned by cloud classification scheme.\n",
    "\n",
    "Assumes output is in a single netcdf file on pressure levels.\n",
    "\n",
    "James Ruppert  \n",
    "jruppert@ou.edu  \n",
    "12/15/23"
   ]
  },
  {
   "cell_type": "code",
   "execution_count": 13,
   "id": "4cb54873",
   "metadata": {
    "tags": []
   },
   "outputs": [],
   "source": [
    "import numpy as np\n",
    "import matplotlib\n",
    "from matplotlib import ticker\n",
    "import matplotlib.pyplot as plt\n",
    "import sys\n",
    "from thermo_functions import *\n",
    "from precip_class import *\n",
    "import seaborn as sns\n",
    "import xarray as xr\n",
    "from memory_usage import *\n",
    "from read_functions import *"
   ]
  },
  {
   "cell_type": "markdown",
   "id": "d3a84805",
   "metadata": {},
   "source": [
    "#### Main settings"
   ]
  },
  {
   "cell_type": "code",
   "execution_count": 14,
   "id": "31b810e3",
   "metadata": {
    "tags": []
   },
   "outputs": [],
   "source": [
    "# Number of sample time steps\n",
    "nt=200 # will be chopped down to max available\n",
    "nt=24"
   ]
  },
  {
   "attachments": {},
   "cell_type": "markdown",
   "id": "82f31aab",
   "metadata": {},
   "source": [
    "#### Additional settings and directories"
   ]
  },
  {
   "cell_type": "code",
   "execution_count": 15,
   "id": "09231513",
   "metadata": {},
   "outputs": [],
   "source": [
    "storm = 'haiyan'\n",
    "# storm = 'maria'\n",
    "\n",
    "# main = \"/ourdisk/hpc/radclouds/auto_archive_notyet/tape_2copies/wrfenkf/\"\n",
    "main = \"/ourdisk/hpc/radclouds/auto_archive_notyet/tape_2copies/tc_ens/\"\n",
    "figdir = \"/home/jamesrup/figures/tc/ens/\"+storm+'/'\n",
    "datdir2 = 'post/d02/'\n",
    "\n",
    "# Tests to read and compare\n",
    "# tests = ['crfon','ncrf']\n",
    "# if storm == 'haiyan':\n",
    "#     tests = ['ctl','ncrf36h']\n",
    "# elif storm == 'maria':\n",
    "#     # tests = ['ctl','ncrf36h']\n",
    "#     tests = ['ctl','ncrf48h']\n",
    "tests = ['ctl']\n",
    "\n",
    "time_neglect=12 # time steps from start to neglect\n",
    "\n",
    "# Members\n",
    "nmem = 10 # number of ensemble members (1-5 have NCRF)\n",
    "nmem = 2\n",
    "enstag = str(nmem)"
   ]
  },
  {
   "cell_type": "code",
   "execution_count": 16,
   "id": "50309899",
   "metadata": {
    "tags": []
   },
   "outputs": [],
   "source": [
    "# Ensemble member info\n",
    "memb0=1 # Starting member to read\n",
    "memb_nums=np.arange(memb0,nmem+memb0,1)\n",
    "memb_nums_str=memb_nums.astype(str)\n",
    "nustr = np.char.zfill(memb_nums_str, 2)\n",
    "memb_all=np.char.add('memb_',nustr)\n",
    "\n",
    "# Get dimensions\n",
    "datdir = main+storm+'/'+memb_all[0]+'/'+tests[0]+'/'+datdir2\n",
    "nt_data, nz, nx1, nx2, pres = get_file_dims(datdir)\n",
    "dp = (pres[1]-pres[0])*1e2 # Pa\n",
    "nt=np.min([nt,nt_data-time_neglect])\n",
    "nx1-=80*2\n",
    "nx2-=80*2\n",
    "\n",
    "# Get WRF file list\n",
    "# datdir = main+storm+'/'+memb_all[0]+'/'+tests[0]+'/'\n",
    "# wrffiles, lat, lon = get_wrf_filelist(datdir)"
   ]
  },
  {
   "cell_type": "markdown",
   "id": "82f31aab",
   "metadata": {},
   "source": [
    "#### NetCDF variable read functions"
   ]
  },
  {
   "cell_type": "code",
   "execution_count": 17,
   "id": "dd2ffb78",
   "metadata": {},
   "outputs": [
    {
     "name": "stdout",
     "output_type": "stream",
     "text": [
      "Total:      134.32 GB\n",
      "Avail:      126.43 GB\n",
      "Used:       4.23 GB\n",
      "Free:       121.54 GB\n",
      "Active:     8.97 GB\n",
      "Inactive:   2.0 GB\n"
     ]
    }
   ],
   "source": [
    "memory_usage()"
   ]
  },
  {
   "cell_type": "markdown",
   "id": "04db4825",
   "metadata": {},
   "source": [
    "#### Main loops and compositing"
   ]
  },
  {
   "cell_type": "code",
   "execution_count": 18,
   "id": "50309899",
   "metadata": {
    "tags": []
   },
   "outputs": [
    {
     "name": "stdout",
     "output_type": "stream",
     "text": [
      "Running test:  ctl\n",
      "Running imemb:  memb_01\n",
      "/ourdisk/hpc/radclouds/auto_archive_notyet/tape_2copies/tc_ens/haiyan/memb_01/ctl/post/d02/\n",
      "Running imemb:  memb_02\n",
      "/ourdisk/hpc/radclouds/auto_archive_notyet/tape_2copies/tc_ens/haiyan/memb_02/ctl/post/d02/\n"
     ]
    }
   ],
   "source": [
    "# Main read loops for 3D (dependent) variables\n",
    "\n",
    "# Arrays to save variables\n",
    "ntest=len(tests)\n",
    "dims = (ntest, nmem, nt, nx1, nx2)\n",
    "strat_all  = np.ma.zeros(dims)\n",
    "cwv_1hr    = np.ma.zeros(dims)\n",
    "lwacre_1hr = np.ma.zeros(dims)\n",
    "qrain_1hr  = np.ma.zeros(dims)\n",
    "\n",
    "for ktest in range(ntest):\n",
    "\n",
    "    test_str=tests[ktest]\n",
    "\n",
    "    # This has been tested for corresponding time steps:\n",
    "    #   t0=37,1 are the first divergent time steps in CTL,NCRF\n",
    "    #   t0=25,1 are the first divergent time steps in NCRF,CRFON\n",
    "    # if test_str == 'ctl':\n",
    "    #     if tests[1] == 'ncrf36h':\n",
    "    #         t0=36\n",
    "    #     elif tests[1] == 'ncrf48h':\n",
    "    #         t0=48\n",
    "    # elif test_str == 'ncrf36h':\n",
    "    #     t0=t0_test\n",
    "    # elif test_str == 'ncrf48h':\n",
    "    #     t0=t0_test\n",
    "    # elif test_str == 'crfon':\n",
    "    #     t0=0\n",
    "    t0=time_neglect # neglect the first 12 time steps\n",
    "    t1=t0+nt\n",
    "\n",
    "    # t0+=1 # add one time step since NCRF(t=0) = CTL\n",
    "    # t1 = t0+nt\n",
    "\n",
    "    print('Running test: ',test_str)\n",
    "\n",
    "    # Loop over ensemble members\n",
    "\n",
    "    for imemb in range(nmem):\n",
    " \n",
    "        print('Running imemb: ',memb_all[imemb])\n",
    "    \n",
    "        datdir = main+storm+'/'+memb_all[imemb]+'/'+test_str+'/'+datdir2\n",
    "        print(datdir)\n",
    "\n",
    "        # Stratiform ID\n",
    "        q_int = read_qcloud(datdir,t0,t1,drop=True) # mm\n",
    "        strat = precip_class(q_int)\n",
    "\n",
    "        # CWV\n",
    "        varname='PW'\n",
    "        cwv = var_read_2d(datdir,varname,t0,t1,drop=True) # mm\n",
    "        # ddtq = np.gradient(lwnet, axis=0) # mm/hr\n",
    "\n",
    "        # Save variables for each ens member\n",
    "        strat_all[ktest,imemb,:,:,:]  = strat\n",
    "        qrain_1hr[ktest,imemb,:,:,:]  = q_int[1] # mm\n",
    "        cwv_1hr[ktest,imemb,:,:,:]    = cwv\n",
    "        lwacre_1hr[ktest,imemb,:,:,:] = read_lwacre(datdir,t0,t1,drop=True) # W/m2"
   ]
  },
  {
   "cell_type": "code",
   "execution_count": 19,
   "id": "9c39dc94",
   "metadata": {},
   "outputs": [
    {
     "name": "stdout",
     "output_type": "stream",
     "text": [
      "Total:      134.32 GB\n",
      "Avail:      126.43 GB\n",
      "Used:       4.23 GB\n",
      "Free:       121.54 GB\n",
      "Active:     8.98 GB\n",
      "Inactive:   2.0 GB\n"
     ]
    }
   ],
   "source": [
    "memory_usage()"
   ]
  },
  {
   "cell_type": "markdown",
   "id": "d65727a6",
   "metadata": {},
   "source": [
    "### Compute DDTQ over different time scales"
   ]
  },
  {
   "cell_type": "code",
   "execution_count": 20,
   "id": "9b2e655d",
   "metadata": {},
   "outputs": [],
   "source": [
    "# Smoothing function\n",
    "def time_smooth_var(var, nwindow):\n",
    "    data_xr = xr.DataArray(var,\n",
    "                            coords={'test':np.arange(ntest), 'memb':memb_nums, 'time':np.arange(nt),\n",
    "                            'y':np.arange(nx1), 'x':np.arange(nx2)},\n",
    "                            dims=['test','memb','time','y','x'])\n",
    "    data_smooth = data_xr.rolling(time=nwindow, center=True).mean()\n",
    "    return data_smooth.to_masked_array()"
   ]
  },
  {
   "cell_type": "code",
   "execution_count": 21,
   "id": "6c988b27",
   "metadata": {},
   "outputs": [],
   "source": [
    "# axis=2\n",
    "\n",
    "# ddtq_1hr = np.gradient(cwv_1hr, axis=axis)\n",
    "\n",
    "# # CWV with rolling average\n",
    "# nwindow=3\n",
    "# cwv_3hr = time_smooth_var(cwv_1hr, nwindow)\n",
    "# ddtq_3hr = np.gradient(cwv_3hr, axis=axis)\n",
    "\n",
    "# nwindow=5\n",
    "# cwv_5hr = time_smooth_var(cwv_1hr, nwindow)\n",
    "# ddtq_5hr = np.gradient(cwv_5hr, axis=axis)\n",
    "\n",
    "# nwindow=7\n",
    "# cwv_7hr = time_smooth_var(cwv_1hr, nwindow)\n",
    "# ddtq_7hr = np.gradient(cwv_7hr, axis=axis)\n",
    "\n",
    "# nwindow=9\n",
    "# cwv_9hr = time_smooth_var(cwv_1hr, nwindow)\n",
    "# ddtq_9hr = np.gradient(cwv_9hr, axis=axis)"
   ]
  },
  {
   "cell_type": "code",
   "execution_count": 22,
   "id": "9f0b45bc",
   "metadata": {},
   "outputs": [
    {
     "name": "stdout",
     "output_type": "stream",
     "text": [
      "Total:      134.32 GB\n",
      "Avail:      126.43 GB\n",
      "Used:       4.23 GB\n",
      "Free:       121.54 GB\n",
      "Active:     8.98 GB\n",
      "Inactive:   2.0 GB\n"
     ]
    }
   ],
   "source": [
    "memory_usage()"
   ]
  },
  {
   "cell_type": "code",
   "execution_count": 23,
   "id": "2fa5eee5",
   "metadata": {},
   "outputs": [],
   "source": [
    "# # Example time series of smoothed cwv\n",
    "\n",
    "# plt.plot(cwv_1hr[0,1,:,400,300])\n",
    "# plt.plot(cwv_3hr[0,1,:,400,300])\n",
    "# plt.plot(cwv_5hr[0,1,:,400,300])\n",
    "# plt.plot(cwv_7hr[0,1,:,400,300])\n",
    "# plt.plot(cwv_9hr[0,1,:,400,300])"
   ]
  },
  {
   "cell_type": "code",
   "execution_count": 24,
   "id": "d40220dd",
   "metadata": {},
   "outputs": [],
   "source": [
    "# # Example time series of smoothed ddt(cwv)\n",
    "\n",
    "# plt.plot(ddtq_1hr[0,1,:,400,300])\n",
    "# plt.plot(ddtq_3hr[0,1,:,400,300])\n",
    "# plt.plot(ddtq_5hr[0,1,:,400,300])\n",
    "# plt.plot(ddtq_7hr[0,1,:,400,300])\n",
    "# plt.plot(ddtq_9hr[0,1,:,400,300])"
   ]
  },
  {
   "cell_type": "code",
   "execution_count": 25,
   "id": "f27183a4",
   "metadata": {},
   "outputs": [],
   "source": [
    "# del cwv_1hr, cwv_3hr, cwv_5hr, cwv_7hr, cwv_9hr"
   ]
  },
  {
   "cell_type": "code",
   "execution_count": 26,
   "id": "5adecd3a",
   "metadata": {},
   "outputs": [
    {
     "name": "stdout",
     "output_type": "stream",
     "text": [
      "Total:      134.32 GB\n",
      "Avail:      126.42 GB\n",
      "Used:       4.23 GB\n",
      "Free:       121.54 GB\n",
      "Active:     8.98 GB\n",
      "Inactive:   2.0 GB\n"
     ]
    }
   ],
   "source": [
    "memory_usage()"
   ]
  },
  {
   "cell_type": "markdown",
   "id": "7b38118e",
   "metadata": {},
   "source": [
    "### Run binning"
   ]
  },
  {
   "cell_type": "code",
   "execution_count": 27,
   "id": "d60c7e84",
   "metadata": {},
   "outputs": [],
   "source": [
    "def get_kstrat_cells(var_in, strat):\n",
    "    var_indexed = []\n",
    "    nstrat=6\n",
    "    for kstrat in range(nstrat):\n",
    "        indices = (strat == kstrat).nonzero()\n",
    "        indexed_var = var_in[indices[0],indices[1],indices[2],indices[3]]\n",
    "        var_indexed.append(indexed_var)\n",
    "    return var_indexed"
   ]
  },
  {
   "cell_type": "code",
   "execution_count": 28,
   "id": "67447bf5",
   "metadata": {},
   "outputs": [],
   "source": [
    "ktest=0\n",
    "qrain_indexed_1hr = get_kstrat_cells(qrain_1hr[ktest], strat_all[ktest])\n",
    "cwv_indexed_1hr = get_kstrat_cells(cwv_1hr[ktest], strat_all[ktest])\n",
    "lwacre_indexed_1hr = get_kstrat_cells(lwacre_1hr[ktest], strat_all[ktest])\n",
    "lwfeedb_indexed_1hr = get_kstrat_cells(lwacre_1hr[ktest]/qrain_1hr[ktest], strat_all[ktest])"
   ]
  },
  {
   "cell_type": "code",
   "execution_count": 40,
   "id": "90d35f77",
   "metadata": {},
   "outputs": [],
   "source": [
    "# ktest=0\n",
    "# ddtq_indexed_1hr = get_kstrat_cells(ddtq_1hr[ktest], strat_all[ktest])\n",
    "# ddtq_indexed_3hr = get_kstrat_cells(ddtq_3hr[ktest], strat_all[ktest])\n",
    "# ddtq_indexed_5hr = get_kstrat_cells(ddtq_5hr[ktest], strat_all[ktest])\n",
    "# ddtq_indexed_7hr = get_kstrat_cells(ddtq_7hr[ktest], strat_all[ktest])\n",
    "# ddtq_indexed_9hr = get_kstrat_cells(ddtq_9hr[ktest], strat_all[ktest])"
   ]
  },
  {
   "cell_type": "code",
   "execution_count": 41,
   "id": "de152a23",
   "metadata": {},
   "outputs": [],
   "source": [
    "# the_means = np.ma.zeros((5,6))\n",
    "# for istrat in range(6):\n",
    "#     the_means[0,istrat] = np.ma.mean(ddtq_indexed_1hr[istrat])\n",
    "#     the_means[1,istrat] = np.ma.mean(ddtq_indexed_3hr[istrat])\n",
    "#     the_means[2,istrat] = np.ma.mean(ddtq_indexed_5hr[istrat])\n",
    "#     the_means[3,istrat] = np.ma.mean(ddtq_indexed_7hr[istrat])\n",
    "#     the_means[4,istrat] = np.ma.mean(ddtq_indexed_9hr[istrat])"
   ]
  },
  {
   "cell_type": "code",
   "execution_count": 40,
   "id": "d076ab5a",
   "metadata": {},
   "outputs": [],
   "source": [
    "# for inum in range(5):\n",
    "#     plt.plot(the_means[inum,:])"
   ]
  },
  {
   "cell_type": "code",
   "execution_count": 41,
   "id": "2505d8bc",
   "metadata": {},
   "outputs": [],
   "source": [
    "# plt.plot(the_means[0,:])"
   ]
  },
  {
   "cell_type": "code",
   "execution_count": 42,
   "id": "5a665384",
   "metadata": {},
   "outputs": [],
   "source": [
    "# plt.plot(the_means[4,:])"
   ]
  },
  {
   "cell_type": "code",
   "execution_count": 26,
   "id": "7e45160f",
   "metadata": {},
   "outputs": [],
   "source": [
    "# del ddtq_1hr, ddtq_3hr, ddtq_5hr, ddtq_7hr, ddtq_9hr"
   ]
  },
  {
   "cell_type": "code",
   "execution_count": 32,
   "id": "f7a948e8",
   "metadata": {},
   "outputs": [
    {
     "name": "stdout",
     "output_type": "stream",
     "text": [
      "Total:      134.320787456 GB\n",
      "Avail:      42.290864128 GB\n",
      "Used:       89.91021056000001 GB\n",
      "Free:       43.945537536 GB\n",
      "Active:     82.683334656 GB\n",
      "Inactive:   5.7007104 GB\n"
     ]
    }
   ],
   "source": [
    "memory_usage()"
   ]
  },
  {
   "cell_type": "markdown",
   "id": "cabd401c",
   "metadata": {
    "tags": []
   },
   "source": [
    "---\n",
    "### Plotting routines"
   ]
  },
  {
   "cell_type": "code",
   "execution_count": 43,
   "id": "88803959",
   "metadata": {},
   "outputs": [],
   "source": [
    "font = {'family' : 'sans-serif',\n",
    "        'weight' : 'normal',\n",
    "        'size'   : 11}\n",
    "\n",
    "matplotlib.rc('font', **font)"
   ]
  },
  {
   "cell_type": "code",
   "execution_count": 45,
   "id": "fa859a88",
   "metadata": {},
   "outputs": [],
   "source": [
    "# Global boxplot settings\n",
    "\n",
    "def create_boxplot(invar, title_tag, units, yscale='linear'):\n",
    "\n",
    "    c_name = ['Non-precip', 'Deep\\nConvective', 'Congestus', 'Shallow\\nConvective', 'Stratiform', 'Anvil']\n",
    "    cmap = ['white', 'teal', 'plum', 'darkorange', 'gold', 'cornflowerblue']\n",
    "    # c_name = ['Deep\\nConvective', 'Congestus', 'Shallow\\nConvective', 'Stratiform', 'Anvil']\n",
    "    # cmap = ['teal', 'plum', 'darkorange', 'gold', 'cornflowerblue']\n",
    "    sns.set_palette(cmap)\n",
    "\n",
    "    fig = plt.figure(figsize=(5.5,4),dpi=300)\n",
    "    # fig.set_facecolor('white')\n",
    "    ax = fig.subplots(nrows=1, ncols=1)\n",
    "    sns.boxplot([invar[0], invar[1], invar[2], invar[3], invar[4], invar[5]],\n",
    "    # sns.boxplot([invar[1], invar[2], invar[3], invar[4], invar[5]],\n",
    "                width=0.7, showmeans=True, #log_scale=log_scale,\n",
    "                meanprops={\"marker\":\"o\", \"markerfacecolor\":\"white\", \n",
    "                \"markeredgecolor\":\"black\", \"markersize\":\"6\"})\n",
    "\n",
    "    ax.set_yscale(yscale)\n",
    "    ax.set_xticklabels(c_name)\n",
    "    plt.ylabel(units)#, weight='bold')\n",
    "    plt.title(\"Class Averaged \"+title_tag)#, weight='bold')"
   ]
  },
  {
   "cell_type": "code",
   "execution_count": 46,
   "id": "83d7d992",
   "metadata": {
    "tags": []
   },
   "outputs": [],
   "source": [
    "\n",
    "units = \"mm\"\n",
    "title_tag = \"QRAIN\"\n",
    "create_boxplot(qrain_indexed_1hr, title_tag, units, yscale=\"log\")\n",
    "\n",
    "# 7hr\n",
    "# title_tag = title+\"7hr\"\n",
    "# create_boxplot(ddtq_indexed_7hr, title_tag, units)\n",
    "\n",
    "# # 9hr\n",
    "# title_tag = title+\"9hr\"\n",
    "# create_boxplot(ddtq_indexed_9hr, title_tag, units)"
   ]
  },
  {
   "cell_type": "code",
   "execution_count": null,
   "id": "5db81b0d",
   "metadata": {},
   "outputs": [],
   "source": [
    "units = \"mm\"\n",
    "title_tag = \"CWV\"\n",
    "create_boxplot(cwv_indexed_3hr, title_tag, units)"
   ]
  },
  {
   "cell_type": "code",
   "execution_count": null,
   "id": "9bd33a6d",
   "metadata": {},
   "outputs": [],
   "source": [
    "units = \"W/m$^2$\"\n",
    "title_tag = \"LWACRE\"\n",
    "create_boxplot(lwacre_indexed_5hr, title_tag, units)"
   ]
  },
  {
   "cell_type": "code",
   "execution_count": null,
   "id": "11893b34",
   "metadata": {},
   "outputs": [],
   "source": [
    "# Local LW Feedback\n",
    "units = \"W/m$^2$ / mm\"\n",
    "title_tag = \"LWACRE/QRAIN\"\n",
    "create_boxplot(lw_indexed_1hr, title_tag, units)"
   ]
  }
 ],
 "metadata": {
  "kernelspec": {
   "display_name": "Python 3.9.12 ('plotting')",
   "language": "python",
   "name": "python3"
  },
  "language_info": {
   "codemirror_mode": {
    "name": "ipython",
    "version": 3
   },
   "file_extension": ".py",
   "mimetype": "text/x-python",
   "name": "python",
   "nbconvert_exporter": "python",
   "pygments_lexer": "ipython3",
   "version": "3.10.10"
  },
  "vscode": {
   "interpreter": {
    "hash": "ba66c6fa676980db47fde7e4bec9b37760d72b0a5b2c3cc0f1f376041f14579d"
   }
  }
 },
 "nbformat": 4,
 "nbformat_minor": 5
}
