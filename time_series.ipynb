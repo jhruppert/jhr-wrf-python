{
 "cells": [
  {
   "cell_type": "markdown",
   "id": "43863f18",
   "metadata": {
    "tags": []
   },
   "source": [
    "### Notebook to genereate time series from TC output\n",
    "\n",
    "Will also mask out beyond TC area\n",
    "\n",
    "Assumes output is in a single netcdf file on pressure levels.\n",
    "\n",
    "James Ruppert  \n",
    "jruppert@ou.edu  \n",
    "September 2022"
   ]
  },
  {
   "cell_type": "code",
   "execution_count": 1,
   "id": "4cb54873",
   "metadata": {
    "tags": []
   },
   "outputs": [],
   "source": [
    "from netCDF4 import Dataset\n",
    "import numpy as np\n",
    "import matplotlib\n",
    "# from matplotlib import ticker, cm\n",
    "# import cartopy\n",
    "# matplotlib.use('pdf')\n",
    "import matplotlib.pyplot as plt\n",
    "from scipy.interpolate import griddata\n",
    "# import matplotlib.colors as colors\n",
    "import sys\n",
    "import subprocess\n",
    "# import cartopy\n",
    "from azim_wind_latlon import azim_wind_latlon\n",
    "from thermo_functions import density_moist, theta_dry, theta_equiv, theta_virtual, relh\n",
    "from mask_tc_track import mask_tc_track"
   ]
  },
  {
   "cell_type": "markdown",
   "id": "be248521",
   "metadata": {},
   "source": [
    "#### Settings"
   ]
  },
  {
   "cell_type": "code",
   "execution_count": 90,
   "id": "9e333b1a",
   "metadata": {},
   "outputs": [],
   "source": [
    "# Main variable\n",
    "iplot = 'vmf'\n",
    "# options: vmf, thv, the, qrad\n",
    "\n",
    "# Pressure bounds for integrated VMF\n",
    "p0=1000\n",
    "p1=500\n",
    "\n",
    "# Calculate anomaly as deviation from xy-mean\n",
    "do_prm_xy = 0\n",
    "\n",
    "# Should be off for VMF\n",
    "if iplot == 'vmf':\n",
    "  do_prm_xy=0\n",
    "\n",
    "# Strat/Conv index subset\n",
    "istrat=2 # 0-non-raining, 1-conv, 2-strat, 3-other/anvil\n",
    "if istrat == -1:\n",
    "  fig_extra=''\n",
    "elif istrat == 0:\n",
    "  fig_extra='_nonrain'\n",
    "elif istrat == 1:\n",
    "  fig_extra='_conv'\n",
    "elif istrat == 2:\n",
    "  fig_extra='_strat'\n",
    "#fig_extra=''\n",
    "\n",
    "# TC tracking\n",
    "ptrack='600' # tracking pressure level\n",
    "var_track = 'rvor' # variable\n",
    "rmax = 8 # radius (deg) limit to keep unmasked\n",
    "\n",
    "# #### Test/storm selection\n",
    "storm = 'haiyan'\n",
    "# storm = 'maria'\n",
    "\n",
    "# Tests to read and compare\n",
    "names = ['memb_01/ctl','memb_01/ncrf']#,'memb_02/ncrf','memb_03/ncrf','memb_04/ncrf','memb_05/ncrf','memb_05/crfon']\n",
    "ntest = len(names)\n",
    "\n",
    "# Tests to read and compare\n",
    "# tests = ['ctl','ncrf']#'crfon'\n",
    "\n",
    "# Starting member to read\n",
    "# memb=['memb_01','memb_02','memb_03','memb_04','memb_05']\n",
    "\n",
    "# Directories\n",
    "main = \"/ourdisk/hpc/radclouds/auto_archive_notyet/tape_2copies/wrfenkf/\"\n",
    "figdir = \"/home/jamesrup/figures/tc/ens/\"+storm+'/'\n",
    "datdir2 = 'post/d02/'"
   ]
  },
  {
   "cell_type": "markdown",
   "id": "82f31aab",
   "metadata": {},
   "source": [
    "#### Get dimensions"
   ]
  },
  {
   "cell_type": "code",
   "execution_count": 31,
   "id": "97e5511e",
   "metadata": {},
   "outputs": [],
   "source": [
    "process = subprocess.Popen(['ls '+main+storm+'/memb_01/ctl/wrfout_d02_*'],shell=True,\n",
    "    stdout=subprocess.PIPE,universal_newlines=True)\n",
    "output = process.stdout.readline()\n",
    "wrffil = output.strip() #[3]\n",
    "varfil_main = Dataset(wrffil)\n",
    "lat = varfil_main.variables['XLAT'][:][0] # deg\n",
    "lon = varfil_main.variables['XLONG'][:][0] # deg\n",
    "lat1d = lat[:,0]\n",
    "lon1d = lon[0,:]\n",
    "nx1 = lat1d.size\n",
    "nx2 = lon1d.size\n",
    "varfil_main.close()\n",
    "\n",
    "varfil_main = Dataset(datdir+'T.nc')\n",
    "nz = varfil_main.dimensions['level'].size\n",
    "pres = varfil_main.variables['pres'][:] # hPa\n",
    "dp = (pres[0]-pres[1])*1e2 # Pa\n",
    "varfil_main.close()\n",
    "\n",
    "ik0 = np.where(pres == p0)[0][0]\n",
    "ik1 = np.where(pres == p1)[0][0]"
   ]
  },
  {
   "cell_type": "markdown",
   "id": "82f31aab",
   "metadata": {},
   "source": [
    "#### Read data"
   ]
  },
  {
   "cell_type": "code",
   "execution_count": 131,
   "id": "42c2b5d6",
   "metadata": {},
   "outputs": [
    {
     "name": "stdout",
     "output_type": "stream",
     "text": [
      "Running test:  memb_01/ctl\n",
      "Running test:  memb_01/ncrf\n"
     ]
    }
   ],
   "source": [
    "# Time selection\n",
    "nd = 4 # ndays\n",
    "ntall = nd*24\n",
    "hr_tag = str(np.char.zfill(str(nt), 2))\n",
    "\n",
    "t0=0\n",
    "t1 = t0+ntall\n",
    "\n",
    "var_all = np.ma.masked_all((ntest,ntall))\n",
    "# var_all[:]=np.nan\n",
    "\n",
    "for n_itest in range(ntest):\n",
    "\n",
    "    itest=names[n_itest]\n",
    "    # print('Running memb: ',imemb)\n",
    "    print('Running test: ',itest)\n",
    "\n",
    "  # for itest in tests:\n",
    "\n",
    "    # if imemb != 'memb_01' and itest == 'ctl': continue\n",
    "\n",
    "    # if itest == 'ctl':\n",
    "    #   test_t0=0\n",
    "    # elif itest == 'ncrf':\n",
    "    #   test_t0=36-1\n",
    "    # elif itest == 'crfon':\n",
    "    #   test_t0=84-1\n",
    "    if 'ctl' in itest:\n",
    "      test_t0=0\n",
    "    elif 'ncrf' in itest:\n",
    "      test_t0=36-1\n",
    "    elif 'crfon' in itest:\n",
    "      test_t0=84-1\n",
    "\n",
    "    t1_read = t1-test_t0\n",
    "\n",
    "    datdir = main+storm+'/'+itest+'/'+datdir2\n",
    "\n",
    "    # Stratiform index\n",
    "    if istrat != -1:\n",
    "      strat = var_4d_read('strat',datdir,t0,t1_read) # 0-non-raining, 1-conv, 2-strat, 3-other/anvil\n",
    "\n",
    "    # # Tangential winds\n",
    "    # u = var_4d_read('U10',datdir,t0,t1_read) # m/s\n",
    "    # v = var_4d_read('V10',datdir,t0,t1_read) # m/s\n",
    "    # track_file = datdir+'../../track_'+var_track+'_'+ptrack+'hPa.nc'\n",
    "    # vtan = azim_wind_latlon(track_file, u, v, lon, lat, t0, t1_read)\n",
    "    # # SLP\n",
    "    # slp = var_4d_read('SLP',datdir,t0,t1_read) # hPa\n",
    "\n",
    "    # if iplot == 'thv' or iplot == 'the' or iplot == 'vmf' or iplot == 'rh' or iplot == 'rh':\n",
    "    # Mixing ratio\n",
    "    # qv = var_4d_read_pres('QVAPOR',datdir,t0,t1_read,ik0,ik1) # kg/kg\n",
    "    # Temp\n",
    "    # tmpk = var_4d_read_pres('QVAPOR',datdir,t0,t1_read,ik0,ik1) # K\n",
    "    # Virtual potential temp\n",
    "    # thv = theta_virtual(tmpk,qv,(pres[np.newaxis,:,np.newaxis,np.newaxis])*1e2) # K\n",
    "\n",
    "    # Vertical mass flux\n",
    "    # Vertical motion\n",
    "    w = var_4d_read_pres('W',datdir,t0,t1_read,ik0,ik1) # m/s\n",
    "\n",
    "    # Density\n",
    "    # vmf *= density_moist(tmpk,qv,(pres[np.newaxis,:,np.newaxis,np.newaxis])*1e2) # kg/m3\n",
    "    vmf = np.sum(w,axis=1) * dp * 1./9.81 # kg/m/s\n",
    "    vmf = vmf[:,np.newaxis,:,:]\n",
    "\n",
    "    # Standard masking OR mask for istrat only\n",
    "    vmf = np.ma.masked_where((strat != istrat), vmf, copy=True)\n",
    "    vmf_tser = mask_and_avg(vmf, rmax)\n",
    "\n",
    "    var_all[n_itest,test_t0:t1]=vmf_tser[:,0]\n",
    "    # if test_t0 > t0: var_all[n_itest,t0:test_t0-1]=np.nan"
   ]
  },
  {
   "cell_type": "code",
   "execution_count": 16,
   "id": "a4b586c0",
   "metadata": {},
   "outputs": [],
   "source": [
    "# Function to read 4d variable\n",
    "def var_4d_read(vartag,datdir,t0,t1):\n",
    "    varfil = Dataset(datdir+vartag+'.nc')\n",
    "    var = varfil.variables[vartag][t0:t1,:,:,:]\n",
    "    varfil.close()\n",
    "    return var"
   ]
  },
  {
   "cell_type": "code",
   "execution_count": 24,
   "id": "a4b586c0",
   "metadata": {},
   "outputs": [],
   "source": [
    "# Function to read 4d variable over specific pressure bounds\n",
    "def var_4d_read_pres(vartag,datdir,t0,t1,ik0,ik1):\n",
    "    varfil = Dataset(datdir+vartag+'.nc')\n",
    "    var = varfil.variables[vartag][t0:t1,ik0:ik1,:,:]\n",
    "    varfil.close()\n",
    "    return var"
   ]
  },
  {
   "cell_type": "code",
   "execution_count": 104,
   "id": "645e84e7",
   "metadata": {},
   "outputs": [],
   "source": [
    "# Function to mask out and average\n",
    "def mask_and_avg(var, rmax):\n",
    "    # Localize to TC track\n",
    "    track_file = datdir+'../../track_'+var_track+'_'+ptrack+'hPa.nc'\n",
    "    var_mask = mask_tc_track(track_file, rmax, var, lon, lat, t0, t1_read)\n",
    "    # Average in x,y\n",
    "    var_tser = np.mean(var_mask,axis=(2,3))\n",
    "    return var_tser"
   ]
  },
  {
   "cell_type": "markdown",
   "id": "cabd401c",
   "metadata": {
    "tags": []
   },
   "source": [
    "---\n",
    "### Plotting routines"
   ]
  },
  {
   "cell_type": "code",
   "execution_count": 108,
   "id": "88803959",
   "metadata": {},
   "outputs": [],
   "source": [
    "font = {'family' : 'sans-serif',\n",
    "        'weight' : 'normal',\n",
    "        'size'   : 16}\n",
    "\n",
    "matplotlib.rc('font', **font)"
   ]
  },
  {
   "cell_type": "markdown",
   "id": "9200567a",
   "metadata": {},
   "source": [
    "#### VTAN time series"
   ]
  },
  {
   "cell_type": "code",
   "execution_count": 135,
   "id": "e4a6e172",
   "metadata": {},
   "outputs": [
    {
     "data": {
      "image/png": "[encoded data removed]",
      "text/plain": [
       "<Figure size 1400x500 with 1 Axes>"
      ]
     },
     "metadata": {},
     "output_type": "display_data"
    }
   ],
   "source": [
    "# Figure settings\n",
    "fig_title='VMF'\n",
    "fig_tag='vmf'\n",
    "units_var='kg m$^{-2}$ s$^{-1}$'\n",
    "\n",
    "# create figure\n",
    "fig = plt.figure(figsize=(14,5))\n",
    "ax = fig.add_subplot(111)\n",
    "\n",
    "ax.set_title(fig_title)\n",
    "ax.set_ylabel(units_var)\n",
    "ax.set_xlabel('Time [hours]')\n",
    "\n",
    "for iplt in range(ntest):\n",
    "    plt.plot(range(t0,t1), var_all[iplt,:])\n",
    "# plt.plot(range(t0,t1), var_all[0,:], \"-k\")\n",
    "# plt.plot(range(t0,t1), var_all[1,:], \"-r\")\n",
    "\n",
    "# ax2=ax.twinx()\n",
    "# ax2.set_ylabel('SLP [hPa]')\n",
    "# ax2.plot(range(t0,t1), slp_min) #, \"-k\")\n",
    "\n",
    "plt.show()\n",
    "# plt.savefig(figdir+figtag+'_compcross_'+imemb+'_'+ivar_select+'.png',dpi=200, facecolor='white', \\\n",
    "#             bbox_inches='tight', pad_inches=0.2)"
   ]
  }
 ],
 "metadata": {
  "kernelspec": {
   "display_name": "Python 3.9.12 ('plotting')",
   "language": "python",
   "name": "python3"
  },
  "language_info": {
   "codemirror_mode": {
    "name": "ipython",
    "version": 3
   },
   "file_extension": ".py",
   "mimetype": "text/x-python",
   "name": "python",
   "nbconvert_exporter": "python",
   "pygments_lexer": "ipython3",
   "version": "3.8.13"
  },
  "vscode": {
   "interpreter": {
    "hash": "ba66c6fa676980db47fde7e4bec9b37760d72b0a5b2c3cc0f1f376041f14579d"
   }
  }
 },
 "nbformat": 4,
 "nbformat_minor": 5
}
