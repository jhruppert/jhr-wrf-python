{
 "cells": [
  {
   "cell_type": "markdown",
   "id": "43863f18",
   "metadata": {
    "tags": []
   },
   "source": [
    "### Notebook to genereate mean vertical profiles from TC output\n",
    "\n",
    "Assumes output is in a single netcdf file on pressure levels.\n",
    "\n",
    "James Ruppert  \n",
    "jruppert@ou.edu  \n",
    "4/23/22"
   ]
  },
  {
   "cell_type": "code",
   "execution_count": 1,
   "id": "4cb54873",
   "metadata": {
    "tags": []
   },
   "outputs": [],
   "source": [
    "from netCDF4 import Dataset\n",
    "import numpy as np\n",
    "import matplotlib\n",
    "import matplotlib.pyplot as plt\n",
    "import sys\n",
    "from misc_functions import density_moist, theta_dry, relh\n",
    "from stratiform_index import stratiform_index"
   ]
  },
  {
   "cell_type": "markdown",
   "id": "d3a84805",
   "metadata": {},
   "source": [
    "#### Variable selection"
   ]
  },
  {
   "cell_type": "code",
   "execution_count": 2,
   "id": "31b810e3",
   "metadata": {
    "tags": []
   },
   "outputs": [],
   "source": [
    "# Fill variable\n",
    "fillvar_select = 'tprm'\n",
    "# options: lwcrf, tprm, dbz, rh"
   ]
  },
  {
   "cell_type": "markdown",
   "id": "be248521",
   "metadata": {},
   "source": [
    "#### Time selection"
   ]
  },
  {
   "cell_type": "code",
   "execution_count": 3,
   "id": "9e333b1a",
   "metadata": {},
   "outputs": [],
   "source": [
    "nt=48\n",
    "t0 = 48\n",
    "t1 = t0+nt"
   ]
  },
  {
   "cell_type": "markdown",
   "id": "82f31aab",
   "metadata": {},
   "source": [
    "#### Directories"
   ]
  },
  {
   "cell_type": "code",
   "execution_count": 4,
   "id": "09231513",
   "metadata": {},
   "outputs": [
    {
     "name": "stdout",
     "output_type": "stream",
     "text": [
      "/Users/jruppert/code/tc_output/haiyan/memb_01/ctl/\n"
     ]
    }
   ],
   "source": [
    "figdir = \"/Users/jruppert/code/tc_figs/\"\n",
    "\n",
    "# main = \"/Users/jamesruppert/code/tc_output/\"\n",
    "main = \"/Users/jruppert/code/tc_output/\"\n",
    "storm = !ls $main\n",
    "# print(storm)\n",
    "\n",
    "istorm=storm[0]\n",
    "memb = !ls $main/$istorm\n",
    "imemb=memb[0]\n",
    "# print(main+istorm+'/'+imemb)\n",
    "\n",
    "datdir = main+istorm+'/'+imemb+'/ctl/'\n",
    "print(datdir)"
   ]
  },
  {
   "cell_type": "markdown",
   "id": "04db4825",
   "metadata": {},
   "source": [
    "#### Read variables"
   ]
  },
  {
   "cell_type": "code",
   "execution_count": 5,
   "id": "50309899",
   "metadata": {
    "tags": []
   },
   "outputs": [
    {
     "name": "stdout",
     "output_type": "stream",
     "text": [
      "Vertical shape:  (10,)\n"
     ]
    }
   ],
   "source": [
    "# Fill contour variable\n",
    "\n",
    "# Vertical coordinate\n",
    "filtmp = Dataset(datdir+'RTHRATLW.nc')\n",
    "pres = filtmp.variables['pres'][:] # hPa\n",
    "print(\"Vertical shape: \",np.shape(pres))\n",
    "filtmp.close()\n",
    "\n",
    "# Radar Reflectivity\n",
    "if fillvar_select == 'dbz':\n",
    "    varfil_main = Dataset(datdir+'dbz.nc') # this opens the netcdf file\n",
    "    binvar_f_in = varfil_main.variables['dbz'][t0:t1,:,:,:]\n",
    "    title = 'Ref'\n",
    "    units_var1 = 'dBZ'\n",
    "    cmin = -20; cmax=20\n",
    "\n",
    "# Radiation\n",
    "elif fillvar_select == 'lwcrf':\n",
    "    varfil_main = Dataset(datdir+'RTHRATLW.nc') # this opens the netcdf file\n",
    "    binvar_f_in = varfil_main.variables['RTHRATLW'][t0:t1,:,:,:] * 3600.*24 # K/s --> K/d\n",
    "    varcs = Dataset(datdir+'RTHRATLWC.nc') # this opens the netcdf file\n",
    "    cs = varcs.variables['RTHRATLWC'][t0:t1,:,:,:] * 3600.*24 # K/s --> K/d\n",
    "    binvar_f_in -= cs\n",
    "    title = 'Binned LW-CRF'\n",
    "    figtag = 'lwcrf'\n",
    "    units_var1 = 'K/d'\n",
    "    cmax=4; cmin=-1.*cmax\n",
    "\n",
    "# Horizontal temperature anomaly\n",
    "elif fillvar_select == 'tprm':\n",
    "    varfil_main = Dataset(datdir+'T.nc')\n",
    "    tmp = varfil_main.variables['T'][t0:t1,:,:,:] # K\n",
    "    binvar_f_in = theta_dry(tmp,(pres[np.newaxis,:,np.newaxis,np.newaxis])*1e2) # K\n",
    "    title = \"Binned Th'\"\n",
    "    figtag = 'thprm'\n",
    "    units_var1 = 'K'\n",
    "    cmax=1; cmin=-1.*cmax\n",
    "    # Subtract time-dependent domain average\n",
    "    t_mean = np.mean(np.mean(binvar_f_in,axis=3),axis=2)\n",
    "    binvar_f_in -= t_mean[:,:,np.newaxis,np.newaxis]\n",
    "\n",
    "# Relative humidity\n",
    "elif fillvar_select == 'rh':\n",
    "    varfil_main = Dataset(datdir+'QVAPOR.nc')\n",
    "    qv = varfil_main.variables['QVAPOR'][t0:t1,:,:,:] # kg/kg\n",
    "    varfil_main.close()\n",
    "    varfil_main = Dataset(datdir+'T.nc')\n",
    "    tmpk = varfil_main.variables['T'][t0:t1,:,:,:] # K\n",
    "    binvar_f_in = relh(qv,(pres[np.newaxis,:,np.newaxis,np.newaxis])*1e2,tmpk,ice=1) # RH in %\n",
    "    title = \"Binned RH\"\n",
    "    figtag = 'rh'\n",
    "    units_var1 = '%'\n",
    "    cmax=100; cmin=20\n",
    "\n",
    "varfil_main.close()\n",
    "tmpfil = Dataset(datdir+'T.nc')\n",
    "tmpk = tmpfil.variables['T'][t0:t1,:,:,:] # K\n",
    "tmpfil.close()"
   ]
  },
  {
   "cell_type": "code",
   "execution_count": 6,
   "id": "87689a2d-c3ac-4406-989e-bf714c70ad2c",
   "metadata": {
    "tags": []
   },
   "outputs": [
    {
     "name": "stdout",
     "output_type": "stream",
     "text": [
      "Binvar shape:  (48, 10, 740, 1400)\n"
     ]
    }
   ],
   "source": [
    "# Two-dimensional variables\n",
    "\n",
    "# Conv/strat separation: varout = 1 if convective, = 2 if stratiform, = 3 other, = 0 if no rain\n",
    "varfil_strat = Dataset(datdir+'strat.nc') # this opens the netcdf file\n",
    "strat = varfil_strat.variables['strat'][t0:t1,:,:,:]\n",
    "varfil_strat.close()\n",
    "\n",
    "# LW-ACRE\n",
    "binfil = Dataset(datdir+'LWacre.nc') # this opens the netcdf file\n",
    "lwacre = binfil.variables['LWUPB'][t0:t1,:,:,:] # W/m2\n",
    "binfil.close()\n",
    "\n",
    "# Rainfall\n",
    "binfil = Dataset(datdir+'rainrate.nc') # this opens the netcdf file\n",
    "rain = binfil.variables['rainrate'][t0:t1,:,:,:] # mm/hr\n",
    "binfil.close()\n",
    "\n",
    "# For density\n",
    "# fil = Dataset(datdir+'T.nc')\n",
    "# tmpk = fil.variables['T'][t0:t1,:,:,:] # K\n",
    "# fil.close()\n",
    "# fil = Dataset(datdir+'QVAPOR.nc')\n",
    "# qv = fil.variables['QVAPOR'][t0:t1,:,:,:] # kg/kg\n",
    "# fil.close()\n",
    "\n",
    "bv_shape = np.shape(binvar_f_in)\n",
    "print(\"Binvar shape: \",bv_shape)\n",
    "nt = bv_shape[0]\n",
    "nz = bv_shape[1]\n",
    "nx1 = bv_shape[2]\n",
    "nx2 = bv_shape[3]"
   ]
  },
  {
   "cell_type": "code",
   "execution_count": 7,
   "id": "6ec7f164",
   "metadata": {
    "tags": []
   },
   "outputs": [],
   "source": [
    "# Line contour variable\n",
    "\n",
    "# Vertical motion\n",
    "varfil_cvar = Dataset(datdir+'W.nc') # this opens the netcdf file\n",
    "w = varfil_cvar.variables['W'][t0:t1,:,:,:] # m/s\n",
    "varfil_cvar.close()\n",
    "binvar_c_in = w*1e2 # m/s --> cm/s\n",
    "units_var2='cm/s'\n",
    "lcmin = -20; lcmax=20; lcint=2"
   ]
  },
  {
   "cell_type": "markdown",
   "id": "9075da24-8bf5-4bd5-b3b3-e511cb531f0d",
   "metadata": {},
   "source": [
    "#### Calculate VMF"
   ]
  },
  {
   "cell_type": "code",
   "execution_count": 27,
   "id": "75e37cbf-7e49-46dd-be03-cf2615f9f62e",
   "metadata": {},
   "outputs": [
    {
     "name": "stdout",
     "output_type": "stream",
     "text": [
      "[1000.  900.  800.  700.  600.  500.  400.  300.  200.  100.]\n"
     ]
    }
   ],
   "source": [
    "# Vmf in lower and upper trop\n",
    "dp = 10000. # Pa\n",
    "g = 9.81 # m/s2\n",
    "ktop1=500\n",
    "ktop2=100\n",
    "iktop1 = np.where(pres == ktop1)[0][0]\n",
    "iktop2 = np.where(pres == ktop2)[0][0]\n",
    "print(pres)\n",
    "# Layer VMF = -1/g SUM(w * dp) = m/s * s**2/m * kg/m/s**2 = kg/s/m\n",
    "vmf_lower = np.mean(w[:,0:iktop1,:,:],1) * dp/g\n",
    "vmf_upper = np.mean(w[:,iktop1:iktop2,:,:],1) * dp/g\n",
    "vmf_lower = np.reshape(vmf_lower,(nt,1,nx1,nx2))\n",
    "vmf_upper = np.reshape(vmf_upper,(nt,1,nx1,nx2))\n",
    "vmf = vmf_lower + vmf_upper\n",
    "vmf_th = (vmf_upper - vmf_lower) / vmf"
   ]
  },
  {
   "cell_type": "markdown",
   "id": "2e4d136a-a971-4473-9549-54da10ffb78a",
   "metadata": {},
   "source": [
    "#### New conv/strat index"
   ]
  },
  {
   "cell_type": "code",
   "execution_count": 9,
   "id": "4e102ba3-c1ca-4568-a554-0bda1e59b12b",
   "metadata": {
    "tags": []
   },
   "outputs": [],
   "source": [
    "strat2 = stratiform_index(rain,vmf_lower,vmf_upper,verbose=0)"
   ]
  },
  {
   "cell_type": "markdown",
   "id": "7b41bdac",
   "metadata": {},
   "source": [
    "#### Average for Conv, Strat, and Anvil"
   ]
  },
  {
   "cell_type": "code",
   "execution_count": 28,
   "id": "5ba8b0bb",
   "metadata": {
    "tags": []
   },
   "outputs": [
    {
     "name": "stdout",
     "output_type": "stream",
     "text": [
      "83.55503160795217\n",
      "1072.1226613374217\n",
      "1.188772354752747\n",
      "-0.616101266144855\n"
     ]
    }
   ],
   "source": [
    "indices_s = (strat == 2).nonzero()\n",
    "indices_c = (strat == 1).nonzero()\n",
    "\n",
    "vmf_up_s = np.mean(vmf_upper[indices_s],dtype=np.float64)\n",
    "print(vmf_up_s)\n",
    "vmf_up_c = np.mean(vmf_upper[indices_c],dtype=np.float64)\n",
    "print(vmf_up_c)\n",
    "vmf_th_s = np.mean(vmf_th[indices_s],dtype=np.float64)\n",
    "print(vmf_th_s)\n",
    "vmf_th_c = np.mean(vmf_th[indices_c],dtype=np.float64)\n",
    "print(vmf_th_c)\n",
    "\n",
    "w_s=np.zeros(nz)\n",
    "w_c=np.zeros(nz)\n",
    "\n",
    "for iz in range(nz):\n",
    "    w_s[iz] = np.mean(w[indices_s[0],iz,indices_s[2],indices_s[3]],dtype=np.float64)\n",
    "    w_c[iz] = np.mean(w[indices_c[0],iz,indices_c[2],indices_c[3]],dtype=np.float64)\n"
   ]
  },
  {
   "cell_type": "markdown",
   "id": "cabd401c",
   "metadata": {
    "tags": []
   },
   "source": [
    "---\n",
    "### Plotting routines"
   ]
  },
  {
   "cell_type": "code",
   "execution_count": 11,
   "id": "88803959",
   "metadata": {},
   "outputs": [],
   "source": [
    "font = {'family' : 'sans-serif',\n",
    "        'weight' : 'normal',\n",
    "        'size'   : 16}\n",
    "\n",
    "matplotlib.rc('font', **font)"
   ]
  },
  {
   "cell_type": "markdown",
   "id": "7ce24856-b249-4891-bf32-ebd7652cf828",
   "metadata": {
    "tags": []
   },
   "source": [
    "### Plot profiles"
   ]
  },
  {
   "cell_type": "code",
   "execution_count": 22,
   "id": "e4a6e172",
   "metadata": {},
   "outputs": [
    {
     "data": {
      "image/png": "[encoded data removed]",
      "text/plain": [
       "<Figure size 1008x576 with 1 Axes>"
      ]
     },
     "metadata": {
      "needs_background": "light"
     },
     "output_type": "display_data"
    }
   ],
   "source": [
    "# create figure\n",
    "fig = plt.figure(figsize=(14,8))\n",
    "ax = fig.add_subplot(111)\n",
    "\n",
    "ax.set_title('w Profiles')\n",
    "ax.set_ylabel('Pressure [hPa]')\n",
    "\n",
    "plt.plot(w_c/8, pres, \"-k\", label=\"Convective\")\n",
    "plt.plot(w_s, pres, \"--k\", label=\"Stratiform\")\n",
    "\n",
    "ax.invert_yaxis()\n",
    "ax.set_yscale('log')\n",
    "\n",
    "ax.yaxis.set_major_formatter(matplotlib.ticker.ScalarFormatter())\n",
    "ax.yaxis.set_minor_formatter(matplotlib.ticker.ScalarFormatter())\n",
    "\n",
    "ax.set_xlabel('w, '+units_var2)\n",
    "# plt.xlim(np.min(bins), np.max(bins))\n",
    "\n",
    "plt.show()\n",
    "# plt.savefig(figdir+figtag+'_compcross_'+imemb+'_'+ivar_select+'.png',dpi=200, facecolor='white', \\\n",
    "#             bbox_inches='tight', pad_inches=0.2)"
   ]
  },
  {
   "cell_type": "code",
   "execution_count": null,
   "id": "3142a3fc-6419-40ce-97a1-5a580918d472",
   "metadata": {},
   "outputs": [],
   "source": []
  }
 ],
 "metadata": {
  "kernelspec": {
   "display_name": "Python 3 (ipykernel)",
   "language": "python",
   "name": "python3"
  },
  "language_info": {
   "codemirror_mode": {
    "name": "ipython",
    "version": 3
   },
   "file_extension": ".py",
   "mimetype": "text/x-python",
   "name": "python",
   "nbconvert_exporter": "python",
   "pygments_lexer": "ipython3",
   "version": "3.8.13"
  }
 },
 "nbformat": 4,
 "nbformat_minor": 5
}
