{
 "cells": [
  {
   "attachments": {},
   "cell_type": "markdown",
   "metadata": {},
   "source": [
    "Testing wrf-python for vertical profile information"
   ]
  },
  {
   "cell_type": "code",
   "execution_count": 1,
   "metadata": {},
   "outputs": [],
   "source": [
    "from netCDF4 import Dataset\n",
    "import numpy as np\n",
    "from wrf import getvar, disable_xarray\n",
    "import matplotlib\n",
    "matplotlib.use('pdf')\n",
    "import matplotlib.pyplot as plt\n",
    "import matplotlib.colors as colors\n",
    "from matplotlib import ticker, cm\n",
    "# import subprocess\n",
    "import os\n",
    "import sys\n",
    "import cmocean\n",
    "from mask_tc_track import mask_tc_track\n",
    "from cfads_functions import cfads_var_settings, cfads_var_calc"
   ]
  },
  {
   "cell_type": "code",
   "execution_count": 2,
   "metadata": {},
   "outputs": [],
   "source": [
    "iplot = 'lq'\n",
    "storm='haiyan'\n",
    "\n",
    "# TC tracking\n",
    "ptrack='600' # tracking pressure level\n",
    "var_track = 'rvor' # variable\n",
    "# rmax = 8 # radius (deg) limit for masking around TC center\n",
    "rmax = 3\n",
    "\n",
    "main = \"/ourdisk/hpc/radclouds/auto_archive_notyet/tape_2copies/tc_ens/\"\n",
    "datdir2 = 'post/d02/'"
   ]
  },
  {
   "cell_type": "code",
   "execution_count": 3,
   "metadata": {},
   "outputs": [],
   "source": [
    "##### Get dimensions\n",
    "\n",
    "# datdir = main+storm+'/memb_01/ctl/'+datdir2\n",
    "# varfil_main = Dataset(datdir+'T.nc')\n",
    "# nz = varfil_main.dimensions['level'].size\n",
    "# # lat = varfil_main.variables['XLAT'][:][0] # deg\n",
    "# # lon = varfil_main.variables['XLONG'][:][0] # deg\n",
    "# nx1 = varfil_main.dimensions['lat'].size\n",
    "# nx2 = varfil_main.dimensions['lon'].size#-xmin-1\n",
    "# pres = varfil_main.variables['pres'][:] # hPa\n",
    "# varfil_main.close()\n",
    "\n",
    "# process = subprocess.Popen(['ls '+main+storm+'/memb_01/ctl/wrfout_d02_*'],shell=True,\n",
    "#     stdout=subprocess.PIPE,universal_newlines=True)\n",
    "# output = process.stdout.readline()\n",
    "# wrffil = output.strip() #[3]\n",
    "# varfil_main = Dataset(wrffil)\n",
    "# lat = varfil_main.variables['XLAT'][:][0] # deg\n",
    "# lon = varfil_main.variables['XLONG'][:][0] # deg\n",
    "# varfil_main.close()"
   ]
  },
  {
   "cell_type": "code",
   "execution_count": 4,
   "metadata": {},
   "outputs": [],
   "source": [
    "# Get variable settings\n",
    "bins, fig_title, fig_tag, units_var, scale_mn, \\\n",
    "    units_mn, xrange_mn, xrange_mn2 = cfads_var_settings(iplot)\n",
    "nbin=np.shape(bins)[0]"
   ]
  },
  {
   "cell_type": "code",
   "execution_count": 5,
   "metadata": {},
   "outputs": [],
   "source": [
    "path = main+storm+'/memb_01/ctl/'\n",
    "dirlist = os.listdir(path)\n",
    "subs=\"wrfout_d02\"\n",
    "wrf_files = list(filter(lambda x: subs in x, dirlist))\n",
    "wrf_files.sort()\n",
    "wrf_files = [path + s for s in wrf_files]\n",
    "nwrf=len(wrf_files)"
   ]
  },
  {
   "cell_type": "code",
   "execution_count": 6,
   "metadata": {},
   "outputs": [],
   "source": [
    "# lat = varfil_main.variables['XLAT'][:][0] # deg\n",
    "# lon = varfil_main.variables['XLONG'][:][0] # deg"
   ]
  },
  {
   "cell_type": "code",
   "execution_count": 7,
   "metadata": {},
   "outputs": [],
   "source": [
    "t0=36\n",
    "t1=t0+1\n",
    "\n",
    "# Three-dimensional variables\n",
    "# var = cfads_var_calc(iplot, datdir, pres, t0, t1)\n",
    "\n",
    "# Latent energy, calculated as MSE - DSE\n",
    "\n",
    "for ifil in range(4):\n",
    "    print(ifil)\n",
    "    wrf_file = wrf_files[t0]\n",
    "    ncfile = Dataset(wrf_file)\n",
    "    # tmpk = getvar(ncfile, \"temp\")\n",
    "    # tmpk = getvar(ncfile, \"temp\")\n",
    "    tmpk = ncfile.variables['T'][:,:,:,:] # deg\n",
    "    u = getvar(ncfile, 'ua')\n",
    "    ncfile.close()\n",
    "\n",
    "# varfil_main = Dataset(datdir+'mse.nc')\n",
    "# mse = varfil_main.variables['mse'][t0:t1,:,:,:] # J/kg\n",
    "# dse = varfil_main.variables['dse'][t0:t1,:,:,:] # J/kg\n",
    "# varfil_main.close()\n",
    "# # var = mse - dse\n",
    "\n",
    "# nt, nz, nx1, nx2 = mse.shape\n",
    "# nz+=1\n",
    "# var = np.zeros([nt,nz,nx1,nx2])\n",
    "# var[:,nz-1,:,:]=np.nan\n",
    "# var[:,0:nz-1,:,:]=mse-dse\n"
   ]
  }
 ],
 "metadata": {
  "kernelspec": {
   "display_name": "plotting",
   "language": "python",
   "name": "python3"
  },
  "language_info": {
   "codemirror_mode": {
    "name": "ipython",
    "version": 3
   },
   "file_extension": ".py",
   "mimetype": "text/x-python",
   "name": "python",
   "nbconvert_exporter": "python",
   "pygments_lexer": "ipython3",
   "version": "3.10.10"
  },
  "orig_nbformat": 4
 },
 "nbformat": 4,
 "nbformat_minor": 2
}
