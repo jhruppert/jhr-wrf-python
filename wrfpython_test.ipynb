{
 "cells": [
  {
   "attachments": {},
   "cell_type": "markdown",
   "metadata": {},
   "source": [
    "Testing wrf-python for vertical profile information"
   ]
  },
  {
   "cell_type": "code",
   "execution_count": 1,
   "metadata": {},
   "outputs": [],
   "source": [
    "from netCDF4 import Dataset\n",
    "import numpy as np\n",
    "from wrf import getvar, interplevel, disable_xarray\n",
    "import matplotlib\n",
    "matplotlib.use('pdf')\n",
    "import matplotlib.pyplot as plt\n",
    "import matplotlib.colors as colors\n",
    "from matplotlib import ticker, cm\n",
    "# import subprocess\n",
    "import os\n",
    "import sys\n",
    "import cmocean\n",
    "from mask_tc_track import mask_tc_track\n",
    "from cfads_functions import cfads_var_settings, cfads_var_calc"
   ]
  },
  {
   "cell_type": "code",
   "execution_count": 2,
   "metadata": {},
   "outputs": [],
   "source": [
    "iplot = 'lq'\n",
    "storm='haiyan'\n",
    "\n",
    "# TC tracking\n",
    "ptrack='600' # tracking pressure level\n",
    "var_track = 'rvor' # variable\n",
    "# rmax = 8 # radius (deg) limit for masking around TC center\n",
    "rmax = 3\n",
    "\n",
    "main = \"/ourdisk/hpc/radclouds/auto_archive_notyet/tape_2copies/tc_ens/\"\n",
    "datdir2 = 'post/d02/'"
   ]
  },
  {
   "cell_type": "code",
   "execution_count": 3,
   "metadata": {},
   "outputs": [],
   "source": [
    "##### Get dimensions\n",
    "\n",
    "# datdir = main+storm+'/memb_01/ctl/'+datdir2\n",
    "# varfil_main = Dataset(datdir+'T.nc')\n",
    "# nz = varfil_main.dimensions['level'].size\n",
    "# # lat = varfil_main.variables['XLAT'][:][0] # deg\n",
    "# # lon = varfil_main.variables['XLONG'][:][0] # deg\n",
    "# nx1 = varfil_main.dimensions['lat'].size\n",
    "# nx2 = varfil_main.dimensions['lon'].size#-xmin-1\n",
    "# pres = varfil_main.variables['pres'][:] # hPa\n",
    "# varfil_main.close()\n",
    "\n",
    "# process = subprocess.Popen(['ls '+main+storm+'/memb_01/ctl/wrfout_d02_*'],shell=True,\n",
    "#     stdout=subprocess.PIPE,universal_newlines=True)\n",
    "# output = process.stdout.readline()\n",
    "# wrffil = output.strip() #[3]\n",
    "# varfil_main = Dataset(wrffil)\n",
    "# lat = varfil_main.variables['XLAT'][:][0] # deg\n",
    "# lon = varfil_main.variables['XLONG'][:][0] # deg\n",
    "# varfil_main.close()"
   ]
  },
  {
   "cell_type": "code",
   "execution_count": 4,
   "metadata": {},
   "outputs": [],
   "source": [
    "# Get variable settings\n",
    "bins, fig_title, fig_tag, units_var, scale_mn, \\\n",
    "    units_mn, xrange_mn, xrange_mn2 = cfads_var_settings(iplot)\n",
    "nbin=np.shape(bins)[0]"
   ]
  },
  {
   "cell_type": "code",
   "execution_count": 5,
   "metadata": {},
   "outputs": [],
   "source": [
    "path = main+storm+'/memb_01/ctl/'\n",
    "dirlist = os.listdir(path)\n",
    "subs=\"wrfout_d02\"\n",
    "wrf_files = list(filter(lambda x: subs in x, dirlist))\n",
    "wrf_files.sort()\n",
    "wrf_files = [path + s for s in wrf_files]\n",
    "nwrf=len(wrf_files)"
   ]
  },
  {
   "cell_type": "code",
   "execution_count": 45,
   "metadata": {},
   "outputs": [
    {
     "data": {
      "text/plain": [
       "42"
      ]
     },
     "execution_count": 45,
     "metadata": {},
     "output_type": "execute_result"
    }
   ],
   "source": [
    "# New pressure array based on model levels\n",
    "ptop=100\n",
    "\n",
    "wrf_file = wrf_files[0]\n",
    "wrfin = Dataset(wrf_file)\n",
    "eta_m = wrfin.variables['ZNU'][:,:] # Eta on mass levels\n",
    "eta_m = eta_m.squeeze()\n",
    "ptop_model = wrfin.variables['P_TOP'][:] # Pressure at model top (Pa)\n",
    "wrfin.close()\n",
    "p0 = 101300. # Base state surface pressure (Pa)\n",
    "pd = (eta_m * (p0 - ptop_model) + ptop_model) * 1e-2 # hPa\n",
    "pd = pd[np.where(pd >= ptop)]\n",
    "nlev = len(pd)\n",
    "# lat = varfil_main.variables['XLAT'][:][0] # deg\n",
    "# lon = varfil_main.variables['XLONG'][:][0] # deg"
   ]
  },
  {
   "cell_type": "code",
   "execution_count": 7,
   "metadata": {},
   "outputs": [
    {
     "name": "stdout",
     "output_type": "stream",
     "text": [
      "0\n"
     ]
    }
   ],
   "source": [
    "t0=36\n",
    "t1=t0+1\n",
    "\n",
    "# Three-dimensional variables\n",
    "# var = cfads_var_calc(iplot, datdir, pres, t0, t1)\n",
    "\n",
    "dp=-25\n",
    "plevs = np.arange(1000, 100+dp, -25)\n",
    "nz2 = len(plevs)\n",
    "\n",
    "# Latent energy, calculated as MSE - DSE\n",
    "\n",
    "for ifil in range(1):\n",
    "    print(ifil)\n",
    "    wrf_file = wrf_files[t0]\n",
    "    wrfin = Dataset(wrf_file)\n",
    "    disable_xarray()\n",
    "    # tmpk = getvar(ncfile, \"temp\")\n",
    "    # tmpk = getvar(ncfile, \"temp\")\n",
    "    tmpk = wrfin.variables['T'][:,:,:,:] # deg\n",
    "    p = getvar(wrfin, 'pressure')\n",
    "    # u = getvar(wrfin, 'ua')\n",
    "    # t_interp = interplevel(tmpk, p, plevs)\n",
    "    wrfin.close()\n",
    "\n",
    "# varfil_main = Dataset(datdir+'mse.nc')\n",
    "# mse = varfil_main.variables['mse'][t0:t1,:,:,:] # J/kg\n",
    "# dse = varfil_main.variables['dse'][t0:t1,:,:,:] # J/kg\n",
    "# varfil_main.close()\n",
    "# # var = mse - dse\n",
    "\n",
    "# nt, nz, nx1, nx2 = mse.shape\n",
    "# nz+=1\n",
    "# var = np.zeros([nt,nz,nx1,nx2])\n",
    "# var[:,nz-1,:,:]=np.nan\n",
    "# var[:,0:nz-1,:,:]=mse-dse\n"
   ]
  },
  {
   "cell_type": "code",
   "execution_count": 9,
   "metadata": {},
   "outputs": [],
   "source": [
    "wrf_file = wrf_files[0]\n",
    "wrfin = Dataset(wrf_file)"
   ]
  },
  {
   "cell_type": "code",
   "execution_count": 12,
   "metadata": {},
   "outputs": [],
   "source": [
    "zstag=getvar(wrfin, 'zstag')"
   ]
  },
  {
   "cell_type": "code",
   "execution_count": 15,
   "metadata": {},
   "outputs": [
    {
     "name": "stdout",
     "output_type": "stream",
     "text": [
      "3493.0461\n",
      "3494.462\n",
      "3493.3848\n"
     ]
    }
   ],
   "source": [
    "print(zstag[20,30,30])\n",
    "print(zstag[20,50,30])\n",
    "print(zstag[20,30,50])"
   ]
  }
 ],
 "metadata": {
  "kernelspec": {
   "display_name": "plotting",
   "language": "python",
   "name": "python3"
  },
  "language_info": {
   "codemirror_mode": {
    "name": "ipython",
    "version": 3
   },
   "file_extension": ".py",
   "mimetype": "text/x-python",
   "name": "python",
   "nbconvert_exporter": "python",
   "pygments_lexer": "ipython3",
   "version": "3.10.10"
  },
  "orig_nbformat": 4
 },
 "nbformat": 4,
 "nbformat_minor": 2
}
