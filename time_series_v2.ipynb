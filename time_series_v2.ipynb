{
 "cells": [
  {
   "cell_type": "markdown",
   "id": "43863f18",
   "metadata": {
    "tags": []
   },
   "source": [
    "### Notebook to genereate time series from TC output\n",
    "\n",
    "Will also mask out beyond TC area\n",
    "\n",
    "Assumes output is in a single netcdf file on pressure levels.\n",
    "\n",
    "James Ruppert  \n",
    "jruppert@ou.edu  \n",
    "September 2022"
   ]
  },
  {
   "cell_type": "code",
   "execution_count": 9,
   "id": "4cb54873",
   "metadata": {
    "tags": []
   },
   "outputs": [],
   "source": [
    "from netCDF4 import Dataset\n",
    "import numpy as np\n",
    "import matplotlib\n",
    "matplotlib.use('pdf')\n",
    "import matplotlib.pyplot as plt\n",
    "# import matplotlib.colors as colors\n",
    "from matplotlib import ticker, cm\n",
    "import subprocess\n",
    "from mask_tc_track import mask_tc_track\n",
    "import sys\n",
    "import pandas as pd"
   ]
  },
  {
   "cell_type": "markdown",
   "id": "be248521",
   "metadata": {},
   "source": [
    "#### Settings"
   ]
  },
  {
   "cell_type": "code",
   "execution_count": 2,
   "id": "8197beb4",
   "metadata": {},
   "outputs": [],
   "source": [
    "# storms=['haiyan','maria']\n",
    "#storms=['maria']\n",
    "storm = 'haiyan'\n",
    "# storm = 'maria'\n",
    "# nstorm = np.size(storms)\n",
    "\n",
    "# Strat/Conv index subset\n",
    "istrat=1 # Convective\n",
    "# istrat=2 # Stratiform\n",
    "istrat=4 # Convective/Stratiform fraction\n",
    "\n",
    "# TC tracking\n",
    "ptrack='600' # tracking pressure level\n",
    "var_track = 'rvor' # variable\n",
    "rmax = 8 # radius (deg) limit for masking around TC center"
   ]
  },
  {
   "cell_type": "code",
   "execution_count": 3,
   "id": "c2bc871b",
   "metadata": {},
   "outputs": [],
   "source": [
    "# Strat/Conv index subset\n",
    "if istrat == -1:\n",
    "    fig_extra=''\n",
    "else:\n",
    "    if istrat == 0:\n",
    "        strattag='Nonrain'\n",
    "    elif istrat == 1:\n",
    "        strattag='Conv'\n",
    "    elif istrat == 2:\n",
    "        strattag='Strat'\n",
    "    elif istrat == 3:\n",
    "        strattag='Anv'\n",
    "    elif istrat == 4:\n",
    "        strattag='frac'\n",
    "    fig_extra='_'+strattag.lower()\n",
    "\n",
    "def get_tshift(itest):\n",
    "    if itest == 'ctl':\n",
    "        tshift=0\n",
    "    elif itest == 'ncrf36h':\n",
    "        tshift=36\n",
    "    elif itest == 'ncrf48h':\n",
    "        tshift=48\n",
    "    return tshift"
   ]
  },
  {
   "cell_type": "markdown",
   "id": "82f31aab",
   "metadata": {},
   "source": [
    "#### Main read loop"
   ]
  },
  {
   "cell_type": "code",
   "execution_count": 4,
   "id": "97e5511e",
   "metadata": {},
   "outputs": [
    {
     "name": "stdout",
     "output_type": "stream",
     "text": [
      "Running imemb:  memb_01\n"
     ]
    },
    {
     "name": "stderr",
     "output_type": "stream",
     "text": [
      "/tmp/ipykernel_54785/3455581084.py:85: RuntimeWarning: invalid value encountered in divide\n",
      "  frac_strat = count_conv / count_strat\n"
     ]
    },
    {
     "name": "stdout",
     "output_type": "stream",
     "text": [
      "Running imemb:  memb_02\n"
     ]
    }
   ],
   "source": [
    "# for istorm in range(nstorm):\n",
    "\n",
    "    # storm = storms[istorm]\n",
    "\n",
    "# Tests to read and compare\n",
    "if storm == 'haiyan':\n",
    "    tests = ['ctl','ncrf36h']\n",
    "elif storm == 'maria':\n",
    "#        tests = ['ctl','ncrf36h']\n",
    "    tests = ['ctl','ncrf48h']\n",
    "\n",
    "# How many members\n",
    "nmem = 10 # number of ensemble members (1-5 have NCRF)\n",
    "nmem = 2\n",
    "# nmem = 1\n",
    "# Starting member to read\n",
    "memb0=1\n",
    "\n",
    "# #### Directories\n",
    "\n",
    "figdir = \"/home/jamesrup/figures/tc/ens/\"\n",
    "main = \"/ourdisk/hpc/radclouds/auto_archive_notyet/tape_2copies/tc_ens/\"\n",
    "\n",
    "nums=np.arange(memb0,nmem+memb0,1)\n",
    "nums=nums.astype(str)\n",
    "nustr = np.char.zfill(nums, 2)\n",
    "memb_all=np.char.add('memb_',nustr)\n",
    "\n",
    "\n",
    "##### Get dimensions\n",
    "\n",
    "datdir = main+storm+'/'+memb_all[0]+'/'+tests[0]+'/'\n",
    "varfil_main = Dataset(datdir+'post/d02/T.nc')\n",
    "nz = varfil_main.dimensions['level'].size\n",
    "nx1 = varfil_main.dimensions['lat'].size\n",
    "nx2 = varfil_main.dimensions['lon'].size#-xmin-1\n",
    "pres = varfil_main.variables['pres'][:] # hPa\n",
    "varfil_main.close()\n",
    "\n",
    "process = subprocess.Popen(['ls '+datdir+'/wrfout_d02_*'],shell=True,\n",
    "    stdout=subprocess.PIPE,universal_newlines=True)\n",
    "output = process.stdout.readline()\n",
    "wrffil = output.strip() #[3]\n",
    "varfil_main = Dataset(wrffil)\n",
    "lat = varfil_main.variables['XLAT'][:][0] # deg\n",
    "lon = varfil_main.variables['XLONG'][:][0] # deg\n",
    "varfil_main.close()\n",
    "lon1d=lon[0,:]\n",
    "lat1d=lat[:,0]\n",
    "\n",
    "\n",
    "for imemb in range(nmem):\n",
    "\n",
    "    print('Running imemb: ',memb_all[imemb])\n",
    "\n",
    "\n",
    "    # First test\n",
    "\n",
    "    itest = tests[0]\n",
    "    tshift1 = get_tshift(itest)\n",
    "\n",
    "    datdir = main+storm+'/'+memb_all[imemb]+'/'+itest+'/'\n",
    "    track_file = datdir+'track_'+var_track+'_'+ptrack+'hPa.nc'\n",
    "\n",
    "    # Read variable\n",
    "    datdir = main+storm+'/'+memb_all[imemb]+'/'+itest+'/post/d02/'\n",
    "    varfil_main = Dataset(datdir+'strat.nc')\n",
    "    strat = varfil_main.variables['strat'][:,:,:,:] # 0-non-raining, 1-conv, 2-strat, 3-other/anvil\n",
    "    varfil_main.close()\n",
    "    nt = strat.shape[0]\n",
    "\n",
    "    t0_test1=0\n",
    "    t1_test1=nt\n",
    "\n",
    "    # Mask out around TC center\n",
    "    strat = mask_tc_track(track_file, rmax, strat, lon, lat, t0_test1, t1_test1)\n",
    "    count_total = np.ma.MaskedArray.count(strat, axis=(1,2,3))\n",
    "\n",
    "    # Mask out based on strat/conv\n",
    "    if istrat == 4:\n",
    "        strat_ind = np.ma.masked_where((strat != 2), strat)\n",
    "        conv_ind = np.ma.masked_where((strat != 1), strat)\n",
    "        count_strat = np.ma.MaskedArray.count(strat_ind, axis=(1,2,3))\n",
    "        count_conv = np.ma.MaskedArray.count(conv_ind, axis=(1,2,3))\n",
    "        frac_strat = count_conv / count_strat\n",
    "    else:\n",
    "        strat = np.ma.masked_where((strat != istrat), strat, copy=True)\n",
    "        count_strat = np.ma.MaskedArray.count(strat, axis=(1,2,3))\n",
    "        frac_strat = count_strat / count_total\n",
    "\n",
    "    # Plot variable\n",
    "    # plt.plot(range(t0_test1+tshift1,t1_test1+tshift1), frac_strat, linewidth=1, \n",
    "    #     label=nustr[imemb], color=color_t1, linestyle='solid')\n",
    "\n",
    "    if imemb == 0:\n",
    "        frac_strat_all_t1 = np.reshape(frac_strat, (nt,1))\n",
    "    else:\n",
    "        frac_strat_all_t1 = np.append(frac_strat_all_t1, np.reshape(frac_strat, (nt,1)), axis=1)\n",
    "\n",
    "\n",
    "    # Second test\n",
    "\n",
    "    itest = tests[1]\n",
    "    tshift2 = get_tshift(itest)\n",
    "\n",
    "    datdir = main+storm+'/'+memb_all[imemb]+'/'+itest+'/'\n",
    "    track_file = datdir+'track_'+var_track+'_'+ptrack+'hPa.nc'\n",
    "\n",
    "    # Read variable\n",
    "    datdir = main+storm+'/'+memb_all[imemb]+'/'+itest+'/post/d02/'\n",
    "    varfil_main = Dataset(datdir+'strat.nc')\n",
    "    strat = varfil_main.variables['strat'][:,:,:,:] # 0-non-raining, 1-conv, 2-strat, 3-other/anvil\n",
    "    varfil_main.close()\n",
    "    nt = strat.shape[0]\n",
    "\n",
    "    t0_test2=0\n",
    "    t1_test2=nt\n",
    "\n",
    "    # Mask out where TC track is undefined\n",
    "\n",
    "\n",
    "    # Mask out around TC center\n",
    "    strat = mask_tc_track(track_file, rmax, strat, lon, lat, t0_test2, t1_test2)\n",
    "    count_total = np.ma.MaskedArray.count(strat, axis=(1,2,3))\n",
    "\n",
    "    # Mask out based on strat/conv\n",
    "    if istrat == 4:\n",
    "        strat_ind = np.ma.masked_where((strat != 2), strat)\n",
    "        conv_ind = np.ma.masked_where((strat != 1), strat)\n",
    "        count_strat = np.ma.MaskedArray.count(strat_ind, axis=(1,2,3))\n",
    "        count_conv = np.ma.MaskedArray.count(conv_ind, axis=(1,2,3))\n",
    "        frac_strat = count_conv / count_strat\n",
    "    else:\n",
    "        strat = np.ma.masked_where((strat != istrat), strat, copy=True)\n",
    "        count_strat = np.ma.MaskedArray.count(strat, axis=(1,2,3))\n",
    "        frac_strat = count_strat / count_total\n",
    "\n",
    "    # Plot variable\n",
    "    # plt.plot(range(t0_test2+tshift2,t1_test2+tshift2), frac_strat, linewidth=1,\n",
    "    #     label=nustr[imemb], color=color_t2, linestyle='--')\n",
    "\n",
    "    if imemb == 0:\n",
    "        frac_strat_all_t2 = np.reshape(frac_strat, (nt,1))\n",
    "    else:\n",
    "        frac_strat_all_t2 = np.append(frac_strat_all_t2, np.reshape(frac_strat, (nt,1)), axis=1)\n"
   ]
  },
  {
   "cell_type": "code",
   "execution_count": 7,
   "id": "52f9dfc7",
   "metadata": {},
   "outputs": [
    {
     "name": "stdout",
     "output_type": "stream",
     "text": [
      "[0.51869205 0.54702388 0.6327698  0.64102564 0.67247429 0.61317845\n",
      " 0.626762   0.631847   0.67962149 0.778157   0.76860927 0.67486631\n",
      " 0.65244845 0.60374111 0.62003292 0.657014   0.64176725 0.64295602\n",
      " 0.59781384 0.54973646 0.48715278 0.4379976  0.45851907 0.42068966\n",
      " 0.41406926]\n"
     ]
    }
   ],
   "source": [
    "tmp = frac_strat_all_t2[:,1]\n",
    "print(tmp)"
   ]
  },
  {
   "cell_type": "code",
   "execution_count": 41,
   "id": "a937746e",
   "metadata": {},
   "outputs": [
    {
     "name": "stdout",
     "output_type": "stream",
     "text": [
      "           0         1\n",
      "0   0.602809  0.518692\n",
      "1   0.508872  0.547024\n",
      "2   0.515178  0.632770\n",
      "3   0.568531  0.641026\n",
      "4   0.688843  0.672474\n",
      "5   0.731857  0.613178\n",
      "6   0.704769  0.626762\n",
      "7   0.638509  0.631847\n",
      "8   0.605608  0.679621\n",
      "9   0.592065  0.778157\n",
      "10  0.537010  0.768609\n",
      "11  0.501365  0.674866\n",
      "12  0.530571  0.652448\n",
      "13  0.597047  0.603741\n",
      "14  0.663531  0.620033\n",
      "15  0.717748  0.657014\n",
      "16  0.694266  0.641767\n",
      "17  0.636739  0.642956\n",
      "18  0.673703  0.597814\n",
      "19  0.661522  0.549736\n",
      "20  0.530068  0.487153\n",
      "21  0.483650  0.437998\n",
      "22  0.500572  0.458519\n",
      "23  0.538190  0.420690\n",
      "24  0.574956  0.414069\n"
     ]
    }
   ],
   "source": [
    "# tmp_smooth = pd.DataFrame.rolling(window=3, center=True).mean()\n",
    "tmp2 = np.copy(frac_strat_all_t2)\n",
    "tmpdf = pd.DataFrame(tmp2)\n",
    "tmp_smooth = tmpdf.rolling(window=3, center=True, closed='both', axis=0).mean()\n",
    "\n",
    "# print( tmpdf.rolling(window=3, center=True, closed='both').mean() )\n",
    "print(tmpdf[0][:])\n",
    "# print(tmp_smooth[1][:])\n",
    "# print( tmpdf )"
   ]
  },
  {
   "cell_type": "markdown",
   "id": "cabd401c",
   "metadata": {
    "tags": []
   },
   "source": [
    "---\n",
    "### Plotting routines"
   ]
  },
  {
   "cell_type": "code",
   "execution_count": 1,
   "id": "e4a6e172",
   "metadata": {},
   "outputs": [
    {
     "ename": "NameError",
     "evalue": "name 'matplotlib' is not defined",
     "output_type": "error",
     "traceback": [
      "\u001b[0;31m---------------------------------------------------------------------------\u001b[0m",
      "\u001b[0;31mNameError\u001b[0m                                 Traceback (most recent call last)",
      "Cell \u001b[0;32mIn [1], line 9\u001b[0m\n\u001b[1;32m      1\u001b[0m \u001b[39m# Create figure with all tracks\u001b[39;00m\n\u001b[1;32m      2\u001b[0m \n\u001b[1;32m      3\u001b[0m \u001b[39m# ### Plotting routines ##############################################\u001b[39;00m\n\u001b[1;32m      5\u001b[0m font \u001b[39m=\u001b[39m {\u001b[39m'\u001b[39m\u001b[39mfamily\u001b[39m\u001b[39m'\u001b[39m : \u001b[39m'\u001b[39m\u001b[39msans-serif\u001b[39m\u001b[39m'\u001b[39m,\n\u001b[1;32m      6\u001b[0m         \u001b[39m'\u001b[39m\u001b[39mweight\u001b[39m\u001b[39m'\u001b[39m : \u001b[39m'\u001b[39m\u001b[39mnormal\u001b[39m\u001b[39m'\u001b[39m,\n\u001b[1;32m      7\u001b[0m         \u001b[39m'\u001b[39m\u001b[39msize\u001b[39m\u001b[39m'\u001b[39m   : \u001b[39m16\u001b[39m}\n\u001b[0;32m----> 9\u001b[0m matplotlib\u001b[39m.\u001b[39mrc(\u001b[39m'\u001b[39m\u001b[39mfont\u001b[39m\u001b[39m'\u001b[39m, \u001b[39m*\u001b[39m\u001b[39m*\u001b[39mfont)\n\u001b[1;32m     11\u001b[0m \u001b[39m# ### Combined plot ##############################################\u001b[39;00m\n\u001b[1;32m     13\u001b[0m color_t1 \u001b[39m=\u001b[39m \u001b[39m'\u001b[39m\u001b[39mred\u001b[39m\u001b[39m'\u001b[39m\n",
      "\u001b[0;31mNameError\u001b[0m: name 'matplotlib' is not defined"
     ]
    }
   ],
   "source": [
    "# Create figure with all tracks\n",
    "\n",
    "# ### Plotting routines ##############################################\n",
    "\n",
    "font = {'family' : 'sans-serif',\n",
    "        'weight' : 'normal',\n",
    "        'size'   : 16}\n",
    "\n",
    "matplotlib.rc('font', **font)\n",
    "\n",
    "# ### Combined plot ##############################################\n",
    "\n",
    "color_t1 = 'red'\n",
    "color_t2 = 'blue'\n",
    "\n",
    "# create figure\n",
    "fig = plt.figure(figsize=(14,5))\n",
    "ax = fig.add_subplot(111)\n",
    "\n",
    "ax.set_title(storm.capitalize()+': '+strattag.capitalize(), fontsize=20)\n",
    "ax.set_ylabel('Fraction')\n",
    "ax.set_xlabel('Time [hours]')\n",
    "\n",
    "# Plot individual members\n",
    "# for imemb in range(nmem):\n",
    "#     plt.plot(range(t0_test1+tshift1,t1_test1+tshift1), frac_strat_all_t1[:,imemb], linewidth=1, \n",
    "#         label=nustr[imemb], color=color_t1, linestyle='solid')\n",
    "\n",
    "# Plot means and standard deviations\n",
    "# frac_mean_t1 = np.mean(frac_strat_all_t1, axis=1, where=np.where(np.isfinite(frac_strat_all_t1)))\n",
    "frac_mean_t1 = np.nanmean(frac_strat_all_t1, axis=1)\n",
    "frac_std_t1 = np.nanstd(frac_strat_all_t1, axis=1)\n",
    "mean_pstd_t1 = frac_mean_t1 + frac_std_t1\n",
    "mean_mstd_t1 = frac_mean_t1 - frac_std_t1\n",
    "\n",
    "plt.plot(range(t0_test1 + tshift1, t1_test1 + tshift1), frac_mean_t1, \n",
    "    linewidth=2, label=tests[0].upper(), color=color_t1, linestyle='solid')\n",
    "plt.fill_between(range(t0_test1 + tshift1, t1_test1 + tshift1), mean_pstd_t1, mean_mstd_t1, alpha=0.2,\n",
    "    color=color_t1)\n",
    "\n",
    "# Plot individual members\n",
    "# for imemb in range(nmem):\n",
    "#     plt.plot(range(t0_test2+tshift2,t1_test2+tshift2), frac_strat_all_t2[:,imemb], linewidth=1,\n",
    "#         label=nustr[imemb], color=color_t2, linestyle='solid')\n",
    "\n",
    "# frac_mean_t2 = np.mean(frac_strat_all_t2, axis=1)\n",
    "frac_mean_t2 = np.nanmean(frac_strat_all_t2, axis=1)\n",
    "frac_std_t2 = np.nanstd(frac_strat_all_t2, axis=1)\n",
    "mean_pstd_t2 = frac_mean_t2 + frac_std_t2\n",
    "mean_mstd_t2 = frac_mean_t2 - frac_std_t2\n",
    "\n",
    "plt.plot(range(t0_test2 + tshift2, t1_test2 + tshift2), frac_mean_t2, \n",
    "    linewidth=2, label=tests[1].upper(), color=color_t2, linestyle='--')\n",
    "plt.fill_between(range(t0_test2 + tshift2, t1_test2 + tshift2), mean_pstd_t2, mean_mstd_t2, alpha=0.2,\n",
    "    color=color_t2)\n",
    "\n",
    "# plt.legend(loc=\"upper right\")\n",
    "\n",
    "plt.show()\n",
    "# plt.savefig(figdir+'tser_'+storm+fig_extra+'_'+tests[1]+'.png',dpi=200, facecolor='white', \\\n",
    "#             bbox_inches='tight', pad_inches=0.2)\n",
    "# plt.close()"
   ]
  }
 ],
 "metadata": {
  "kernelspec": {
   "display_name": "Python 3.9.12 ('plotting')",
   "language": "python",
   "name": "python3"
  },
  "language_info": {
   "codemirror_mode": {
    "name": "ipython",
    "version": 3
   },
   "file_extension": ".py",
   "mimetype": "text/x-python",
   "name": "python",
   "nbconvert_exporter": "python",
   "pygments_lexer": "ipython3",
   "version": "3.8.13"
  },
  "vscode": {
   "interpreter": {
    "hash": "ba66c6fa676980db47fde7e4bec9b37760d72b0a5b2c3cc0f1f376041f14579d"
   }
  }
 },
 "nbformat": 4,
 "nbformat_minor": 5
}
